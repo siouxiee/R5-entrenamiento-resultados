{
  "cells": [
    {
      "cell_type": "code",
      "execution_count": 2,
      "metadata": {
        "id": "HTrxAS-_Foxy"
      },
      "outputs": [],
      "source": [
        "#instalar / importar paquetes\n",
        "import pandas as pd\n",
        "import numpy as np\n",
        "import matplotlib.pyplot as plt\n",
        "import seaborn as sns"
      ]
    },
    {
      "cell_type": "code",
      "execution_count": 3,
      "metadata": {
        "id": "t6Ep89S04rVj"
      },
      "outputs": [],
      "source": [
        "import tensorflow as tf"
      ]
    },
    {
      "cell_type": "code",
      "execution_count": 4,
      "metadata": {
        "id": "WIBnElR9GtcJ"
      },
      "outputs": [],
      "source": [
        "import tensorflow.keras.backend as K\n",
        "from keras.models import Sequential\n",
        "from keras.optimizers import Adam\n",
        "from keras.layers import Conv2D, ZeroPadding2D, Activation, Input, concatenate, Conv1D, dot, Dropout\n",
        "from keras.models import Model\n",
        "from keras.layers import BatchNormalization  # Modificación realizada aquí\n",
        "from keras.layers import MaxPooling2D, MaxPooling1D\n",
        "from keras.layers import Concatenate\n",
        "from keras.layers import Lambda, Flatten, Dense, Dropout\n",
        "from keras.initializers import glorot_uniform\n",
        "from keras.layers import Layer\n",
        "from keras.regularizers import l2\n",
        "import os\n",
        "#from keras import backend as K"
      ]
    },
    {
      "cell_type": "code",
      "execution_count": 5,
      "metadata": {
        "id": "1BqVGitqF1S5"
      },
      "outputs": [],
      "source": [
        "seed = 2556\n",
        "np.random.seed(seed)"
      ]
    },
    {
      "cell_type": "code",
      "execution_count": 6,
      "metadata": {
        "id": "PE4tz8WVEhm3"
      },
      "outputs": [],
      "source": [
        "data_path = \"tcga_common_data_peru.csv\"\n",
        "TCGA_data = pd.read_csv(data_path,sep=',')"
      ]
    },
    {
      "cell_type": "code",
      "execution_count": 7,
      "metadata": {
        "colab": {
          "base_uri": "https://localhost:8080/",
          "height": 178
        },
        "id": "vmbMLWBbtUjv",
        "outputId": "15103f21-9563-409b-9385-47a05c673e25"
      },
      "outputs": [
        {
          "output_type": "execute_result",
          "data": {
            "text/plain": [
              "labels\n",
              "cancer     373\n",
              "healthy     50\n",
              "Name: count, dtype: int64"
            ],
            "text/html": [
              "<div>\n",
              "<style scoped>\n",
              "    .dataframe tbody tr th:only-of-type {\n",
              "        vertical-align: middle;\n",
              "    }\n",
              "\n",
              "    .dataframe tbody tr th {\n",
              "        vertical-align: top;\n",
              "    }\n",
              "\n",
              "    .dataframe thead th {\n",
              "        text-align: right;\n",
              "    }\n",
              "</style>\n",
              "<table border=\"1\" class=\"dataframe\">\n",
              "  <thead>\n",
              "    <tr style=\"text-align: right;\">\n",
              "      <th></th>\n",
              "      <th>count</th>\n",
              "    </tr>\n",
              "    <tr>\n",
              "      <th>labels</th>\n",
              "      <th></th>\n",
              "    </tr>\n",
              "  </thead>\n",
              "  <tbody>\n",
              "    <tr>\n",
              "      <th>cancer</th>\n",
              "      <td>373</td>\n",
              "    </tr>\n",
              "    <tr>\n",
              "      <th>healthy</th>\n",
              "      <td>50</td>\n",
              "    </tr>\n",
              "  </tbody>\n",
              "</table>\n",
              "</div><br><label><b>dtype:</b> int64</label>"
            ]
          },
          "metadata": {},
          "execution_count": 7
        }
      ],
      "source": [
        "TCGA_data.value_counts('labels')"
      ]
    },
    {
      "cell_type": "code",
      "execution_count": 8,
      "metadata": {
        "id": "aylH9bfsFupo"
      },
      "outputs": [],
      "source": [
        "#selecciona datos de rna_seq_data_common donde labels es cancer\n",
        "TCGA_data__cancer = TCGA_data[TCGA_data.labels == 'cancer'].sample(70, random_state=seed)\n",
        "#selecciona 50 datos de rna_seq_data_common donde labels es healthy\n",
        "TCGA_data_healthy = TCGA_data[TCGA_data.labels == 'healthy'].sample(50, random_state=seed)\n",
        "#concatena los datos\n",
        "TCGA_data_balanced = pd.concat([TCGA_data__cancer, TCGA_data_healthy])"
      ]
    },
    {
      "cell_type": "code",
      "execution_count": 9,
      "metadata": {
        "id": "mM_yk86lF9lK"
      },
      "outputs": [],
      "source": [
        "#y = TCGA_data_balanced['labels'].values\n",
        "y = np.where(TCGA_data_balanced['labels'].values == 'cancer', 1, 0)\n",
        "X = TCGA_data_balanced.drop('labels', axis=1).values"
      ]
    },
    {
      "cell_type": "code",
      "execution_count": 10,
      "metadata": {
        "colab": {
          "base_uri": "https://localhost:8080/"
        },
        "id": "dwDzQYW4GJLm",
        "outputId": "1d57f36b-6994-4cc2-fd57-a409c8bf708f"
      },
      "outputs": [
        {
          "output_type": "stream",
          "name": "stdout",
          "text": [
            "[[ 0 50]\n",
            " [ 1 70]]\n"
          ]
        }
      ],
      "source": [
        "#cuenta la cantidad de valores por clase en y\n",
        "unique, counts = np.unique(y, return_counts=True)\n",
        "#impresión de la cantidad de valores por clase\n",
        "print(np.asarray((unique, counts)).T)"
      ]
    },
    {
      "cell_type": "code",
      "execution_count": 11,
      "metadata": {
        "id": "OLAlAgfEHYBJ"
      },
      "outputs": [],
      "source": [
        "from sklearn.metrics import accuracy_score, roc_auc_score\n",
        "\n",
        "def evaluate_model(model):\n",
        "    pairs_test, targets_test = get_test_pairs()\n",
        "    predictions = model.predict(pairs_test)\n",
        "    predictions = predictions.ravel()\n",
        "\n",
        "    # Calcular métricas\n",
        "    acc = accuracy_score(targets_test, predictions > 0.5)\n",
        "    roc_auc = roc_auc_score(targets_test, predictions)\n",
        "\n",
        "    print(f\"Precisión en el conjunto de prueba: {acc:.2f}\")\n",
        "    print(f\"ROC-AUC en el conjunto de prueba: {roc_auc:.2f}\")"
      ]
    },
    {
      "cell_type": "code",
      "execution_count": 12,
      "metadata": {
        "id": "U7a6P0qzHYxx"
      },
      "outputs": [],
      "source": [
        "def data_generator(batch_size):\n",
        "    while True:\n",
        "        inputs, targets = get_batch(batch_size)\n",
        "        yield inputs, targets"
      ]
    },
    {
      "cell_type": "code",
      "execution_count": 13,
      "metadata": {
        "id": "y72OaNpXz8qY"
      },
      "outputs": [],
      "source": [
        "def get_siamese_model(input_shape, params):\n",
        "    left_input = Input(shape=input_shape)\n",
        "    right_input = Input(shape=input_shape)\n",
        "\n",
        "    # Red Neuronal Convolucional Compartida\n",
        "    model = Sequential()\n",
        "    model.add(Conv1D(filters=params['filters'], kernel_size=params['kernel_size'], activation='relu', input_shape=input_shape))\n",
        "    model.add(MaxPooling1D(pool_size=2))\n",
        "    model.add(Conv1D(filters=params['filters'] * 2, kernel_size=params['kernel_size'] // 2, activation='relu'))\n",
        "    model.add(MaxPooling1D(pool_size=2))\n",
        "    model.add(Flatten())\n",
        "    model.add(Dense(params['dense_units'], activation='sigmoid'))\n",
        "\n",
        "    # Generar las codificaciones para las dos entradas\n",
        "    encoded_l = model(left_input)\n",
        "    encoded_r = model(right_input)\n",
        "\n",
        "    # Calcular la distancia absoluta entre las codificaciones\n",
        "    L1_layer = Lambda(lambda tensors: K.abs(tensors[0] - tensors[1]))\n",
        "    L1_distance = L1_layer([encoded_l, encoded_r])\n",
        "\n",
        "    # Añadir una capa final con activación sigmoide\n",
        "    prediction = Dense(1, activation='sigmoid')(L1_distance)\n",
        "\n",
        "    # Definir el modelo Siamés\n",
        "    siamese_net = Model(inputs=[left_input, right_input], outputs=prediction)\n",
        "    return siamese_net\n",
        "\n",
        "\n"
      ]
    },
    {
      "cell_type": "code",
      "execution_count": 14,
      "metadata": {
        "id": "CJIJukmbHiu3"
      },
      "outputs": [],
      "source": [
        "def get_test_pairs(sample_size=1000):\n",
        "    # Inicializar listas para almacenar los pares y las etiquetas\n",
        "    pairs = [[], []]\n",
        "    targets = []\n",
        "\n",
        "    # Generar índices aleatorios para los pares\n",
        "    indices = np.random.choice(len(y_test), size=(sample_size, 2), replace=True)\n",
        "\n",
        "    for idx1, idx2 in indices:\n",
        "        pairs[0].append(x_test.iloc[idx1].values.reshape(genes_len, 1))\n",
        "        pairs[1].append(x_test.iloc[idx2].values.reshape(genes_len, 1))\n",
        "        targets.append(int(y_test[idx1] == y_test[idx2]))\n",
        "\n",
        "    # Convertir las listas en arrays numpy\n",
        "    pairs[0] = np.array(pairs[0])\n",
        "    pairs[1] = np.array(pairs[1])\n",
        "    targets = np.array(targets)\n",
        "\n",
        "    return pairs, targets\n"
      ]
    },
    {
      "cell_type": "code",
      "source": [
        "def get_batch(batch_size, x_data, y_data):\n",
        "    # Implementación de get_batch utilizando x_data y y_data\n",
        "    half_batch = batch_size // 2\n",
        "    pairs = [np.zeros((batch_size, genes_len, 1)) for _ in range(2)]\n",
        "    targets = np.zeros((batch_size,))\n",
        "    targets[half_batch:] = 1  # La segunda mitad son pares de la misma clase\n",
        "\n",
        "    # Obtener índices de muestras de cada clase\n",
        "    cancer_indices = np.where(y_data == 1)[0]\n",
        "    non_cancer_indices = np.where(y_data == 0)[0]\n",
        "\n",
        "    for i in range(half_batch):\n",
        "        # Pares de clases diferentes\n",
        "        idx_cancer = np.random.choice(cancer_indices)\n",
        "        idx_non_cancer = np.random.choice(non_cancer_indices)\n",
        "\n",
        "        pairs[0][i, :, 0] = x_data.iloc[idx_cancer].values\n",
        "        pairs[1][i, :, 0] = x_data.iloc[idx_non_cancer].values\n",
        "\n",
        "    for i in range(half_batch, batch_size):\n",
        "        # Pares de la misma clase\n",
        "        if np.random.rand() < 0.5:\n",
        "            # Ambos cáncer\n",
        "            if len(cancer_indices) >= 2:\n",
        "                idx1, idx2 = np.random.choice(cancer_indices, size=2, replace=False)\n",
        "            else:\n",
        "                idx1 = idx2 = np.random.choice(cancer_indices)\n",
        "        else:\n",
        "            # Ambos no cáncer\n",
        "            if len(non_cancer_indices) >= 2:\n",
        "                idx1, idx2 = np.random.choice(non_cancer_indices, size=2, replace=False)\n",
        "            else:\n",
        "                idx1 = idx2 = np.random.choice(non_cancer_indices)\n",
        "\n",
        "        pairs[0][i, :, 0] = x_data.iloc[idx1].values\n",
        "        pairs[1][i, :, 0] = x_data.iloc[idx2].values\n",
        "\n",
        "    return pairs, targets"
      ],
      "metadata": {
        "id": "yN0T99-SYBBP"
      },
      "execution_count": 15,
      "outputs": []
    },
    {
      "cell_type": "code",
      "source": [
        "def get_predictions(model, x_data, y_data, sample_size=1000):\n",
        "    # Inicializar listas para almacenar los pares y las etiquetas\n",
        "    pairs = [[], []]\n",
        "    targets = []\n",
        "\n",
        "    # Generar índices aleatorios para los pares\n",
        "    indices = np.random.choice(len(y_data), size=(sample_size, 2), replace=True)\n",
        "\n",
        "    for idx1, idx2 in indices:\n",
        "        pairs[0].append(x_data.iloc[idx1].values.reshape(genes_len, 1))\n",
        "        pairs[1].append(x_data.iloc[idx2].values.reshape(genes_len, 1))\n",
        "        targets.append(int(y_data[idx1] == y_data[idx2]))\n",
        "\n",
        "    # Convertir las listas en arrays numpy\n",
        "    pairs[0] = np.array(pairs[0])\n",
        "    pairs[1] = np.array(pairs[1])\n",
        "    targets = np.array(targets)\n",
        "\n",
        "    # Obtener las predicciones del modelo\n",
        "    predictions = model.predict([pairs[0], pairs[1]])\n",
        "\n",
        "    return predictions, targets\n"
      ],
      "metadata": {
        "id": "8sn-ZBOVq8Wp"
      },
      "execution_count": 16,
      "outputs": []
    },
    {
      "cell_type": "code",
      "source": [
        "def evaluate_model(model, x_data, y_data, sample_size=1000):\n",
        "    # Similar a get_predictions, pero devuelve una métrica (por ejemplo, precisión)\n",
        "    predictions, targets = get_predictions(model, x_data, y_data, sample_size=sample_size)\n",
        "    predictions = predictions.ravel()\n",
        "\n",
        "    # Calcular métricas\n",
        "    acc = accuracy_score(targets, predictions > 0.5)\n",
        "    return acc\n"
      ],
      "metadata": {
        "id": "RM2ilmeiqwcO"
      },
      "execution_count": 17,
      "outputs": []
    },
    {
      "cell_type": "code",
      "source": [
        "hyperparameter_grid = {\n",
        "    'filters': [64], #dejarlo en 64 (32 peores resutlados)\n",
        "    'kernel_size': [5, 10], #\n",
        "    'dense_units': [64, 128], #\n",
        "    'learning_rate': [0.001, 0.0001], #\n",
        "    'batch_size': [16], # solo 32 y 16 (mejor 16)\n",
        "    'n_iter': [2000] # early stopping para 2000 paciencia de 50 solo 2000\n",
        "}\n",
        "#hacer split\n",
        "#hacer otro split no hacer cross validations, early stopingpor cada config"
      ],
      "metadata": {
        "id": "EJVqlpw6jTSC"
      },
      "execution_count": 18,
      "outputs": []
    },
    {
      "cell_type": "code",
      "source": [
        "import itertools\n",
        "\n",
        "param_keys = list(hyperparameter_grid.keys())\n",
        "param_values = list(hyperparameter_grid.values())\n",
        "param_combinations = [dict(zip(param_keys, values)) for values in itertools.product(*param_values)]"
      ],
      "metadata": {
        "id": "3V3DtJm-jTt1"
      },
      "execution_count": 19,
      "outputs": []
    },
    {
      "cell_type": "code",
      "execution_count": 20,
      "metadata": {
        "id": "hCoM7Bm_x2Ut"
      },
      "outputs": [],
      "source": [
        "import json\n",
        "# Cargar las divisiones guardadas desde el archivo\n",
        "with open('splits.json', 'r') as f:\n",
        "    splits = json.load(f)\n",
        "\n",
        "train_indices_list = splits['train']\n",
        "test_indices_list = splits['test']\n",
        "n_splits = len(train_indices_list)\n"
      ]
    },
    {
      "cell_type": "code",
      "execution_count": 21,
      "metadata": {
        "id": "TK5_Lm87zKY1"
      },
      "outputs": [],
      "source": [
        "# Obtener el checkpoint más reciente\n",
        "#latest_checkpoint = None\n",
        "#checkpoint_files = sorted([f for f in os.listdir(checkpoint_dir) if f.endswith('.weights.h5')])\n",
        "\n",
        "#if checkpoint_files:\n",
        "#    latest_checkpoint_file = checkpoint_files[-1]\n",
        "#    latest_checkpoint = os.path.join(checkpoint_dir, latest_checkpoint_file)\n",
        "#    print(f'Último checkpoint encontrado: {latest_checkpoint}')\n",
        "#    # Obtener el número del pliegue y la iteración del checkpoint\n",
        "#    current_fold = int(latest_checkpoint_file.split('fold_')[1].split('_ckpt')[0])\n",
        "#    start_iter = int(latest_checkpoint_file.split('_iter_')[1].split('.weights.h5')[0]) + 1\n",
        "#else:\n",
        "##    print('No se encontraron checkpoints en el directorio.')\n",
        " #   latest_checkpoint = None\n",
        " #   current_fold = 1\n",
        " #   start_iter = 1"
      ]
    },
    {
      "cell_type": "code",
      "source": [
        "from google.colab import drive\n",
        "drive.mount('/content/drive')"
      ],
      "metadata": {
        "colab": {
          "base_uri": "https://localhost:8080/"
        },
        "id": "EsddbPOKirYi",
        "outputId": "cc3b6059-4216-42c7-a108-7dbbad85afe1"
      },
      "execution_count": 22,
      "outputs": [
        {
          "output_type": "stream",
          "name": "stdout",
          "text": [
            "Mounted at /content/drive\n"
          ]
        }
      ]
    },
    {
      "cell_type": "code",
      "source": [
        "from sklearn.feature_selection import mutual_info_classif, RFE\n",
        "from sklearn import linear_model\n",
        "from sklearn.preprocessing import StandardScaler\n",
        "\n",
        "results = []\n",
        "predictions_per_fold = []\n",
        "\n",
        "current_fold = 1\n",
        "current_param_index = 0\n",
        "checkpoint_root_dir = '/content/drive/My Drive/CancerCiamese/checkpoints/'\n",
        "# Verificar si hay checkpoints existentes\n",
        "if os.path.exists(checkpoint_root_dir):\n",
        "    # Obtener todas las combinaciones de hiperparámetros con checkpoints\n",
        "    hyperparam_dirs = sorted([d for d in os.listdir(checkpoint_root_dir) if d.startswith('hyperparam_')])\n",
        "\n",
        "    if hyperparam_dirs:\n",
        "        # Obtener la última combinación de hiperparámetros entrenada\n",
        "        latest_hyperparam_dir = hyperparam_dirs[-1]\n",
        "        current_param_index = int(latest_hyperparam_dir.split('_')[1]) - 1  # Restar 1 porque los índices empiezan en 0\n",
        "\n",
        "        # Verificar los pliegues dentro de la última combinación de hiperparámetros\n",
        "        hyperparam_dir = os.path.join(checkpoint_root_dir, latest_hyperparam_dir)\n",
        "        fold_dirs = sorted([d for d in os.listdir(hyperparam_dir) if d.startswith('fold_')])\n",
        "\n",
        "        if fold_dirs:\n",
        "            # Obtener el último pliegue entrenado\n",
        "            latest_fold_dir = fold_dirs[-1]\n",
        "            current_fold = int(latest_fold_dir.split('_')[1])\n",
        "        else:\n",
        "            current_fold = 1\n",
        "    else:\n",
        "        current_param_index = 0\n",
        "        current_fold = 1\n",
        "else:\n",
        "    current_param_index = 0\n",
        "    current_fold = 1\n",
        "\n",
        "print(f\"Continuando desde combinación de hiperparámetros {current_param_index + 1}, pliegue {current_fold}\")\n"
      ],
      "metadata": {
        "colab": {
          "base_uri": "https://localhost:8080/"
        },
        "id": "q__nzJcwsZB_",
        "outputId": "aa0ef092-f074-4225-a110-a3405ba0a5ab"
      },
      "execution_count": 23,
      "outputs": [
        {
          "output_type": "stream",
          "name": "stdout",
          "text": [
            "Continuando desde combinación de hiperparámetros 8, pliegue 9\n"
          ]
        }
      ]
    },
    {
      "cell_type": "code",
      "source": [
        "results_dir = '/content/drive/My Drive/CancerCiamese/results'\n",
        "os.makedirs(results_dir, exist_ok=True)"
      ],
      "metadata": {
        "id": "X61e7IG8wKpG"
      },
      "execution_count": 24,
      "outputs": []
    },
    {
      "cell_type": "code",
      "source": [
        "import pickle  # Para guardar y cargar datos en archivos binarios\n",
        "# Función para guardar resultados en Google Drive\n",
        "def save_results_to_drive(results, predictions_per_fold, filename):\n",
        "    filepath = os.path.join(results_dir, filename)\n",
        "    with open(filepath, 'wb') as f:\n",
        "        pickle.dump({'results': results, 'predictions_per_fold': predictions_per_fold}, f)\n",
        "    print(f\"Resultados guardados en {filepath}\")\n",
        "\n",
        "# Función para cargar resultados guardados desde Google Drive\n",
        "def load_results_from_drive(filename):\n",
        "    filepath = os.path.join(results_dir, filename)\n",
        "    if os.path.exists(filepath):\n",
        "        with open(filepath, 'rb') as f:\n",
        "            data = pickle.load(f)\n",
        "        print(f\"Resultados cargados desde {filepath}\")\n",
        "        return data['results'], data['predictions_per_fold']\n",
        "    else:\n",
        "        print(f\"No se encontró el archivo {filepath}. Iniciando nuevos resultados.\")\n",
        "        return [], []"
      ],
      "metadata": {
        "id": "o8eSWK32wAlO"
      },
      "execution_count": 25,
      "outputs": []
    },
    {
      "cell_type": "code",
      "source": [
        "# Cargar resultados previos si existen\n",
        "results, predictions_per_fold = load_results_from_drive('checkpoint_results.pkl')"
      ],
      "metadata": {
        "colab": {
          "base_uri": "https://localhost:8080/"
        },
        "id": "GO4DEmTy8tVA",
        "outputId": "581aef2b-d7c9-4c00-d9e8-5ba4dc20cda6"
      },
      "execution_count": 26,
      "outputs": [
        {
          "output_type": "stream",
          "name": "stdout",
          "text": [
            "Resultados cargados desde /content/drive/My Drive/CancerCiamese/results/checkpoint_results.pkl\n"
          ]
        }
      ]
    },
    {
      "cell_type": "code",
      "source": [
        "for param_index, params in enumerate(param_combinations):\n",
        "    # Verificar si ya existe un resultado para esta combinación de hiperparámetros\n",
        "    if any(result['params'] == params for result in results):\n",
        "        print(f\"SALTANDO combinación de hiperparámetros {param_index + 1} porque ya fue evaluada.\")\n",
        "        continue  # Saltar combinaciones ya evaluadas\n",
        "\n",
        "    print(f\"\\nEvaluando combinación de hiperparámetros {param_index + 1}/{len(param_combinations)}: {params}\")\n",
        "    fold_accuracies = []\n",
        "    fold_predictions = []\n",
        "\n",
        "    # Obtener el número de pliegues a entrenar para esta combinación\n",
        "    for fold in range(1, n_splits + 1):\n",
        "        print(f\"\\nEvaluando el pliegue {fold}/{n_splits}\")\n",
        "\n",
        "        # Cargar los índices de entrenamiento y prueba\n",
        "        train_indices = train_indices_list[fold - 1]\n",
        "        test_indices = test_indices_list[fold - 1]\n",
        "\n",
        "        X_train, X_test = X[train_indices], X[test_indices]\n",
        "        y_train, y_test = y[train_indices], y[test_indices]\n",
        "\n",
        "        # Convertir los datos a DataFrames\n",
        "        X_train_df = pd.DataFrame(X_train)\n",
        "        X_test_df = pd.DataFrame(X_test)\n",
        "\n",
        "        # Selección de características con MI y RFE\n",
        "        MI = mutual_info_classif(X_train_df, y_train)\n",
        "        n_features_mi = min(5000, X_train_df.shape[1])  # Asegurar que no excede el número de características\n",
        "        selected_scores_indices = np.argsort(MI)[::-1][:n_features_mi]\n",
        "\n",
        "        X_train_mi = X_train_df.iloc[:, selected_scores_indices]\n",
        "        X_test_mi = X_test_df.iloc[:, selected_scores_indices]\n",
        "\n",
        "        estimator = linear_model.LogisticRegression(max_iter=700, solver='liblinear')\n",
        "        n_features_rfe = 60  # Ajustar si es necesario\n",
        "        rfe = RFE(estimator=estimator, n_features_to_select=n_features_rfe, step=1)\n",
        "        rfe.fit(X_train_mi, y_train)\n",
        "\n",
        "        X_train_final = rfe.transform(X_train_mi)\n",
        "        X_test_final = rfe.transform(X_test_mi)\n",
        "\n",
        "        scaler = StandardScaler()\n",
        "        X_train_final = scaler.fit_transform(X_train_final)\n",
        "        X_test_final = scaler.transform(X_test_final)\n",
        "\n",
        "        X_train_final = X_train_final.astype('float32')\n",
        "        X_test_final = X_test_final.astype('float32')\n",
        "\n",
        "        # Actualizar genes_len e input_shape\n",
        "        genes_len = X_train_final.shape[1]\n",
        "        input_shape = (genes_len, 1)\n",
        "\n",
        "        x_train = pd.DataFrame(X_train_final)\n",
        "        x_test = pd.DataFrame(X_test_final)\n",
        "\n",
        "        # Definir y compilar el modelo\n",
        "        model = get_siamese_model(input_shape, params)\n",
        "        optimizer = tf.keras.optimizers.Adam(learning_rate=params['learning_rate'])\n",
        "        model.compile(loss='binary_crossentropy', optimizer=optimizer, metrics=['accuracy'])\n",
        "\n",
        "        # Cargar los pesos del checkpoint\n",
        "        checkpoint_dir = f'{checkpoint_root_dir}/hyperparam_{param_index+1}/fold_{fold}/'\n",
        "        checkpoint_files = sorted([f for f in os.listdir(checkpoint_dir) if f.endswith('.weights.h5')])\n",
        "\n",
        "        if checkpoint_files:\n",
        "            latest_checkpoint_file = checkpoint_files[-1]\n",
        "            latest_checkpoint = os.path.join(checkpoint_dir, latest_checkpoint_file)\n",
        "            model.load_weights(latest_checkpoint)\n",
        "            print(f'Pesos cargados desde {latest_checkpoint}')\n",
        "\n",
        "            # Evaluar el modelo en el conjunto de validación\n",
        "            val_acc = evaluate_model(model, x_test, y_test)\n",
        "            fold_accuracies.append(val_acc)\n",
        "            print(f\"Precisión en validación del pliegue {fold}: {val_acc:.4f}\")\n",
        "\n",
        "            # Obtener predicciones finales en el conjunto de validación\n",
        "            predictions, targets = get_predictions(model, x_test, y_test)\n",
        "            fold_predictions.append((predictions, targets))\n",
        "        else:\n",
        "            print(f\"No se encontraron checkpoints para la combinación {param_index + 1}, pliegue {fold}. Saltando.\")\n",
        "\n",
        "    # Calcular la precisión promedio sobre los pliegues\n",
        "    avg_accuracy = np.mean(fold_accuracies)\n",
        "    print(f\"Precisión promedio para la combinación {param_index + 1}: {avg_accuracy:.4f}\")\n",
        "\n",
        "    # Almacenar los resultados\n",
        "    results.append({\n",
        "        'params': params,\n",
        "        'accuracy': avg_accuracy\n",
        "    })\n",
        "\n",
        "    # Almacenar las predicciones\n",
        "    predictions_per_fold.append({\n",
        "        'params': params,\n",
        "        'predictions': fold_predictions\n",
        "    })\n",
        "\n",
        "    # Guardar los resultados actuales en Google Drive\n",
        "    save_results_to_drive(results, predictions_per_fold, 'checkpoint_results.pkl')"
      ],
      "metadata": {
        "colab": {
          "base_uri": "https://localhost:8080/"
        },
        "id": "HvW-ef-O9Ftp",
        "outputId": "c0a0fb4a-78a9-4f89-d7b5-764e322d086a"
      },
      "execution_count": 27,
      "outputs": [
        {
          "output_type": "stream",
          "name": "stdout",
          "text": [
            "SALTANDO combinación de hiperparámetros 1 porque ya fue evaluada.\n",
            "\n",
            "Evaluando combinación de hiperparámetros 2/8: {'filters': 64, 'kernel_size': 5, 'dense_units': 64, 'learning_rate': 0.0001, 'batch_size': 16, 'n_iter': 2000}\n",
            "\n",
            "Evaluando el pliegue 1/10\n"
          ]
        },
        {
          "output_type": "stream",
          "name": "stderr",
          "text": [
            "/usr/local/lib/python3.10/dist-packages/keras/src/layers/convolutional/base_conv.py:107: UserWarning: Do not pass an `input_shape`/`input_dim` argument to a layer. When using Sequential models, prefer using an `Input(shape)` object as the first layer in the model instead.\n",
            "  super().__init__(activity_regularizer=activity_regularizer, **kwargs)\n",
            "/usr/local/lib/python3.10/dist-packages/keras/src/saving/saving_lib.py:576: UserWarning: Skipping variable loading for optimizer 'adam', because it has 2 variables whereas the saved optimizer has 18 variables. \n",
            "  saveable.load_own_variables(weights_store.get(inner_path))\n"
          ]
        },
        {
          "output_type": "stream",
          "name": "stdout",
          "text": [
            "Pesos cargados desde /content/drive/My Drive/CancerCiamese/checkpoints//hyperparam_2/fold_1/ckpt_fold_1_iter_50.weights.h5\n",
            "\u001b[1m32/32\u001b[0m \u001b[32m━━━━━━━━━━━━━━━━━━━━\u001b[0m\u001b[37m\u001b[0m \u001b[1m1s\u001b[0m 15ms/step\n",
            "Precisión en validación del pliegue 1: 0.7660\n",
            "\u001b[1m32/32\u001b[0m \u001b[32m━━━━━━━━━━━━━━━━━━━━\u001b[0m\u001b[37m\u001b[0m \u001b[1m0s\u001b[0m 8ms/step\n",
            "\n",
            "Evaluando el pliegue 2/10\n"
          ]
        },
        {
          "output_type": "stream",
          "name": "stderr",
          "text": [
            "/usr/local/lib/python3.10/dist-packages/keras/src/layers/convolutional/base_conv.py:107: UserWarning: Do not pass an `input_shape`/`input_dim` argument to a layer. When using Sequential models, prefer using an `Input(shape)` object as the first layer in the model instead.\n",
            "  super().__init__(activity_regularizer=activity_regularizer, **kwargs)\n",
            "/usr/local/lib/python3.10/dist-packages/keras/src/saving/saving_lib.py:576: UserWarning: Skipping variable loading for optimizer 'adam', because it has 2 variables whereas the saved optimizer has 18 variables. \n",
            "  saveable.load_own_variables(weights_store.get(inner_path))\n"
          ]
        },
        {
          "output_type": "stream",
          "name": "stdout",
          "text": [
            "Pesos cargados desde /content/drive/My Drive/CancerCiamese/checkpoints//hyperparam_2/fold_2/ckpt_fold_2_iter_50.weights.h5\n",
            "\u001b[1m32/32\u001b[0m \u001b[32m━━━━━━━━━━━━━━━━━━━━\u001b[0m\u001b[37m\u001b[0m \u001b[1m0s\u001b[0m 8ms/step\n",
            "Precisión en validación del pliegue 2: 0.9280\n",
            "\u001b[1m32/32\u001b[0m \u001b[32m━━━━━━━━━━━━━━━━━━━━\u001b[0m\u001b[37m\u001b[0m \u001b[1m0s\u001b[0m 4ms/step\n",
            "\n",
            "Evaluando el pliegue 3/10\n"
          ]
        },
        {
          "output_type": "stream",
          "name": "stderr",
          "text": [
            "/usr/local/lib/python3.10/dist-packages/keras/src/layers/convolutional/base_conv.py:107: UserWarning: Do not pass an `input_shape`/`input_dim` argument to a layer. When using Sequential models, prefer using an `Input(shape)` object as the first layer in the model instead.\n",
            "  super().__init__(activity_regularizer=activity_regularizer, **kwargs)\n",
            "/usr/local/lib/python3.10/dist-packages/keras/src/saving/saving_lib.py:576: UserWarning: Skipping variable loading for optimizer 'adam', because it has 2 variables whereas the saved optimizer has 18 variables. \n",
            "  saveable.load_own_variables(weights_store.get(inner_path))\n"
          ]
        },
        {
          "output_type": "stream",
          "name": "stdout",
          "text": [
            "Pesos cargados desde /content/drive/My Drive/CancerCiamese/checkpoints//hyperparam_2/fold_3/ckpt_fold_3_iter_50.weights.h5\n",
            "\u001b[1m32/32\u001b[0m \u001b[32m━━━━━━━━━━━━━━━━━━━━\u001b[0m\u001b[37m\u001b[0m \u001b[1m0s\u001b[0m 8ms/step\n",
            "Precisión en validación del pliegue 3: 0.6750\n",
            "\u001b[1m32/32\u001b[0m \u001b[32m━━━━━━━━━━━━━━━━━━━━\u001b[0m\u001b[37m\u001b[0m \u001b[1m0s\u001b[0m 4ms/step\n",
            "\n",
            "Evaluando el pliegue 4/10\n"
          ]
        },
        {
          "output_type": "stream",
          "name": "stderr",
          "text": [
            "/usr/local/lib/python3.10/dist-packages/keras/src/layers/convolutional/base_conv.py:107: UserWarning: Do not pass an `input_shape`/`input_dim` argument to a layer. When using Sequential models, prefer using an `Input(shape)` object as the first layer in the model instead.\n",
            "  super().__init__(activity_regularizer=activity_regularizer, **kwargs)\n",
            "/usr/local/lib/python3.10/dist-packages/keras/src/saving/saving_lib.py:576: UserWarning: Skipping variable loading for optimizer 'adam', because it has 2 variables whereas the saved optimizer has 18 variables. \n",
            "  saveable.load_own_variables(weights_store.get(inner_path))\n"
          ]
        },
        {
          "output_type": "stream",
          "name": "stdout",
          "text": [
            "Pesos cargados desde /content/drive/My Drive/CancerCiamese/checkpoints//hyperparam_2/fold_4/ckpt_fold_4_iter_50.weights.h5\n",
            "\u001b[1m32/32\u001b[0m \u001b[32m━━━━━━━━━━━━━━━━━━━━\u001b[0m\u001b[37m\u001b[0m \u001b[1m1s\u001b[0m 10ms/step\n",
            "Precisión en validación del pliegue 4: 0.7420\n",
            "\u001b[1m32/32\u001b[0m \u001b[32m━━━━━━━━━━━━━━━━━━━━\u001b[0m\u001b[37m\u001b[0m \u001b[1m0s\u001b[0m 4ms/step\n",
            "\n",
            "Evaluando el pliegue 5/10\n"
          ]
        },
        {
          "output_type": "stream",
          "name": "stderr",
          "text": [
            "/usr/local/lib/python3.10/dist-packages/keras/src/layers/convolutional/base_conv.py:107: UserWarning: Do not pass an `input_shape`/`input_dim` argument to a layer. When using Sequential models, prefer using an `Input(shape)` object as the first layer in the model instead.\n",
            "  super().__init__(activity_regularizer=activity_regularizer, **kwargs)\n",
            "/usr/local/lib/python3.10/dist-packages/keras/src/saving/saving_lib.py:576: UserWarning: Skipping variable loading for optimizer 'adam', because it has 2 variables whereas the saved optimizer has 18 variables. \n",
            "  saveable.load_own_variables(weights_store.get(inner_path))\n"
          ]
        },
        {
          "output_type": "stream",
          "name": "stdout",
          "text": [
            "Pesos cargados desde /content/drive/My Drive/CancerCiamese/checkpoints//hyperparam_2/fold_5/ckpt_fold_5_iter_50.weights.h5\n",
            "\u001b[1m32/32\u001b[0m \u001b[32m━━━━━━━━━━━━━━━━━━━━\u001b[0m\u001b[37m\u001b[0m \u001b[1m0s\u001b[0m 8ms/step\n",
            "Precisión en validación del pliegue 5: 0.6260\n",
            "\u001b[1m32/32\u001b[0m \u001b[32m━━━━━━━━━━━━━━━━━━━━\u001b[0m\u001b[37m\u001b[0m \u001b[1m0s\u001b[0m 4ms/step\n",
            "\n",
            "Evaluando el pliegue 6/10\n"
          ]
        },
        {
          "output_type": "stream",
          "name": "stderr",
          "text": [
            "/usr/local/lib/python3.10/dist-packages/keras/src/layers/convolutional/base_conv.py:107: UserWarning: Do not pass an `input_shape`/`input_dim` argument to a layer. When using Sequential models, prefer using an `Input(shape)` object as the first layer in the model instead.\n",
            "  super().__init__(activity_regularizer=activity_regularizer, **kwargs)\n",
            "/usr/local/lib/python3.10/dist-packages/keras/src/saving/saving_lib.py:576: UserWarning: Skipping variable loading for optimizer 'adam', because it has 2 variables whereas the saved optimizer has 18 variables. \n",
            "  saveable.load_own_variables(weights_store.get(inner_path))\n"
          ]
        },
        {
          "output_type": "stream",
          "name": "stdout",
          "text": [
            "Pesos cargados desde /content/drive/My Drive/CancerCiamese/checkpoints//hyperparam_2/fold_6/ckpt_fold_6_iter_50.weights.h5\n",
            "\u001b[1m32/32\u001b[0m \u001b[32m━━━━━━━━━━━━━━━━━━━━\u001b[0m\u001b[37m\u001b[0m \u001b[1m0s\u001b[0m 8ms/step\n",
            "Precisión en validación del pliegue 6: 0.6510\n",
            "\u001b[1m32/32\u001b[0m \u001b[32m━━━━━━━━━━━━━━━━━━━━\u001b[0m\u001b[37m\u001b[0m \u001b[1m0s\u001b[0m 4ms/step\n",
            "\n",
            "Evaluando el pliegue 7/10\n"
          ]
        },
        {
          "output_type": "stream",
          "name": "stderr",
          "text": [
            "/usr/local/lib/python3.10/dist-packages/keras/src/layers/convolutional/base_conv.py:107: UserWarning: Do not pass an `input_shape`/`input_dim` argument to a layer. When using Sequential models, prefer using an `Input(shape)` object as the first layer in the model instead.\n",
            "  super().__init__(activity_regularizer=activity_regularizer, **kwargs)\n",
            "/usr/local/lib/python3.10/dist-packages/keras/src/saving/saving_lib.py:576: UserWarning: Skipping variable loading for optimizer 'adam', because it has 2 variables whereas the saved optimizer has 18 variables. \n",
            "  saveable.load_own_variables(weights_store.get(inner_path))\n"
          ]
        },
        {
          "output_type": "stream",
          "name": "stdout",
          "text": [
            "Pesos cargados desde /content/drive/My Drive/CancerCiamese/checkpoints//hyperparam_2/fold_7/ckpt_fold_7_iter_50.weights.h5\n",
            "\u001b[1m32/32\u001b[0m \u001b[32m━━━━━━━━━━━━━━━━━━━━\u001b[0m\u001b[37m\u001b[0m \u001b[1m1s\u001b[0m 13ms/step\n",
            "Precisión en validación del pliegue 7: 0.8420\n",
            "\u001b[1m32/32\u001b[0m \u001b[32m━━━━━━━━━━━━━━━━━━━━\u001b[0m\u001b[37m\u001b[0m \u001b[1m0s\u001b[0m 8ms/step\n",
            "\n",
            "Evaluando el pliegue 8/10\n"
          ]
        },
        {
          "output_type": "stream",
          "name": "stderr",
          "text": [
            "/usr/local/lib/python3.10/dist-packages/keras/src/layers/convolutional/base_conv.py:107: UserWarning: Do not pass an `input_shape`/`input_dim` argument to a layer. When using Sequential models, prefer using an `Input(shape)` object as the first layer in the model instead.\n",
            "  super().__init__(activity_regularizer=activity_regularizer, **kwargs)\n",
            "/usr/local/lib/python3.10/dist-packages/keras/src/saving/saving_lib.py:576: UserWarning: Skipping variable loading for optimizer 'adam', because it has 2 variables whereas the saved optimizer has 18 variables. \n",
            "  saveable.load_own_variables(weights_store.get(inner_path))\n"
          ]
        },
        {
          "output_type": "stream",
          "name": "stdout",
          "text": [
            "Pesos cargados desde /content/drive/My Drive/CancerCiamese/checkpoints//hyperparam_2/fold_8/ckpt_fold_8_iter_50.weights.h5\n",
            "\u001b[1m32/32\u001b[0m \u001b[32m━━━━━━━━━━━━━━━━━━━━\u001b[0m\u001b[37m\u001b[0m \u001b[1m0s\u001b[0m 8ms/step\n",
            "Precisión en validación del pliegue 8: 0.7570\n",
            "\u001b[1m32/32\u001b[0m \u001b[32m━━━━━━━━━━━━━━━━━━━━\u001b[0m\u001b[37m\u001b[0m \u001b[1m0s\u001b[0m 4ms/step\n",
            "\n",
            "Evaluando el pliegue 9/10\n"
          ]
        },
        {
          "output_type": "stream",
          "name": "stderr",
          "text": [
            "/usr/local/lib/python3.10/dist-packages/keras/src/layers/convolutional/base_conv.py:107: UserWarning: Do not pass an `input_shape`/`input_dim` argument to a layer. When using Sequential models, prefer using an `Input(shape)` object as the first layer in the model instead.\n",
            "  super().__init__(activity_regularizer=activity_regularizer, **kwargs)\n",
            "/usr/local/lib/python3.10/dist-packages/keras/src/saving/saving_lib.py:576: UserWarning: Skipping variable loading for optimizer 'adam', because it has 2 variables whereas the saved optimizer has 18 variables. \n",
            "  saveable.load_own_variables(weights_store.get(inner_path))\n"
          ]
        },
        {
          "output_type": "stream",
          "name": "stdout",
          "text": [
            "Pesos cargados desde /content/drive/My Drive/CancerCiamese/checkpoints//hyperparam_2/fold_9/ckpt_fold_9_iter_50.weights.h5\n",
            "\u001b[1m32/32\u001b[0m \u001b[32m━━━━━━━━━━━━━━━━━━━━\u001b[0m\u001b[37m\u001b[0m \u001b[1m0s\u001b[0m 8ms/step\n",
            "Precisión en validación del pliegue 9: 0.8770\n",
            "\u001b[1m32/32\u001b[0m \u001b[32m━━━━━━━━━━━━━━━━━━━━\u001b[0m\u001b[37m\u001b[0m \u001b[1m0s\u001b[0m 4ms/step\n",
            "\n",
            "Evaluando el pliegue 10/10\n"
          ]
        },
        {
          "output_type": "stream",
          "name": "stderr",
          "text": [
            "/usr/local/lib/python3.10/dist-packages/keras/src/layers/convolutional/base_conv.py:107: UserWarning: Do not pass an `input_shape`/`input_dim` argument to a layer. When using Sequential models, prefer using an `Input(shape)` object as the first layer in the model instead.\n",
            "  super().__init__(activity_regularizer=activity_regularizer, **kwargs)\n",
            "/usr/local/lib/python3.10/dist-packages/keras/src/saving/saving_lib.py:576: UserWarning: Skipping variable loading for optimizer 'adam', because it has 2 variables whereas the saved optimizer has 18 variables. \n",
            "  saveable.load_own_variables(weights_store.get(inner_path))\n"
          ]
        },
        {
          "output_type": "stream",
          "name": "stdout",
          "text": [
            "Pesos cargados desde /content/drive/My Drive/CancerCiamese/checkpoints//hyperparam_2/fold_10/ckpt_fold_10_iter_50.weights.h5\n",
            "\u001b[1m32/32\u001b[0m \u001b[32m━━━━━━━━━━━━━━━━━━━━\u001b[0m\u001b[37m\u001b[0m \u001b[1m1s\u001b[0m 14ms/step\n",
            "Precisión en validación del pliegue 10: 0.8310\n",
            "\u001b[1m32/32\u001b[0m \u001b[32m━━━━━━━━━━━━━━━━━━━━\u001b[0m\u001b[37m\u001b[0m \u001b[1m0s\u001b[0m 8ms/step\n",
            "Precisión promedio para la combinación 2: 0.7695\n",
            "Resultados guardados en /content/drive/My Drive/CancerCiamese/results/checkpoint_results.pkl\n",
            "\n",
            "Evaluando combinación de hiperparámetros 3/8: {'filters': 64, 'kernel_size': 5, 'dense_units': 128, 'learning_rate': 0.001, 'batch_size': 16, 'n_iter': 2000}\n",
            "\n",
            "Evaluando el pliegue 1/10\n"
          ]
        },
        {
          "output_type": "stream",
          "name": "stderr",
          "text": [
            "/usr/local/lib/python3.10/dist-packages/keras/src/layers/convolutional/base_conv.py:107: UserWarning: Do not pass an `input_shape`/`input_dim` argument to a layer. When using Sequential models, prefer using an `Input(shape)` object as the first layer in the model instead.\n",
            "  super().__init__(activity_regularizer=activity_regularizer, **kwargs)\n",
            "/usr/local/lib/python3.10/dist-packages/keras/src/saving/saving_lib.py:576: UserWarning: Skipping variable loading for optimizer 'adam', because it has 2 variables whereas the saved optimizer has 18 variables. \n",
            "  saveable.load_own_variables(weights_store.get(inner_path))\n"
          ]
        },
        {
          "output_type": "stream",
          "name": "stdout",
          "text": [
            "Pesos cargados desde /content/drive/My Drive/CancerCiamese/checkpoints//hyperparam_3/fold_1/ckpt_fold_1_iter_50.weights.h5\n",
            "\u001b[1m32/32\u001b[0m \u001b[32m━━━━━━━━━━━━━━━━━━━━\u001b[0m\u001b[37m\u001b[0m \u001b[1m0s\u001b[0m 8ms/step\n",
            "Precisión en validación del pliegue 1: 0.9530\n",
            "\u001b[1m32/32\u001b[0m \u001b[32m━━━━━━━━━━━━━━━━━━━━\u001b[0m\u001b[37m\u001b[0m \u001b[1m0s\u001b[0m 9ms/step\n",
            "\n",
            "Evaluando el pliegue 2/10\n"
          ]
        },
        {
          "output_type": "stream",
          "name": "stderr",
          "text": [
            "/usr/local/lib/python3.10/dist-packages/keras/src/layers/convolutional/base_conv.py:107: UserWarning: Do not pass an `input_shape`/`input_dim` argument to a layer. When using Sequential models, prefer using an `Input(shape)` object as the first layer in the model instead.\n",
            "  super().__init__(activity_regularizer=activity_regularizer, **kwargs)\n",
            "/usr/local/lib/python3.10/dist-packages/keras/src/saving/saving_lib.py:576: UserWarning: Skipping variable loading for optimizer 'adam', because it has 2 variables whereas the saved optimizer has 18 variables. \n",
            "  saveable.load_own_variables(weights_store.get(inner_path))\n"
          ]
        },
        {
          "output_type": "stream",
          "name": "stdout",
          "text": [
            "Pesos cargados desde /content/drive/My Drive/CancerCiamese/checkpoints//hyperparam_3/fold_2/ckpt_fold_2_iter_50.weights.h5\n",
            "\u001b[1m32/32\u001b[0m \u001b[32m━━━━━━━━━━━━━━━━━━━━\u001b[0m\u001b[37m\u001b[0m \u001b[1m0s\u001b[0m 8ms/step\n",
            "Precisión en validación del pliegue 2: 0.9830\n",
            "\u001b[1m32/32\u001b[0m \u001b[32m━━━━━━━━━━━━━━━━━━━━\u001b[0m\u001b[37m\u001b[0m \u001b[1m0s\u001b[0m 5ms/step\n",
            "\n",
            "Evaluando el pliegue 3/10\n"
          ]
        },
        {
          "output_type": "stream",
          "name": "stderr",
          "text": [
            "/usr/local/lib/python3.10/dist-packages/keras/src/layers/convolutional/base_conv.py:107: UserWarning: Do not pass an `input_shape`/`input_dim` argument to a layer. When using Sequential models, prefer using an `Input(shape)` object as the first layer in the model instead.\n",
            "  super().__init__(activity_regularizer=activity_regularizer, **kwargs)\n",
            "/usr/local/lib/python3.10/dist-packages/keras/src/saving/saving_lib.py:576: UserWarning: Skipping variable loading for optimizer 'adam', because it has 2 variables whereas the saved optimizer has 18 variables. \n",
            "  saveable.load_own_variables(weights_store.get(inner_path))\n"
          ]
        },
        {
          "output_type": "stream",
          "name": "stdout",
          "text": [
            "Pesos cargados desde /content/drive/My Drive/CancerCiamese/checkpoints//hyperparam_3/fold_3/ckpt_fold_3_iter_50.weights.h5\n",
            "\u001b[1m32/32\u001b[0m \u001b[32m━━━━━━━━━━━━━━━━━━━━\u001b[0m\u001b[37m\u001b[0m \u001b[1m0s\u001b[0m 8ms/step\n",
            "Precisión en validación del pliegue 3: 0.9880\n",
            "\u001b[1m32/32\u001b[0m \u001b[32m━━━━━━━━━━━━━━━━━━━━\u001b[0m\u001b[37m\u001b[0m \u001b[1m0s\u001b[0m 4ms/step\n",
            "\n",
            "Evaluando el pliegue 4/10\n"
          ]
        },
        {
          "output_type": "stream",
          "name": "stderr",
          "text": [
            "/usr/local/lib/python3.10/dist-packages/keras/src/layers/convolutional/base_conv.py:107: UserWarning: Do not pass an `input_shape`/`input_dim` argument to a layer. When using Sequential models, prefer using an `Input(shape)` object as the first layer in the model instead.\n",
            "  super().__init__(activity_regularizer=activity_regularizer, **kwargs)\n",
            "/usr/local/lib/python3.10/dist-packages/keras/src/saving/saving_lib.py:576: UserWarning: Skipping variable loading for optimizer 'adam', because it has 2 variables whereas the saved optimizer has 18 variables. \n",
            "  saveable.load_own_variables(weights_store.get(inner_path))\n"
          ]
        },
        {
          "output_type": "stream",
          "name": "stdout",
          "text": [
            "Pesos cargados desde /content/drive/My Drive/CancerCiamese/checkpoints//hyperparam_3/fold_4/ckpt_fold_4_iter_50.weights.h5\n",
            "\u001b[1m32/32\u001b[0m \u001b[32m━━━━━━━━━━━━━━━━━━━━\u001b[0m\u001b[37m\u001b[0m \u001b[1m0s\u001b[0m 9ms/step\n",
            "Precisión en validación del pliegue 4: 0.9900\n",
            "\u001b[1m32/32\u001b[0m \u001b[32m━━━━━━━━━━━━━━━━━━━━\u001b[0m\u001b[37m\u001b[0m \u001b[1m0s\u001b[0m 5ms/step\n",
            "\n",
            "Evaluando el pliegue 5/10\n"
          ]
        },
        {
          "output_type": "stream",
          "name": "stderr",
          "text": [
            "/usr/local/lib/python3.10/dist-packages/keras/src/layers/convolutional/base_conv.py:107: UserWarning: Do not pass an `input_shape`/`input_dim` argument to a layer. When using Sequential models, prefer using an `Input(shape)` object as the first layer in the model instead.\n",
            "  super().__init__(activity_regularizer=activity_regularizer, **kwargs)\n",
            "/usr/local/lib/python3.10/dist-packages/keras/src/saving/saving_lib.py:576: UserWarning: Skipping variable loading for optimizer 'adam', because it has 2 variables whereas the saved optimizer has 18 variables. \n",
            "  saveable.load_own_variables(weights_store.get(inner_path))\n"
          ]
        },
        {
          "output_type": "stream",
          "name": "stdout",
          "text": [
            "Pesos cargados desde /content/drive/My Drive/CancerCiamese/checkpoints//hyperparam_3/fold_5/ckpt_fold_5_iter_50.weights.h5\n",
            "\u001b[1m32/32\u001b[0m \u001b[32m━━━━━━━━━━━━━━━━━━━━\u001b[0m\u001b[37m\u001b[0m \u001b[1m1s\u001b[0m 8ms/step\n",
            "Precisión en validación del pliegue 5: 0.9710\n",
            "\u001b[1m32/32\u001b[0m \u001b[32m━━━━━━━━━━━━━━━━━━━━\u001b[0m\u001b[37m\u001b[0m \u001b[1m0s\u001b[0m 6ms/step\n",
            "\n",
            "Evaluando el pliegue 6/10\n"
          ]
        },
        {
          "output_type": "stream",
          "name": "stderr",
          "text": [
            "/usr/local/lib/python3.10/dist-packages/keras/src/layers/convolutional/base_conv.py:107: UserWarning: Do not pass an `input_shape`/`input_dim` argument to a layer. When using Sequential models, prefer using an `Input(shape)` object as the first layer in the model instead.\n",
            "  super().__init__(activity_regularizer=activity_regularizer, **kwargs)\n",
            "/usr/local/lib/python3.10/dist-packages/keras/src/saving/saving_lib.py:576: UserWarning: Skipping variable loading for optimizer 'adam', because it has 2 variables whereas the saved optimizer has 18 variables. \n",
            "  saveable.load_own_variables(weights_store.get(inner_path))\n"
          ]
        },
        {
          "output_type": "stream",
          "name": "stdout",
          "text": [
            "Pesos cargados desde /content/drive/My Drive/CancerCiamese/checkpoints//hyperparam_3/fold_6/ckpt_fold_6_iter_50.weights.h5\n",
            "\u001b[1m32/32\u001b[0m \u001b[32m━━━━━━━━━━━━━━━━━━━━\u001b[0m\u001b[37m\u001b[0m \u001b[1m0s\u001b[0m 9ms/step\n",
            "Precisión en validación del pliegue 6: 1.0000\n",
            "\u001b[1m32/32\u001b[0m \u001b[32m━━━━━━━━━━━━━━━━━━━━\u001b[0m\u001b[37m\u001b[0m \u001b[1m0s\u001b[0m 5ms/step\n",
            "\n",
            "Evaluando el pliegue 7/10\n"
          ]
        },
        {
          "output_type": "stream",
          "name": "stderr",
          "text": [
            "/usr/local/lib/python3.10/dist-packages/keras/src/layers/convolutional/base_conv.py:107: UserWarning: Do not pass an `input_shape`/`input_dim` argument to a layer. When using Sequential models, prefer using an `Input(shape)` object as the first layer in the model instead.\n",
            "  super().__init__(activity_regularizer=activity_regularizer, **kwargs)\n",
            "/usr/local/lib/python3.10/dist-packages/keras/src/saving/saving_lib.py:576: UserWarning: Skipping variable loading for optimizer 'adam', because it has 2 variables whereas the saved optimizer has 18 variables. \n",
            "  saveable.load_own_variables(weights_store.get(inner_path))\n"
          ]
        },
        {
          "output_type": "stream",
          "name": "stdout",
          "text": [
            "Pesos cargados desde /content/drive/My Drive/CancerCiamese/checkpoints//hyperparam_3/fold_7/ckpt_fold_7_iter_50.weights.h5\n",
            "\u001b[1m32/32\u001b[0m \u001b[32m━━━━━━━━━━━━━━━━━━━━\u001b[0m\u001b[37m\u001b[0m \u001b[1m1s\u001b[0m 13ms/step\n",
            "Precisión en validación del pliegue 7: 1.0000\n",
            "\u001b[1m32/32\u001b[0m \u001b[32m━━━━━━━━━━━━━━━━━━━━\u001b[0m\u001b[37m\u001b[0m \u001b[1m0s\u001b[0m 8ms/step\n",
            "\n",
            "Evaluando el pliegue 8/10\n"
          ]
        },
        {
          "output_type": "stream",
          "name": "stderr",
          "text": [
            "/usr/local/lib/python3.10/dist-packages/keras/src/layers/convolutional/base_conv.py:107: UserWarning: Do not pass an `input_shape`/`input_dim` argument to a layer. When using Sequential models, prefer using an `Input(shape)` object as the first layer in the model instead.\n",
            "  super().__init__(activity_regularizer=activity_regularizer, **kwargs)\n",
            "/usr/local/lib/python3.10/dist-packages/keras/src/saving/saving_lib.py:576: UserWarning: Skipping variable loading for optimizer 'adam', because it has 2 variables whereas the saved optimizer has 18 variables. \n",
            "  saveable.load_own_variables(weights_store.get(inner_path))\n"
          ]
        },
        {
          "output_type": "stream",
          "name": "stdout",
          "text": [
            "Pesos cargados desde /content/drive/My Drive/CancerCiamese/checkpoints//hyperparam_3/fold_8/ckpt_fold_8_iter_50.weights.h5\n",
            "\u001b[1m32/32\u001b[0m \u001b[32m━━━━━━━━━━━━━━━━━━━━\u001b[0m\u001b[37m\u001b[0m \u001b[1m0s\u001b[0m 8ms/step\n",
            "Precisión en validación del pliegue 8: 0.7870\n",
            "\u001b[1m32/32\u001b[0m \u001b[32m━━━━━━━━━━━━━━━━━━━━\u001b[0m\u001b[37m\u001b[0m \u001b[1m0s\u001b[0m 5ms/step\n",
            "\n",
            "Evaluando el pliegue 9/10\n"
          ]
        },
        {
          "output_type": "stream",
          "name": "stderr",
          "text": [
            "/usr/local/lib/python3.10/dist-packages/keras/src/layers/convolutional/base_conv.py:107: UserWarning: Do not pass an `input_shape`/`input_dim` argument to a layer. When using Sequential models, prefer using an `Input(shape)` object as the first layer in the model instead.\n",
            "  super().__init__(activity_regularizer=activity_regularizer, **kwargs)\n",
            "/usr/local/lib/python3.10/dist-packages/keras/src/saving/saving_lib.py:576: UserWarning: Skipping variable loading for optimizer 'adam', because it has 2 variables whereas the saved optimizer has 18 variables. \n",
            "  saveable.load_own_variables(weights_store.get(inner_path))\n"
          ]
        },
        {
          "output_type": "stream",
          "name": "stdout",
          "text": [
            "Pesos cargados desde /content/drive/My Drive/CancerCiamese/checkpoints//hyperparam_3/fold_9/ckpt_fold_9_iter_50.weights.h5\n",
            "\u001b[1m32/32\u001b[0m \u001b[32m━━━━━━━━━━━━━━━━━━━━\u001b[0m\u001b[37m\u001b[0m \u001b[1m1s\u001b[0m 9ms/step\n",
            "Precisión en validación del pliegue 9: 0.9660\n",
            "\u001b[1m32/32\u001b[0m \u001b[32m━━━━━━━━━━━━━━━━━━━━\u001b[0m\u001b[37m\u001b[0m \u001b[1m0s\u001b[0m 4ms/step\n",
            "\n",
            "Evaluando el pliegue 10/10\n"
          ]
        },
        {
          "output_type": "stream",
          "name": "stderr",
          "text": [
            "/usr/local/lib/python3.10/dist-packages/keras/src/layers/convolutional/base_conv.py:107: UserWarning: Do not pass an `input_shape`/`input_dim` argument to a layer. When using Sequential models, prefer using an `Input(shape)` object as the first layer in the model instead.\n",
            "  super().__init__(activity_regularizer=activity_regularizer, **kwargs)\n",
            "/usr/local/lib/python3.10/dist-packages/keras/src/saving/saving_lib.py:576: UserWarning: Skipping variable loading for optimizer 'adam', because it has 2 variables whereas the saved optimizer has 18 variables. \n",
            "  saveable.load_own_variables(weights_store.get(inner_path))\n"
          ]
        },
        {
          "output_type": "stream",
          "name": "stdout",
          "text": [
            "Pesos cargados desde /content/drive/My Drive/CancerCiamese/checkpoints//hyperparam_3/fold_10/ckpt_fold_10_iter_50.weights.h5\n",
            "\u001b[1m32/32\u001b[0m \u001b[32m━━━━━━━━━━━━━━━━━━━━\u001b[0m\u001b[37m\u001b[0m \u001b[1m1s\u001b[0m 14ms/step\n",
            "Precisión en validación del pliegue 10: 0.9730\n",
            "\u001b[1m32/32\u001b[0m \u001b[32m━━━━━━━━━━━━━━━━━━━━\u001b[0m\u001b[37m\u001b[0m \u001b[1m0s\u001b[0m 9ms/step\n",
            "Precisión promedio para la combinación 3: 0.9611\n",
            "Resultados guardados en /content/drive/My Drive/CancerCiamese/results/checkpoint_results.pkl\n",
            "\n",
            "Evaluando combinación de hiperparámetros 4/8: {'filters': 64, 'kernel_size': 5, 'dense_units': 128, 'learning_rate': 0.0001, 'batch_size': 16, 'n_iter': 2000}\n",
            "\n",
            "Evaluando el pliegue 1/10\n"
          ]
        },
        {
          "output_type": "stream",
          "name": "stderr",
          "text": [
            "/usr/local/lib/python3.10/dist-packages/keras/src/layers/convolutional/base_conv.py:107: UserWarning: Do not pass an `input_shape`/`input_dim` argument to a layer. When using Sequential models, prefer using an `Input(shape)` object as the first layer in the model instead.\n",
            "  super().__init__(activity_regularizer=activity_regularizer, **kwargs)\n",
            "/usr/local/lib/python3.10/dist-packages/keras/src/saving/saving_lib.py:576: UserWarning: Skipping variable loading for optimizer 'adam', because it has 2 variables whereas the saved optimizer has 18 variables. \n",
            "  saveable.load_own_variables(weights_store.get(inner_path))\n"
          ]
        },
        {
          "output_type": "stream",
          "name": "stdout",
          "text": [
            "Pesos cargados desde /content/drive/My Drive/CancerCiamese/checkpoints//hyperparam_4/fold_1/ckpt_fold_1_iter_50.weights.h5\n",
            "\u001b[1m32/32\u001b[0m \u001b[32m━━━━━━━━━━━━━━━━━━━━\u001b[0m\u001b[37m\u001b[0m \u001b[1m0s\u001b[0m 9ms/step\n",
            "Precisión en validación del pliegue 1: 0.7020\n",
            "\u001b[1m32/32\u001b[0m \u001b[32m━━━━━━━━━━━━━━━━━━━━\u001b[0m\u001b[37m\u001b[0m \u001b[1m0s\u001b[0m 4ms/step\n",
            "\n",
            "Evaluando el pliegue 2/10\n"
          ]
        },
        {
          "output_type": "stream",
          "name": "stderr",
          "text": [
            "/usr/local/lib/python3.10/dist-packages/keras/src/layers/convolutional/base_conv.py:107: UserWarning: Do not pass an `input_shape`/`input_dim` argument to a layer. When using Sequential models, prefer using an `Input(shape)` object as the first layer in the model instead.\n",
            "  super().__init__(activity_regularizer=activity_regularizer, **kwargs)\n",
            "/usr/local/lib/python3.10/dist-packages/keras/src/saving/saving_lib.py:576: UserWarning: Skipping variable loading for optimizer 'adam', because it has 2 variables whereas the saved optimizer has 18 variables. \n",
            "  saveable.load_own_variables(weights_store.get(inner_path))\n"
          ]
        },
        {
          "output_type": "stream",
          "name": "stdout",
          "text": [
            "Pesos cargados desde /content/drive/My Drive/CancerCiamese/checkpoints//hyperparam_4/fold_2/ckpt_fold_2_iter_50.weights.h5\n",
            "\u001b[1m32/32\u001b[0m \u001b[32m━━━━━━━━━━━━━━━━━━━━\u001b[0m\u001b[37m\u001b[0m \u001b[1m0s\u001b[0m 8ms/step\n",
            "Precisión en validación del pliegue 2: 0.6630\n",
            "\u001b[1m32/32\u001b[0m \u001b[32m━━━━━━━━━━━━━━━━━━━━\u001b[0m\u001b[37m\u001b[0m \u001b[1m0s\u001b[0m 5ms/step\n",
            "\n",
            "Evaluando el pliegue 3/10\n"
          ]
        },
        {
          "output_type": "stream",
          "name": "stderr",
          "text": [
            "/usr/local/lib/python3.10/dist-packages/keras/src/layers/convolutional/base_conv.py:107: UserWarning: Do not pass an `input_shape`/`input_dim` argument to a layer. When using Sequential models, prefer using an `Input(shape)` object as the first layer in the model instead.\n",
            "  super().__init__(activity_regularizer=activity_regularizer, **kwargs)\n",
            "/usr/local/lib/python3.10/dist-packages/keras/src/saving/saving_lib.py:576: UserWarning: Skipping variable loading for optimizer 'adam', because it has 2 variables whereas the saved optimizer has 18 variables. \n",
            "  saveable.load_own_variables(weights_store.get(inner_path))\n"
          ]
        },
        {
          "output_type": "stream",
          "name": "stdout",
          "text": [
            "Pesos cargados desde /content/drive/My Drive/CancerCiamese/checkpoints//hyperparam_4/fold_3/ckpt_fold_3_iter_50.weights.h5\n",
            "\u001b[1m32/32\u001b[0m \u001b[32m━━━━━━━━━━━━━━━━━━━━\u001b[0m\u001b[37m\u001b[0m \u001b[1m0s\u001b[0m 8ms/step\n",
            "Precisión en validación del pliegue 3: 0.6980\n",
            "\u001b[1m32/32\u001b[0m \u001b[32m━━━━━━━━━━━━━━━━━━━━\u001b[0m\u001b[37m\u001b[0m \u001b[1m0s\u001b[0m 5ms/step\n",
            "\n",
            "Evaluando el pliegue 4/10\n"
          ]
        },
        {
          "output_type": "stream",
          "name": "stderr",
          "text": [
            "/usr/local/lib/python3.10/dist-packages/keras/src/layers/convolutional/base_conv.py:107: UserWarning: Do not pass an `input_shape`/`input_dim` argument to a layer. When using Sequential models, prefer using an `Input(shape)` object as the first layer in the model instead.\n",
            "  super().__init__(activity_regularizer=activity_regularizer, **kwargs)\n",
            "/usr/local/lib/python3.10/dist-packages/keras/src/saving/saving_lib.py:576: UserWarning: Skipping variable loading for optimizer 'adam', because it has 2 variables whereas the saved optimizer has 18 variables. \n",
            "  saveable.load_own_variables(weights_store.get(inner_path))\n"
          ]
        },
        {
          "output_type": "stream",
          "name": "stdout",
          "text": [
            "Pesos cargados desde /content/drive/My Drive/CancerCiamese/checkpoints//hyperparam_4/fold_4/ckpt_fold_4_iter_50.weights.h5\n",
            "\u001b[1m32/32\u001b[0m \u001b[32m━━━━━━━━━━━━━━━━━━━━\u001b[0m\u001b[37m\u001b[0m \u001b[1m0s\u001b[0m 8ms/step\n",
            "Precisión en validación del pliegue 4: 0.6670\n",
            "\u001b[1m32/32\u001b[0m \u001b[32m━━━━━━━━━━━━━━━━━━━━\u001b[0m\u001b[37m\u001b[0m \u001b[1m0s\u001b[0m 5ms/step\n",
            "\n",
            "Evaluando el pliegue 5/10\n"
          ]
        },
        {
          "output_type": "stream",
          "name": "stderr",
          "text": [
            "/usr/local/lib/python3.10/dist-packages/keras/src/layers/convolutional/base_conv.py:107: UserWarning: Do not pass an `input_shape`/`input_dim` argument to a layer. When using Sequential models, prefer using an `Input(shape)` object as the first layer in the model instead.\n",
            "  super().__init__(activity_regularizer=activity_regularizer, **kwargs)\n",
            "/usr/local/lib/python3.10/dist-packages/keras/src/saving/saving_lib.py:576: UserWarning: Skipping variable loading for optimizer 'adam', because it has 2 variables whereas the saved optimizer has 18 variables. \n",
            "  saveable.load_own_variables(weights_store.get(inner_path))\n"
          ]
        },
        {
          "output_type": "stream",
          "name": "stdout",
          "text": [
            "Pesos cargados desde /content/drive/My Drive/CancerCiamese/checkpoints//hyperparam_4/fold_5/ckpt_fold_5_iter_50.weights.h5\n",
            "\u001b[1m32/32\u001b[0m \u001b[32m━━━━━━━━━━━━━━━━━━━━\u001b[0m\u001b[37m\u001b[0m \u001b[1m1s\u001b[0m 11ms/step\n",
            "Precisión en validación del pliegue 5: 0.7780\n",
            "\u001b[1m32/32\u001b[0m \u001b[32m━━━━━━━━━━━━━━━━━━━━\u001b[0m\u001b[37m\u001b[0m \u001b[1m0s\u001b[0m 5ms/step\n",
            "\n",
            "Evaluando el pliegue 6/10\n"
          ]
        },
        {
          "output_type": "stream",
          "name": "stderr",
          "text": [
            "/usr/local/lib/python3.10/dist-packages/keras/src/layers/convolutional/base_conv.py:107: UserWarning: Do not pass an `input_shape`/`input_dim` argument to a layer. When using Sequential models, prefer using an `Input(shape)` object as the first layer in the model instead.\n",
            "  super().__init__(activity_regularizer=activity_regularizer, **kwargs)\n",
            "/usr/local/lib/python3.10/dist-packages/keras/src/saving/saving_lib.py:576: UserWarning: Skipping variable loading for optimizer 'adam', because it has 2 variables whereas the saved optimizer has 18 variables. \n",
            "  saveable.load_own_variables(weights_store.get(inner_path))\n"
          ]
        },
        {
          "output_type": "stream",
          "name": "stdout",
          "text": [
            "Pesos cargados desde /content/drive/My Drive/CancerCiamese/checkpoints//hyperparam_4/fold_6/ckpt_fold_6_iter_50.weights.h5\n",
            "\u001b[1m32/32\u001b[0m \u001b[32m━━━━━━━━━━━━━━━━━━━━\u001b[0m\u001b[37m\u001b[0m \u001b[1m0s\u001b[0m 8ms/step\n",
            "Precisión en validación del pliegue 6: 0.7280\n",
            "\u001b[1m32/32\u001b[0m \u001b[32m━━━━━━━━━━━━━━━━━━━━\u001b[0m\u001b[37m\u001b[0m \u001b[1m0s\u001b[0m 5ms/step\n",
            "\n",
            "Evaluando el pliegue 7/10\n"
          ]
        },
        {
          "output_type": "stream",
          "name": "stderr",
          "text": [
            "/usr/local/lib/python3.10/dist-packages/keras/src/layers/convolutional/base_conv.py:107: UserWarning: Do not pass an `input_shape`/`input_dim` argument to a layer. When using Sequential models, prefer using an `Input(shape)` object as the first layer in the model instead.\n",
            "  super().__init__(activity_regularizer=activity_regularizer, **kwargs)\n",
            "/usr/local/lib/python3.10/dist-packages/keras/src/saving/saving_lib.py:576: UserWarning: Skipping variable loading for optimizer 'adam', because it has 2 variables whereas the saved optimizer has 18 variables. \n",
            "  saveable.load_own_variables(weights_store.get(inner_path))\n"
          ]
        },
        {
          "output_type": "stream",
          "name": "stdout",
          "text": [
            "Pesos cargados desde /content/drive/My Drive/CancerCiamese/checkpoints//hyperparam_4/fold_7/ckpt_fold_7_iter_50.weights.h5\n",
            "\u001b[1m32/32\u001b[0m \u001b[32m━━━━━━━━━━━━━━━━━━━━\u001b[0m\u001b[37m\u001b[0m \u001b[1m0s\u001b[0m 9ms/step\n",
            "Precisión en validación del pliegue 7: 0.6740\n",
            "\u001b[1m32/32\u001b[0m \u001b[32m━━━━━━━━━━━━━━━━━━━━\u001b[0m\u001b[37m\u001b[0m \u001b[1m0s\u001b[0m 5ms/step\n",
            "\n",
            "Evaluando el pliegue 8/10\n"
          ]
        },
        {
          "output_type": "stream",
          "name": "stderr",
          "text": [
            "/usr/local/lib/python3.10/dist-packages/keras/src/layers/convolutional/base_conv.py:107: UserWarning: Do not pass an `input_shape`/`input_dim` argument to a layer. When using Sequential models, prefer using an `Input(shape)` object as the first layer in the model instead.\n",
            "  super().__init__(activity_regularizer=activity_regularizer, **kwargs)\n",
            "/usr/local/lib/python3.10/dist-packages/keras/src/saving/saving_lib.py:576: UserWarning: Skipping variable loading for optimizer 'adam', because it has 2 variables whereas the saved optimizer has 18 variables. \n",
            "  saveable.load_own_variables(weights_store.get(inner_path))\n"
          ]
        },
        {
          "output_type": "stream",
          "name": "stdout",
          "text": [
            "Pesos cargados desde /content/drive/My Drive/CancerCiamese/checkpoints//hyperparam_4/fold_8/ckpt_fold_8_iter_50.weights.h5\n",
            "\u001b[1m32/32\u001b[0m \u001b[32m━━━━━━━━━━━━━━━━━━━━\u001b[0m\u001b[37m\u001b[0m \u001b[1m0s\u001b[0m 8ms/step\n",
            "Precisión en validación del pliegue 8: 0.6200\n",
            "\u001b[1m32/32\u001b[0m \u001b[32m━━━━━━━━━━━━━━━━━━━━\u001b[0m\u001b[37m\u001b[0m \u001b[1m0s\u001b[0m 5ms/step\n",
            "\n",
            "Evaluando el pliegue 9/10\n"
          ]
        },
        {
          "output_type": "stream",
          "name": "stderr",
          "text": [
            "/usr/local/lib/python3.10/dist-packages/keras/src/layers/convolutional/base_conv.py:107: UserWarning: Do not pass an `input_shape`/`input_dim` argument to a layer. When using Sequential models, prefer using an `Input(shape)` object as the first layer in the model instead.\n",
            "  super().__init__(activity_regularizer=activity_regularizer, **kwargs)\n",
            "/usr/local/lib/python3.10/dist-packages/keras/src/saving/saving_lib.py:576: UserWarning: Skipping variable loading for optimizer 'adam', because it has 2 variables whereas the saved optimizer has 18 variables. \n",
            "  saveable.load_own_variables(weights_store.get(inner_path))\n"
          ]
        },
        {
          "output_type": "stream",
          "name": "stdout",
          "text": [
            "Pesos cargados desde /content/drive/My Drive/CancerCiamese/checkpoints//hyperparam_4/fold_9/ckpt_fold_9_iter_50.weights.h5\n",
            "\u001b[1m32/32\u001b[0m \u001b[32m━━━━━━━━━━━━━━━━━━━━\u001b[0m\u001b[37m\u001b[0m \u001b[1m0s\u001b[0m 9ms/step\n",
            "Precisión en validación del pliegue 9: 0.6770\n",
            "\u001b[1m32/32\u001b[0m \u001b[32m━━━━━━━━━━━━━━━━━━━━\u001b[0m\u001b[37m\u001b[0m \u001b[1m0s\u001b[0m 4ms/step\n",
            "\n",
            "Evaluando el pliegue 10/10\n"
          ]
        },
        {
          "output_type": "stream",
          "name": "stderr",
          "text": [
            "/usr/local/lib/python3.10/dist-packages/keras/src/layers/convolutional/base_conv.py:107: UserWarning: Do not pass an `input_shape`/`input_dim` argument to a layer. When using Sequential models, prefer using an `Input(shape)` object as the first layer in the model instead.\n",
            "  super().__init__(activity_regularizer=activity_regularizer, **kwargs)\n",
            "/usr/local/lib/python3.10/dist-packages/keras/src/saving/saving_lib.py:576: UserWarning: Skipping variable loading for optimizer 'adam', because it has 2 variables whereas the saved optimizer has 18 variables. \n",
            "  saveable.load_own_variables(weights_store.get(inner_path))\n"
          ]
        },
        {
          "output_type": "stream",
          "name": "stdout",
          "text": [
            "Pesos cargados desde /content/drive/My Drive/CancerCiamese/checkpoints//hyperparam_4/fold_10/ckpt_fold_10_iter_50.weights.h5\n",
            "\u001b[1m32/32\u001b[0m \u001b[32m━━━━━━━━━━━━━━━━━━━━\u001b[0m\u001b[37m\u001b[0m \u001b[1m0s\u001b[0m 9ms/step\n",
            "Precisión en validación del pliegue 10: 0.5860\n",
            "\u001b[1m32/32\u001b[0m \u001b[32m━━━━━━━━━━━━━━━━━━━━\u001b[0m\u001b[37m\u001b[0m \u001b[1m0s\u001b[0m 5ms/step\n",
            "Precisión promedio para la combinación 4: 0.6793\n",
            "Resultados guardados en /content/drive/My Drive/CancerCiamese/results/checkpoint_results.pkl\n",
            "\n",
            "Evaluando combinación de hiperparámetros 5/8: {'filters': 64, 'kernel_size': 10, 'dense_units': 64, 'learning_rate': 0.001, 'batch_size': 16, 'n_iter': 2000}\n",
            "\n",
            "Evaluando el pliegue 1/10\n"
          ]
        },
        {
          "output_type": "stream",
          "name": "stderr",
          "text": [
            "/usr/local/lib/python3.10/dist-packages/keras/src/layers/convolutional/base_conv.py:107: UserWarning: Do not pass an `input_shape`/`input_dim` argument to a layer. When using Sequential models, prefer using an `Input(shape)` object as the first layer in the model instead.\n",
            "  super().__init__(activity_regularizer=activity_regularizer, **kwargs)\n",
            "/usr/local/lib/python3.10/dist-packages/keras/src/saving/saving_lib.py:576: UserWarning: Skipping variable loading for optimizer 'adam', because it has 2 variables whereas the saved optimizer has 18 variables. \n",
            "  saveable.load_own_variables(weights_store.get(inner_path))\n"
          ]
        },
        {
          "output_type": "stream",
          "name": "stdout",
          "text": [
            "Pesos cargados desde /content/drive/My Drive/CancerCiamese/checkpoints//hyperparam_5/fold_1/ckpt_fold_1_iter_50.weights.h5\n",
            "\u001b[1m32/32\u001b[0m \u001b[32m━━━━━━━━━━━━━━━━━━━━\u001b[0m\u001b[37m\u001b[0m \u001b[1m1s\u001b[0m 15ms/step\n",
            "Precisión en validación del pliegue 1: 0.9380\n",
            "\u001b[1m32/32\u001b[0m \u001b[32m━━━━━━━━━━━━━━━━━━━━\u001b[0m\u001b[37m\u001b[0m \u001b[1m0s\u001b[0m 8ms/step\n",
            "\n",
            "Evaluando el pliegue 2/10\n"
          ]
        },
        {
          "output_type": "stream",
          "name": "stderr",
          "text": [
            "/usr/local/lib/python3.10/dist-packages/keras/src/layers/convolutional/base_conv.py:107: UserWarning: Do not pass an `input_shape`/`input_dim` argument to a layer. When using Sequential models, prefer using an `Input(shape)` object as the first layer in the model instead.\n",
            "  super().__init__(activity_regularizer=activity_regularizer, **kwargs)\n",
            "/usr/local/lib/python3.10/dist-packages/keras/src/saving/saving_lib.py:576: UserWarning: Skipping variable loading for optimizer 'adam', because it has 2 variables whereas the saved optimizer has 18 variables. \n",
            "  saveable.load_own_variables(weights_store.get(inner_path))\n"
          ]
        },
        {
          "output_type": "stream",
          "name": "stdout",
          "text": [
            "Pesos cargados desde /content/drive/My Drive/CancerCiamese/checkpoints//hyperparam_5/fold_2/ckpt_fold_2_iter_50.weights.h5\n",
            "\u001b[1m32/32\u001b[0m \u001b[32m━━━━━━━━━━━━━━━━━━━━\u001b[0m\u001b[37m\u001b[0m \u001b[1m1s\u001b[0m 14ms/step\n",
            "Precisión en validación del pliegue 2: 1.0000\n",
            "\u001b[1m32/32\u001b[0m \u001b[32m━━━━━━━━━━━━━━━━━━━━\u001b[0m\u001b[37m\u001b[0m \u001b[1m0s\u001b[0m 9ms/step \n",
            "\n",
            "Evaluando el pliegue 3/10\n"
          ]
        },
        {
          "output_type": "stream",
          "name": "stderr",
          "text": [
            "/usr/local/lib/python3.10/dist-packages/keras/src/layers/convolutional/base_conv.py:107: UserWarning: Do not pass an `input_shape`/`input_dim` argument to a layer. When using Sequential models, prefer using an `Input(shape)` object as the first layer in the model instead.\n",
            "  super().__init__(activity_regularizer=activity_regularizer, **kwargs)\n",
            "/usr/local/lib/python3.10/dist-packages/keras/src/saving/saving_lib.py:576: UserWarning: Skipping variable loading for optimizer 'adam', because it has 2 variables whereas the saved optimizer has 18 variables. \n",
            "  saveable.load_own_variables(weights_store.get(inner_path))\n"
          ]
        },
        {
          "output_type": "stream",
          "name": "stdout",
          "text": [
            "Pesos cargados desde /content/drive/My Drive/CancerCiamese/checkpoints//hyperparam_5/fold_3/ckpt_fold_3_iter_50.weights.h5\n",
            "\u001b[1m32/32\u001b[0m \u001b[32m━━━━━━━━━━━━━━━━━━━━\u001b[0m\u001b[37m\u001b[0m \u001b[1m1s\u001b[0m 14ms/step\n",
            "Precisión en validación del pliegue 3: 1.0000\n",
            "\u001b[1m32/32\u001b[0m \u001b[32m━━━━━━━━━━━━━━━━━━━━\u001b[0m\u001b[37m\u001b[0m \u001b[1m0s\u001b[0m 5ms/step\n",
            "\n",
            "Evaluando el pliegue 4/10\n"
          ]
        },
        {
          "output_type": "stream",
          "name": "stderr",
          "text": [
            "/usr/local/lib/python3.10/dist-packages/keras/src/layers/convolutional/base_conv.py:107: UserWarning: Do not pass an `input_shape`/`input_dim` argument to a layer. When using Sequential models, prefer using an `Input(shape)` object as the first layer in the model instead.\n",
            "  super().__init__(activity_regularizer=activity_regularizer, **kwargs)\n",
            "/usr/local/lib/python3.10/dist-packages/keras/src/saving/saving_lib.py:576: UserWarning: Skipping variable loading for optimizer 'adam', because it has 2 variables whereas the saved optimizer has 18 variables. \n",
            "  saveable.load_own_variables(weights_store.get(inner_path))\n"
          ]
        },
        {
          "output_type": "stream",
          "name": "stdout",
          "text": [
            "Pesos cargados desde /content/drive/My Drive/CancerCiamese/checkpoints//hyperparam_5/fold_4/ckpt_fold_4_iter_50.weights.h5\n",
            "\u001b[1m32/32\u001b[0m \u001b[32m━━━━━━━━━━━━━━━━━━━━\u001b[0m\u001b[37m\u001b[0m \u001b[1m1s\u001b[0m 15ms/step\n",
            "Precisión en validación del pliegue 4: 1.0000\n",
            "\u001b[1m32/32\u001b[0m \u001b[32m━━━━━━━━━━━━━━━━━━━━\u001b[0m\u001b[37m\u001b[0m \u001b[1m0s\u001b[0m 9ms/step\n",
            "\n",
            "Evaluando el pliegue 5/10\n"
          ]
        },
        {
          "output_type": "stream",
          "name": "stderr",
          "text": [
            "/usr/local/lib/python3.10/dist-packages/keras/src/layers/convolutional/base_conv.py:107: UserWarning: Do not pass an `input_shape`/`input_dim` argument to a layer. When using Sequential models, prefer using an `Input(shape)` object as the first layer in the model instead.\n",
            "  super().__init__(activity_regularizer=activity_regularizer, **kwargs)\n",
            "/usr/local/lib/python3.10/dist-packages/keras/src/saving/saving_lib.py:576: UserWarning: Skipping variable loading for optimizer 'adam', because it has 2 variables whereas the saved optimizer has 18 variables. \n",
            "  saveable.load_own_variables(weights_store.get(inner_path))\n"
          ]
        },
        {
          "output_type": "stream",
          "name": "stdout",
          "text": [
            "Pesos cargados desde /content/drive/My Drive/CancerCiamese/checkpoints//hyperparam_5/fold_5/ckpt_fold_5_iter_50.weights.h5\n",
            "\u001b[1m32/32\u001b[0m \u001b[32m━━━━━━━━━━━━━━━━━━━━\u001b[0m\u001b[37m\u001b[0m \u001b[1m0s\u001b[0m 8ms/step\n",
            "Precisión en validación del pliegue 5: 1.0000\n",
            "\u001b[1m32/32\u001b[0m \u001b[32m━━━━━━━━━━━━━━━━━━━━\u001b[0m\u001b[37m\u001b[0m \u001b[1m0s\u001b[0m 5ms/step\n",
            "\n",
            "Evaluando el pliegue 6/10\n"
          ]
        },
        {
          "output_type": "stream",
          "name": "stderr",
          "text": [
            "/usr/local/lib/python3.10/dist-packages/keras/src/layers/convolutional/base_conv.py:107: UserWarning: Do not pass an `input_shape`/`input_dim` argument to a layer. When using Sequential models, prefer using an `Input(shape)` object as the first layer in the model instead.\n",
            "  super().__init__(activity_regularizer=activity_regularizer, **kwargs)\n",
            "/usr/local/lib/python3.10/dist-packages/keras/src/saving/saving_lib.py:576: UserWarning: Skipping variable loading for optimizer 'adam', because it has 2 variables whereas the saved optimizer has 18 variables. \n",
            "  saveable.load_own_variables(weights_store.get(inner_path))\n"
          ]
        },
        {
          "output_type": "stream",
          "name": "stdout",
          "text": [
            "Pesos cargados desde /content/drive/My Drive/CancerCiamese/checkpoints//hyperparam_5/fold_6/ckpt_fold_6_iter_50.weights.h5\n",
            "\u001b[1m32/32\u001b[0m \u001b[32m━━━━━━━━━━━━━━━━━━━━\u001b[0m\u001b[37m\u001b[0m \u001b[1m1s\u001b[0m 14ms/step\n",
            "Precisión en validación del pliegue 6: 1.0000\n",
            "\u001b[1m32/32\u001b[0m \u001b[32m━━━━━━━━━━━━━━━━━━━━\u001b[0m\u001b[37m\u001b[0m \u001b[1m0s\u001b[0m 11ms/step\n",
            "\n",
            "Evaluando el pliegue 7/10\n"
          ]
        },
        {
          "output_type": "stream",
          "name": "stderr",
          "text": [
            "/usr/local/lib/python3.10/dist-packages/keras/src/layers/convolutional/base_conv.py:107: UserWarning: Do not pass an `input_shape`/`input_dim` argument to a layer. When using Sequential models, prefer using an `Input(shape)` object as the first layer in the model instead.\n",
            "  super().__init__(activity_regularizer=activity_regularizer, **kwargs)\n",
            "/usr/local/lib/python3.10/dist-packages/keras/src/saving/saving_lib.py:576: UserWarning: Skipping variable loading for optimizer 'adam', because it has 2 variables whereas the saved optimizer has 18 variables. \n",
            "  saveable.load_own_variables(weights_store.get(inner_path))\n"
          ]
        },
        {
          "output_type": "stream",
          "name": "stdout",
          "text": [
            "Pesos cargados desde /content/drive/My Drive/CancerCiamese/checkpoints//hyperparam_5/fold_7/ckpt_fold_7_iter_50.weights.h5\n",
            "\u001b[1m32/32\u001b[0m \u001b[32m━━━━━━━━━━━━━━━━━━━━\u001b[0m\u001b[37m\u001b[0m \u001b[1m0s\u001b[0m 9ms/step\n",
            "Precisión en validación del pliegue 7: 1.0000\n",
            "\u001b[1m32/32\u001b[0m \u001b[32m━━━━━━━━━━━━━━━━━━━━\u001b[0m\u001b[37m\u001b[0m \u001b[1m0s\u001b[0m 6ms/step\n",
            "\n",
            "Evaluando el pliegue 8/10\n"
          ]
        },
        {
          "output_type": "stream",
          "name": "stderr",
          "text": [
            "/usr/local/lib/python3.10/dist-packages/keras/src/layers/convolutional/base_conv.py:107: UserWarning: Do not pass an `input_shape`/`input_dim` argument to a layer. When using Sequential models, prefer using an `Input(shape)` object as the first layer in the model instead.\n",
            "  super().__init__(activity_regularizer=activity_regularizer, **kwargs)\n",
            "/usr/local/lib/python3.10/dist-packages/keras/src/saving/saving_lib.py:576: UserWarning: Skipping variable loading for optimizer 'adam', because it has 2 variables whereas the saved optimizer has 18 variables. \n",
            "  saveable.load_own_variables(weights_store.get(inner_path))\n"
          ]
        },
        {
          "output_type": "stream",
          "name": "stdout",
          "text": [
            "Pesos cargados desde /content/drive/My Drive/CancerCiamese/checkpoints//hyperparam_5/fold_8/ckpt_fold_8_iter_50.weights.h5\n",
            "\u001b[1m32/32\u001b[0m \u001b[32m━━━━━━━━━━━━━━━━━━━━\u001b[0m\u001b[37m\u001b[0m \u001b[1m0s\u001b[0m 8ms/step\n",
            "Precisión en validación del pliegue 8: 0.7600\n",
            "\u001b[1m32/32\u001b[0m \u001b[32m━━━━━━━━━━━━━━━━━━━━\u001b[0m\u001b[37m\u001b[0m \u001b[1m0s\u001b[0m 5ms/step\n",
            "\n",
            "Evaluando el pliegue 9/10\n"
          ]
        },
        {
          "output_type": "stream",
          "name": "stderr",
          "text": [
            "/usr/local/lib/python3.10/dist-packages/keras/src/layers/convolutional/base_conv.py:107: UserWarning: Do not pass an `input_shape`/`input_dim` argument to a layer. When using Sequential models, prefer using an `Input(shape)` object as the first layer in the model instead.\n",
            "  super().__init__(activity_regularizer=activity_regularizer, **kwargs)\n",
            "/usr/local/lib/python3.10/dist-packages/keras/src/saving/saving_lib.py:576: UserWarning: Skipping variable loading for optimizer 'adam', because it has 2 variables whereas the saved optimizer has 18 variables. \n",
            "  saveable.load_own_variables(weights_store.get(inner_path))\n"
          ]
        },
        {
          "output_type": "stream",
          "name": "stdout",
          "text": [
            "Pesos cargados desde /content/drive/My Drive/CancerCiamese/checkpoints//hyperparam_5/fold_9/ckpt_fold_9_iter_50.weights.h5\n",
            "\u001b[1m32/32\u001b[0m \u001b[32m━━━━━━━━━━━━━━━━━━━━\u001b[0m\u001b[37m\u001b[0m \u001b[1m0s\u001b[0m 8ms/step\n",
            "Precisión en validación del pliegue 9: 0.9520\n",
            "\u001b[1m32/32\u001b[0m \u001b[32m━━━━━━━━━━━━━━━━━━━━\u001b[0m\u001b[37m\u001b[0m \u001b[1m0s\u001b[0m 5ms/step\n",
            "\n",
            "Evaluando el pliegue 10/10\n"
          ]
        },
        {
          "output_type": "stream",
          "name": "stderr",
          "text": [
            "/usr/local/lib/python3.10/dist-packages/keras/src/layers/convolutional/base_conv.py:107: UserWarning: Do not pass an `input_shape`/`input_dim` argument to a layer. When using Sequential models, prefer using an `Input(shape)` object as the first layer in the model instead.\n",
            "  super().__init__(activity_regularizer=activity_regularizer, **kwargs)\n",
            "/usr/local/lib/python3.10/dist-packages/keras/src/saving/saving_lib.py:576: UserWarning: Skipping variable loading for optimizer 'adam', because it has 2 variables whereas the saved optimizer has 18 variables. \n",
            "  saveable.load_own_variables(weights_store.get(inner_path))\n"
          ]
        },
        {
          "output_type": "stream",
          "name": "stdout",
          "text": [
            "Pesos cargados desde /content/drive/My Drive/CancerCiamese/checkpoints//hyperparam_5/fold_10/ckpt_fold_10_iter_50.weights.h5\n",
            "\u001b[1m32/32\u001b[0m \u001b[32m━━━━━━━━━━━━━━━━━━━━\u001b[0m\u001b[37m\u001b[0m \u001b[1m0s\u001b[0m 8ms/step\n",
            "Precisión en validación del pliegue 10: 1.0000\n",
            "\u001b[1m32/32\u001b[0m \u001b[32m━━━━━━━━━━━━━━━━━━━━\u001b[0m\u001b[37m\u001b[0m \u001b[1m0s\u001b[0m 5ms/step\n",
            "Precisión promedio para la combinación 5: 0.9650\n",
            "Resultados guardados en /content/drive/My Drive/CancerCiamese/results/checkpoint_results.pkl\n",
            "\n",
            "Evaluando combinación de hiperparámetros 6/8: {'filters': 64, 'kernel_size': 10, 'dense_units': 64, 'learning_rate': 0.0001, 'batch_size': 16, 'n_iter': 2000}\n",
            "\n",
            "Evaluando el pliegue 1/10\n"
          ]
        },
        {
          "output_type": "stream",
          "name": "stderr",
          "text": [
            "/usr/local/lib/python3.10/dist-packages/keras/src/layers/convolutional/base_conv.py:107: UserWarning: Do not pass an `input_shape`/`input_dim` argument to a layer. When using Sequential models, prefer using an `Input(shape)` object as the first layer in the model instead.\n",
            "  super().__init__(activity_regularizer=activity_regularizer, **kwargs)\n",
            "/usr/local/lib/python3.10/dist-packages/keras/src/saving/saving_lib.py:576: UserWarning: Skipping variable loading for optimizer 'adam', because it has 2 variables whereas the saved optimizer has 18 variables. \n",
            "  saveable.load_own_variables(weights_store.get(inner_path))\n"
          ]
        },
        {
          "output_type": "stream",
          "name": "stdout",
          "text": [
            "Pesos cargados desde /content/drive/My Drive/CancerCiamese/checkpoints//hyperparam_6/fold_1/ckpt_fold_1_iter_50.weights.h5\n",
            "\u001b[1m32/32\u001b[0m \u001b[32m━━━━━━━━━━━━━━━━━━━━\u001b[0m\u001b[37m\u001b[0m \u001b[1m1s\u001b[0m 15ms/step\n",
            "Precisión en validación del pliegue 1: 0.8970\n",
            "\u001b[1m32/32\u001b[0m \u001b[32m━━━━━━━━━━━━━━━━━━━━\u001b[0m\u001b[37m\u001b[0m \u001b[1m0s\u001b[0m 8ms/step\n",
            "\n",
            "Evaluando el pliegue 2/10\n"
          ]
        },
        {
          "output_type": "stream",
          "name": "stderr",
          "text": [
            "/usr/local/lib/python3.10/dist-packages/keras/src/layers/convolutional/base_conv.py:107: UserWarning: Do not pass an `input_shape`/`input_dim` argument to a layer. When using Sequential models, prefer using an `Input(shape)` object as the first layer in the model instead.\n",
            "  super().__init__(activity_regularizer=activity_regularizer, **kwargs)\n",
            "/usr/local/lib/python3.10/dist-packages/keras/src/saving/saving_lib.py:576: UserWarning: Skipping variable loading for optimizer 'adam', because it has 2 variables whereas the saved optimizer has 18 variables. \n",
            "  saveable.load_own_variables(weights_store.get(inner_path))\n"
          ]
        },
        {
          "output_type": "stream",
          "name": "stdout",
          "text": [
            "Pesos cargados desde /content/drive/My Drive/CancerCiamese/checkpoints//hyperparam_6/fold_2/ckpt_fold_2_iter_50.weights.h5\n",
            "\u001b[1m32/32\u001b[0m \u001b[32m━━━━━━━━━━━━━━━━━━━━\u001b[0m\u001b[37m\u001b[0m \u001b[1m1s\u001b[0m 13ms/step\n",
            "Precisión en validación del pliegue 2: 0.6660\n",
            "\u001b[1m32/32\u001b[0m \u001b[32m━━━━━━━━━━━━━━━━━━━━\u001b[0m\u001b[37m\u001b[0m \u001b[1m0s\u001b[0m 8ms/step\n",
            "\n",
            "Evaluando el pliegue 3/10\n"
          ]
        },
        {
          "output_type": "stream",
          "name": "stderr",
          "text": [
            "/usr/local/lib/python3.10/dist-packages/keras/src/layers/convolutional/base_conv.py:107: UserWarning: Do not pass an `input_shape`/`input_dim` argument to a layer. When using Sequential models, prefer using an `Input(shape)` object as the first layer in the model instead.\n",
            "  super().__init__(activity_regularizer=activity_regularizer, **kwargs)\n",
            "/usr/local/lib/python3.10/dist-packages/keras/src/saving/saving_lib.py:576: UserWarning: Skipping variable loading for optimizer 'adam', because it has 2 variables whereas the saved optimizer has 18 variables. \n",
            "  saveable.load_own_variables(weights_store.get(inner_path))\n"
          ]
        },
        {
          "output_type": "stream",
          "name": "stdout",
          "text": [
            "Pesos cargados desde /content/drive/My Drive/CancerCiamese/checkpoints//hyperparam_6/fold_3/ckpt_fold_3_iter_50.weights.h5\n",
            "\u001b[1m32/32\u001b[0m \u001b[32m━━━━━━━━━━━━━━━━━━━━\u001b[0m\u001b[37m\u001b[0m \u001b[1m0s\u001b[0m 9ms/step\n",
            "Precisión en validación del pliegue 3: 0.7180\n",
            "\u001b[1m32/32\u001b[0m \u001b[32m━━━━━━━━━━━━━━━━━━━━\u001b[0m\u001b[37m\u001b[0m \u001b[1m0s\u001b[0m 5ms/step\n",
            "\n",
            "Evaluando el pliegue 4/10\n"
          ]
        },
        {
          "output_type": "stream",
          "name": "stderr",
          "text": [
            "/usr/local/lib/python3.10/dist-packages/keras/src/layers/convolutional/base_conv.py:107: UserWarning: Do not pass an `input_shape`/`input_dim` argument to a layer. When using Sequential models, prefer using an `Input(shape)` object as the first layer in the model instead.\n",
            "  super().__init__(activity_regularizer=activity_regularizer, **kwargs)\n",
            "/usr/local/lib/python3.10/dist-packages/keras/src/saving/saving_lib.py:576: UserWarning: Skipping variable loading for optimizer 'adam', because it has 2 variables whereas the saved optimizer has 18 variables. \n",
            "  saveable.load_own_variables(weights_store.get(inner_path))\n"
          ]
        },
        {
          "output_type": "stream",
          "name": "stdout",
          "text": [
            "Pesos cargados desde /content/drive/My Drive/CancerCiamese/checkpoints//hyperparam_6/fold_4/ckpt_fold_4_iter_50.weights.h5\n",
            "\u001b[1m32/32\u001b[0m \u001b[32m━━━━━━━━━━━━━━━━━━━━\u001b[0m\u001b[37m\u001b[0m \u001b[1m0s\u001b[0m 8ms/step\n",
            "Precisión en validación del pliegue 4: 0.8810\n",
            "\u001b[1m32/32\u001b[0m \u001b[32m━━━━━━━━━━━━━━━━━━━━\u001b[0m\u001b[37m\u001b[0m \u001b[1m0s\u001b[0m 5ms/step\n",
            "\n",
            "Evaluando el pliegue 5/10\n"
          ]
        },
        {
          "output_type": "stream",
          "name": "stderr",
          "text": [
            "/usr/local/lib/python3.10/dist-packages/keras/src/layers/convolutional/base_conv.py:107: UserWarning: Do not pass an `input_shape`/`input_dim` argument to a layer. When using Sequential models, prefer using an `Input(shape)` object as the first layer in the model instead.\n",
            "  super().__init__(activity_regularizer=activity_regularizer, **kwargs)\n",
            "/usr/local/lib/python3.10/dist-packages/keras/src/saving/saving_lib.py:576: UserWarning: Skipping variable loading for optimizer 'adam', because it has 2 variables whereas the saved optimizer has 18 variables. \n",
            "  saveable.load_own_variables(weights_store.get(inner_path))\n"
          ]
        },
        {
          "output_type": "stream",
          "name": "stdout",
          "text": [
            "Pesos cargados desde /content/drive/My Drive/CancerCiamese/checkpoints//hyperparam_6/fold_5/ckpt_fold_5_iter_50.weights.h5\n",
            "\u001b[1m32/32\u001b[0m \u001b[32m━━━━━━━━━━━━━━━━━━━━\u001b[0m\u001b[37m\u001b[0m \u001b[1m0s\u001b[0m 9ms/step\n",
            "Precisión en validación del pliegue 5: 0.8730\n",
            "\u001b[1m32/32\u001b[0m \u001b[32m━━━━━━━━━━━━━━━━━━━━\u001b[0m\u001b[37m\u001b[0m \u001b[1m0s\u001b[0m 5ms/step\n",
            "\n",
            "Evaluando el pliegue 6/10\n"
          ]
        },
        {
          "output_type": "stream",
          "name": "stderr",
          "text": [
            "/usr/local/lib/python3.10/dist-packages/keras/src/layers/convolutional/base_conv.py:107: UserWarning: Do not pass an `input_shape`/`input_dim` argument to a layer. When using Sequential models, prefer using an `Input(shape)` object as the first layer in the model instead.\n",
            "  super().__init__(activity_regularizer=activity_regularizer, **kwargs)\n",
            "/usr/local/lib/python3.10/dist-packages/keras/src/saving/saving_lib.py:576: UserWarning: Skipping variable loading for optimizer 'adam', because it has 2 variables whereas the saved optimizer has 18 variables. \n",
            "  saveable.load_own_variables(weights_store.get(inner_path))\n"
          ]
        },
        {
          "output_type": "stream",
          "name": "stdout",
          "text": [
            "Pesos cargados desde /content/drive/My Drive/CancerCiamese/checkpoints//hyperparam_6/fold_6/ckpt_fold_6_iter_50.weights.h5\n",
            "\u001b[1m32/32\u001b[0m \u001b[32m━━━━━━━━━━━━━━━━━━━━\u001b[0m\u001b[37m\u001b[0m \u001b[1m0s\u001b[0m 9ms/step\n",
            "Precisión en validación del pliegue 6: 0.8990\n",
            "\u001b[1m32/32\u001b[0m \u001b[32m━━━━━━━━━━━━━━━━━━━━\u001b[0m\u001b[37m\u001b[0m \u001b[1m0s\u001b[0m 5ms/step\n",
            "\n",
            "Evaluando el pliegue 7/10\n"
          ]
        },
        {
          "output_type": "stream",
          "name": "stderr",
          "text": [
            "/usr/local/lib/python3.10/dist-packages/keras/src/layers/convolutional/base_conv.py:107: UserWarning: Do not pass an `input_shape`/`input_dim` argument to a layer. When using Sequential models, prefer using an `Input(shape)` object as the first layer in the model instead.\n",
            "  super().__init__(activity_regularizer=activity_regularizer, **kwargs)\n",
            "/usr/local/lib/python3.10/dist-packages/keras/src/saving/saving_lib.py:576: UserWarning: Skipping variable loading for optimizer 'adam', because it has 2 variables whereas the saved optimizer has 18 variables. \n",
            "  saveable.load_own_variables(weights_store.get(inner_path))\n"
          ]
        },
        {
          "output_type": "stream",
          "name": "stdout",
          "text": [
            "Pesos cargados desde /content/drive/My Drive/CancerCiamese/checkpoints//hyperparam_6/fold_7/ckpt_fold_7_iter_50.weights.h5\n",
            "\u001b[1m32/32\u001b[0m \u001b[32m━━━━━━━━━━━━━━━━━━━━\u001b[0m\u001b[37m\u001b[0m \u001b[1m0s\u001b[0m 9ms/step\n",
            "Precisión en validación del pliegue 7: 0.8630\n",
            "\u001b[1m32/32\u001b[0m \u001b[32m━━━━━━━━━━━━━━━━━━━━\u001b[0m\u001b[37m\u001b[0m \u001b[1m0s\u001b[0m 5ms/step\n",
            "\n",
            "Evaluando el pliegue 8/10\n"
          ]
        },
        {
          "output_type": "stream",
          "name": "stderr",
          "text": [
            "/usr/local/lib/python3.10/dist-packages/keras/src/layers/convolutional/base_conv.py:107: UserWarning: Do not pass an `input_shape`/`input_dim` argument to a layer. When using Sequential models, prefer using an `Input(shape)` object as the first layer in the model instead.\n",
            "  super().__init__(activity_regularizer=activity_regularizer, **kwargs)\n",
            "/usr/local/lib/python3.10/dist-packages/keras/src/saving/saving_lib.py:576: UserWarning: Skipping variable loading for optimizer 'adam', because it has 2 variables whereas the saved optimizer has 18 variables. \n",
            "  saveable.load_own_variables(weights_store.get(inner_path))\n"
          ]
        },
        {
          "output_type": "stream",
          "name": "stdout",
          "text": [
            "Pesos cargados desde /content/drive/My Drive/CancerCiamese/checkpoints//hyperparam_6/fold_8/ckpt_fold_8_iter_50.weights.h5\n",
            "\u001b[1m32/32\u001b[0m \u001b[32m━━━━━━━━━━━━━━━━━━━━\u001b[0m\u001b[37m\u001b[0m \u001b[1m1s\u001b[0m 14ms/step\n",
            "Precisión en validación del pliegue 8: 0.6860\n",
            "\u001b[1m32/32\u001b[0m \u001b[32m━━━━━━━━━━━━━━━━━━━━\u001b[0m\u001b[37m\u001b[0m \u001b[1m0s\u001b[0m 8ms/step\n",
            "\n",
            "Evaluando el pliegue 9/10\n"
          ]
        },
        {
          "output_type": "stream",
          "name": "stderr",
          "text": [
            "/usr/local/lib/python3.10/dist-packages/keras/src/layers/convolutional/base_conv.py:107: UserWarning: Do not pass an `input_shape`/`input_dim` argument to a layer. When using Sequential models, prefer using an `Input(shape)` object as the first layer in the model instead.\n",
            "  super().__init__(activity_regularizer=activity_regularizer, **kwargs)\n",
            "/usr/local/lib/python3.10/dist-packages/keras/src/saving/saving_lib.py:576: UserWarning: Skipping variable loading for optimizer 'adam', because it has 2 variables whereas the saved optimizer has 18 variables. \n",
            "  saveable.load_own_variables(weights_store.get(inner_path))\n"
          ]
        },
        {
          "output_type": "stream",
          "name": "stdout",
          "text": [
            "Pesos cargados desde /content/drive/My Drive/CancerCiamese/checkpoints//hyperparam_6/fold_9/ckpt_fold_9_iter_50.weights.h5\n",
            "\u001b[1m32/32\u001b[0m \u001b[32m━━━━━━━━━━━━━━━━━━━━\u001b[0m\u001b[37m\u001b[0m \u001b[1m0s\u001b[0m 9ms/step\n",
            "Precisión en validación del pliegue 9: 0.5690\n",
            "\u001b[1m32/32\u001b[0m \u001b[32m━━━━━━━━━━━━━━━━━━━━\u001b[0m\u001b[37m\u001b[0m \u001b[1m0s\u001b[0m 5ms/step\n",
            "\n",
            "Evaluando el pliegue 10/10\n"
          ]
        },
        {
          "output_type": "stream",
          "name": "stderr",
          "text": [
            "/usr/local/lib/python3.10/dist-packages/keras/src/layers/convolutional/base_conv.py:107: UserWarning: Do not pass an `input_shape`/`input_dim` argument to a layer. When using Sequential models, prefer using an `Input(shape)` object as the first layer in the model instead.\n",
            "  super().__init__(activity_regularizer=activity_regularizer, **kwargs)\n",
            "/usr/local/lib/python3.10/dist-packages/keras/src/saving/saving_lib.py:576: UserWarning: Skipping variable loading for optimizer 'adam', because it has 2 variables whereas the saved optimizer has 18 variables. \n",
            "  saveable.load_own_variables(weights_store.get(inner_path))\n"
          ]
        },
        {
          "output_type": "stream",
          "name": "stdout",
          "text": [
            "Pesos cargados desde /content/drive/My Drive/CancerCiamese/checkpoints//hyperparam_6/fold_10/ckpt_fold_10_iter_50.weights.h5\n",
            "\u001b[1m32/32\u001b[0m \u001b[32m━━━━━━━━━━━━━━━━━━━━\u001b[0m\u001b[37m\u001b[0m \u001b[1m0s\u001b[0m 9ms/step\n",
            "Precisión en validación del pliegue 10: 0.7110\n",
            "\u001b[1m32/32\u001b[0m \u001b[32m━━━━━━━━━━━━━━━━━━━━\u001b[0m\u001b[37m\u001b[0m \u001b[1m0s\u001b[0m 5ms/step\n",
            "Precisión promedio para la combinación 6: 0.7763\n",
            "Resultados guardados en /content/drive/My Drive/CancerCiamese/results/checkpoint_results.pkl\n",
            "\n",
            "Evaluando combinación de hiperparámetros 7/8: {'filters': 64, 'kernel_size': 10, 'dense_units': 128, 'learning_rate': 0.001, 'batch_size': 16, 'n_iter': 2000}\n",
            "\n",
            "Evaluando el pliegue 1/10\n"
          ]
        },
        {
          "output_type": "stream",
          "name": "stderr",
          "text": [
            "/usr/local/lib/python3.10/dist-packages/keras/src/layers/convolutional/base_conv.py:107: UserWarning: Do not pass an `input_shape`/`input_dim` argument to a layer. When using Sequential models, prefer using an `Input(shape)` object as the first layer in the model instead.\n",
            "  super().__init__(activity_regularizer=activity_regularizer, **kwargs)\n",
            "/usr/local/lib/python3.10/dist-packages/keras/src/saving/saving_lib.py:576: UserWarning: Skipping variable loading for optimizer 'adam', because it has 2 variables whereas the saved optimizer has 18 variables. \n",
            "  saveable.load_own_variables(weights_store.get(inner_path))\n"
          ]
        },
        {
          "output_type": "stream",
          "name": "stdout",
          "text": [
            "Pesos cargados desde /content/drive/My Drive/CancerCiamese/checkpoints//hyperparam_7/fold_1/ckpt_fold_1_iter_50.weights.h5\n",
            "\u001b[1m32/32\u001b[0m \u001b[32m━━━━━━━━━━━━━━━━━━━━\u001b[0m\u001b[37m\u001b[0m \u001b[1m0s\u001b[0m 9ms/step\n",
            "Precisión en validación del pliegue 1: 0.9900\n",
            "\u001b[1m32/32\u001b[0m \u001b[32m━━━━━━━━━━━━━━━━━━━━\u001b[0m\u001b[37m\u001b[0m \u001b[1m0s\u001b[0m 5ms/step\n",
            "\n",
            "Evaluando el pliegue 2/10\n"
          ]
        },
        {
          "output_type": "stream",
          "name": "stderr",
          "text": [
            "/usr/local/lib/python3.10/dist-packages/keras/src/layers/convolutional/base_conv.py:107: UserWarning: Do not pass an `input_shape`/`input_dim` argument to a layer. When using Sequential models, prefer using an `Input(shape)` object as the first layer in the model instead.\n",
            "  super().__init__(activity_regularizer=activity_regularizer, **kwargs)\n",
            "/usr/local/lib/python3.10/dist-packages/keras/src/saving/saving_lib.py:576: UserWarning: Skipping variable loading for optimizer 'adam', because it has 2 variables whereas the saved optimizer has 18 variables. \n",
            "  saveable.load_own_variables(weights_store.get(inner_path))\n"
          ]
        },
        {
          "output_type": "stream",
          "name": "stdout",
          "text": [
            "Pesos cargados desde /content/drive/My Drive/CancerCiamese/checkpoints//hyperparam_7/fold_2/ckpt_fold_2_iter_50.weights.h5\n",
            "\u001b[1m32/32\u001b[0m \u001b[32m━━━━━━━━━━━━━━━━━━━━\u001b[0m\u001b[37m\u001b[0m \u001b[1m1s\u001b[0m 16ms/step\n",
            "Precisión en validación del pliegue 2: 1.0000\n",
            "\u001b[1m32/32\u001b[0m \u001b[32m━━━━━━━━━━━━━━━━━━━━\u001b[0m\u001b[37m\u001b[0m \u001b[1m0s\u001b[0m 9ms/step\n",
            "\n",
            "Evaluando el pliegue 3/10\n"
          ]
        },
        {
          "output_type": "stream",
          "name": "stderr",
          "text": [
            "/usr/local/lib/python3.10/dist-packages/keras/src/layers/convolutional/base_conv.py:107: UserWarning: Do not pass an `input_shape`/`input_dim` argument to a layer. When using Sequential models, prefer using an `Input(shape)` object as the first layer in the model instead.\n",
            "  super().__init__(activity_regularizer=activity_regularizer, **kwargs)\n",
            "/usr/local/lib/python3.10/dist-packages/keras/src/saving/saving_lib.py:576: UserWarning: Skipping variable loading for optimizer 'adam', because it has 2 variables whereas the saved optimizer has 18 variables. \n",
            "  saveable.load_own_variables(weights_store.get(inner_path))\n"
          ]
        },
        {
          "output_type": "stream",
          "name": "stdout",
          "text": [
            "Pesos cargados desde /content/drive/My Drive/CancerCiamese/checkpoints//hyperparam_7/fold_3/ckpt_fold_3_iter_50.weights.h5\n",
            "\u001b[1m32/32\u001b[0m \u001b[32m━━━━━━━━━━━━━━━━━━━━\u001b[0m\u001b[37m\u001b[0m \u001b[1m1s\u001b[0m 14ms/step\n",
            "Precisión en validación del pliegue 3: 0.9480\n",
            "\u001b[1m32/32\u001b[0m \u001b[32m━━━━━━━━━━━━━━━━━━━━\u001b[0m\u001b[37m\u001b[0m \u001b[1m0s\u001b[0m 9ms/step\n",
            "\n",
            "Evaluando el pliegue 4/10\n"
          ]
        },
        {
          "output_type": "stream",
          "name": "stderr",
          "text": [
            "/usr/local/lib/python3.10/dist-packages/keras/src/layers/convolutional/base_conv.py:107: UserWarning: Do not pass an `input_shape`/`input_dim` argument to a layer. When using Sequential models, prefer using an `Input(shape)` object as the first layer in the model instead.\n",
            "  super().__init__(activity_regularizer=activity_regularizer, **kwargs)\n",
            "/usr/local/lib/python3.10/dist-packages/keras/src/saving/saving_lib.py:576: UserWarning: Skipping variable loading for optimizer 'adam', because it has 2 variables whereas the saved optimizer has 18 variables. \n",
            "  saveable.load_own_variables(weights_store.get(inner_path))\n"
          ]
        },
        {
          "output_type": "stream",
          "name": "stdout",
          "text": [
            "Pesos cargados desde /content/drive/My Drive/CancerCiamese/checkpoints//hyperparam_7/fold_4/ckpt_fold_4_iter_50.weights.h5\n",
            "\u001b[1m32/32\u001b[0m \u001b[32m━━━━━━━━━━━━━━━━━━━━\u001b[0m\u001b[37m\u001b[0m \u001b[1m0s\u001b[0m 9ms/step\n",
            "Precisión en validación del pliegue 4: 0.9150\n",
            "\u001b[1m32/32\u001b[0m \u001b[32m━━━━━━━━━━━━━━━━━━━━\u001b[0m\u001b[37m\u001b[0m \u001b[1m0s\u001b[0m 5ms/step\n",
            "\n",
            "Evaluando el pliegue 5/10\n"
          ]
        },
        {
          "output_type": "stream",
          "name": "stderr",
          "text": [
            "/usr/local/lib/python3.10/dist-packages/keras/src/layers/convolutional/base_conv.py:107: UserWarning: Do not pass an `input_shape`/`input_dim` argument to a layer. When using Sequential models, prefer using an `Input(shape)` object as the first layer in the model instead.\n",
            "  super().__init__(activity_regularizer=activity_regularizer, **kwargs)\n",
            "/usr/local/lib/python3.10/dist-packages/keras/src/saving/saving_lib.py:576: UserWarning: Skipping variable loading for optimizer 'adam', because it has 2 variables whereas the saved optimizer has 18 variables. \n",
            "  saveable.load_own_variables(weights_store.get(inner_path))\n"
          ]
        },
        {
          "output_type": "stream",
          "name": "stdout",
          "text": [
            "Pesos cargados desde /content/drive/My Drive/CancerCiamese/checkpoints//hyperparam_7/fold_5/ckpt_fold_5_iter_50.weights.h5\n",
            "\u001b[1m32/32\u001b[0m \u001b[32m━━━━━━━━━━━━━━━━━━━━\u001b[0m\u001b[37m\u001b[0m \u001b[1m1s\u001b[0m 15ms/step\n",
            "Precisión en validación del pliegue 5: 1.0000\n",
            "\u001b[1m32/32\u001b[0m \u001b[32m━━━━━━━━━━━━━━━━━━━━\u001b[0m\u001b[37m\u001b[0m \u001b[1m0s\u001b[0m 11ms/step\n",
            "\n",
            "Evaluando el pliegue 6/10\n"
          ]
        },
        {
          "output_type": "stream",
          "name": "stderr",
          "text": [
            "/usr/local/lib/python3.10/dist-packages/keras/src/layers/convolutional/base_conv.py:107: UserWarning: Do not pass an `input_shape`/`input_dim` argument to a layer. When using Sequential models, prefer using an `Input(shape)` object as the first layer in the model instead.\n",
            "  super().__init__(activity_regularizer=activity_regularizer, **kwargs)\n",
            "/usr/local/lib/python3.10/dist-packages/keras/src/saving/saving_lib.py:576: UserWarning: Skipping variable loading for optimizer 'adam', because it has 2 variables whereas the saved optimizer has 18 variables. \n",
            "  saveable.load_own_variables(weights_store.get(inner_path))\n"
          ]
        },
        {
          "output_type": "stream",
          "name": "stdout",
          "text": [
            "Pesos cargados desde /content/drive/My Drive/CancerCiamese/checkpoints//hyperparam_7/fold_6/ckpt_fold_6_iter_50.weights.h5\n",
            "\u001b[1m32/32\u001b[0m \u001b[32m━━━━━━━━━━━━━━━━━━━━\u001b[0m\u001b[37m\u001b[0m \u001b[1m0s\u001b[0m 10ms/step\n",
            "Precisión en validación del pliegue 6: 0.9870\n",
            "\u001b[1m32/32\u001b[0m \u001b[32m━━━━━━━━━━━━━━━━━━━━\u001b[0m\u001b[37m\u001b[0m \u001b[1m0s\u001b[0m 6ms/step\n",
            "\n",
            "Evaluando el pliegue 7/10\n"
          ]
        },
        {
          "output_type": "stream",
          "name": "stderr",
          "text": [
            "/usr/local/lib/python3.10/dist-packages/keras/src/layers/convolutional/base_conv.py:107: UserWarning: Do not pass an `input_shape`/`input_dim` argument to a layer. When using Sequential models, prefer using an `Input(shape)` object as the first layer in the model instead.\n",
            "  super().__init__(activity_regularizer=activity_regularizer, **kwargs)\n",
            "/usr/local/lib/python3.10/dist-packages/keras/src/saving/saving_lib.py:576: UserWarning: Skipping variable loading for optimizer 'adam', because it has 2 variables whereas the saved optimizer has 18 variables. \n",
            "  saveable.load_own_variables(weights_store.get(inner_path))\n"
          ]
        },
        {
          "output_type": "stream",
          "name": "stdout",
          "text": [
            "Pesos cargados desde /content/drive/My Drive/CancerCiamese/checkpoints//hyperparam_7/fold_7/ckpt_fold_7_iter_50.weights.h5\n",
            "\u001b[1m32/32\u001b[0m \u001b[32m━━━━━━━━━━━━━━━━━━━━\u001b[0m\u001b[37m\u001b[0m \u001b[1m1s\u001b[0m 15ms/step\n",
            "Precisión en validación del pliegue 7: 1.0000\n",
            "\u001b[1m32/32\u001b[0m \u001b[32m━━━━━━━━━━━━━━━━━━━━\u001b[0m\u001b[37m\u001b[0m \u001b[1m0s\u001b[0m 9ms/step\n",
            "\n",
            "Evaluando el pliegue 8/10\n"
          ]
        },
        {
          "output_type": "stream",
          "name": "stderr",
          "text": [
            "/usr/local/lib/python3.10/dist-packages/keras/src/layers/convolutional/base_conv.py:107: UserWarning: Do not pass an `input_shape`/`input_dim` argument to a layer. When using Sequential models, prefer using an `Input(shape)` object as the first layer in the model instead.\n",
            "  super().__init__(activity_regularizer=activity_regularizer, **kwargs)\n",
            "/usr/local/lib/python3.10/dist-packages/keras/src/saving/saving_lib.py:576: UserWarning: Skipping variable loading for optimizer 'adam', because it has 2 variables whereas the saved optimizer has 18 variables. \n",
            "  saveable.load_own_variables(weights_store.get(inner_path))\n"
          ]
        },
        {
          "output_type": "stream",
          "name": "stdout",
          "text": [
            "Pesos cargados desde /content/drive/My Drive/CancerCiamese/checkpoints//hyperparam_7/fold_8/ckpt_fold_8_iter_50.weights.h5\n",
            "\u001b[1m32/32\u001b[0m \u001b[32m━━━━━━━━━━━━━━━━━━━━\u001b[0m\u001b[37m\u001b[0m \u001b[1m0s\u001b[0m 9ms/step\n",
            "Precisión en validación del pliegue 8: 0.8010\n",
            "\u001b[1m32/32\u001b[0m \u001b[32m━━━━━━━━━━━━━━━━━━━━\u001b[0m\u001b[37m\u001b[0m \u001b[1m0s\u001b[0m 6ms/step\n",
            "\n",
            "Evaluando el pliegue 9/10\n"
          ]
        },
        {
          "output_type": "stream",
          "name": "stderr",
          "text": [
            "/usr/local/lib/python3.10/dist-packages/keras/src/layers/convolutional/base_conv.py:107: UserWarning: Do not pass an `input_shape`/`input_dim` argument to a layer. When using Sequential models, prefer using an `Input(shape)` object as the first layer in the model instead.\n",
            "  super().__init__(activity_regularizer=activity_regularizer, **kwargs)\n",
            "/usr/local/lib/python3.10/dist-packages/keras/src/saving/saving_lib.py:576: UserWarning: Skipping variable loading for optimizer 'adam', because it has 2 variables whereas the saved optimizer has 18 variables. \n",
            "  saveable.load_own_variables(weights_store.get(inner_path))\n"
          ]
        },
        {
          "output_type": "stream",
          "name": "stdout",
          "text": [
            "Pesos cargados desde /content/drive/My Drive/CancerCiamese/checkpoints//hyperparam_7/fold_9/ckpt_fold_9_iter_50.weights.h5\n",
            "\u001b[1m32/32\u001b[0m \u001b[32m━━━━━━━━━━━━━━━━━━━━\u001b[0m\u001b[37m\u001b[0m \u001b[1m0s\u001b[0m 9ms/step\n",
            "Precisión en validación del pliegue 9: 0.9670\n",
            "\u001b[1m32/32\u001b[0m \u001b[32m━━━━━━━━━━━━━━━━━━━━\u001b[0m\u001b[37m\u001b[0m \u001b[1m0s\u001b[0m 5ms/step\n",
            "\n",
            "Evaluando el pliegue 10/10\n"
          ]
        },
        {
          "output_type": "stream",
          "name": "stderr",
          "text": [
            "/usr/local/lib/python3.10/dist-packages/keras/src/layers/convolutional/base_conv.py:107: UserWarning: Do not pass an `input_shape`/`input_dim` argument to a layer. When using Sequential models, prefer using an `Input(shape)` object as the first layer in the model instead.\n",
            "  super().__init__(activity_regularizer=activity_regularizer, **kwargs)\n",
            "/usr/local/lib/python3.10/dist-packages/keras/src/saving/saving_lib.py:576: UserWarning: Skipping variable loading for optimizer 'adam', because it has 2 variables whereas the saved optimizer has 18 variables. \n",
            "  saveable.load_own_variables(weights_store.get(inner_path))\n"
          ]
        },
        {
          "output_type": "stream",
          "name": "stdout",
          "text": [
            "Pesos cargados desde /content/drive/My Drive/CancerCiamese/checkpoints//hyperparam_7/fold_10/ckpt_fold_10_iter_50.weights.h5\n",
            "\u001b[1m32/32\u001b[0m \u001b[32m━━━━━━━━━━━━━━━━━━━━\u001b[0m\u001b[37m\u001b[0m \u001b[1m0s\u001b[0m 9ms/step\n",
            "Precisión en validación del pliegue 10: 0.9880\n",
            "\u001b[1m32/32\u001b[0m \u001b[32m━━━━━━━━━━━━━━━━━━━━\u001b[0m\u001b[37m\u001b[0m \u001b[1m0s\u001b[0m 6ms/step\n",
            "Precisión promedio para la combinación 7: 0.9596\n",
            "Resultados guardados en /content/drive/My Drive/CancerCiamese/results/checkpoint_results.pkl\n",
            "\n",
            "Evaluando combinación de hiperparámetros 8/8: {'filters': 64, 'kernel_size': 10, 'dense_units': 128, 'learning_rate': 0.0001, 'batch_size': 16, 'n_iter': 2000}\n",
            "\n",
            "Evaluando el pliegue 1/10\n"
          ]
        },
        {
          "output_type": "stream",
          "name": "stderr",
          "text": [
            "/usr/local/lib/python3.10/dist-packages/keras/src/layers/convolutional/base_conv.py:107: UserWarning: Do not pass an `input_shape`/`input_dim` argument to a layer. When using Sequential models, prefer using an `Input(shape)` object as the first layer in the model instead.\n",
            "  super().__init__(activity_regularizer=activity_regularizer, **kwargs)\n",
            "/usr/local/lib/python3.10/dist-packages/keras/src/saving/saving_lib.py:576: UserWarning: Skipping variable loading for optimizer 'adam', because it has 2 variables whereas the saved optimizer has 18 variables. \n",
            "  saveable.load_own_variables(weights_store.get(inner_path))\n"
          ]
        },
        {
          "output_type": "stream",
          "name": "stdout",
          "text": [
            "Pesos cargados desde /content/drive/My Drive/CancerCiamese/checkpoints//hyperparam_8/fold_1/ckpt_fold_1_iter_50.weights.h5\n",
            "\u001b[1m32/32\u001b[0m \u001b[32m━━━━━━━━━━━━━━━━━━━━\u001b[0m\u001b[37m\u001b[0m \u001b[1m0s\u001b[0m 9ms/step\n",
            "Precisión en validación del pliegue 1: 0.8180\n",
            "\u001b[1m32/32\u001b[0m \u001b[32m━━━━━━━━━━━━━━━━━━━━\u001b[0m\u001b[37m\u001b[0m \u001b[1m0s\u001b[0m 5ms/step\n",
            "\n",
            "Evaluando el pliegue 2/10\n"
          ]
        },
        {
          "output_type": "stream",
          "name": "stderr",
          "text": [
            "/usr/local/lib/python3.10/dist-packages/keras/src/layers/convolutional/base_conv.py:107: UserWarning: Do not pass an `input_shape`/`input_dim` argument to a layer. When using Sequential models, prefer using an `Input(shape)` object as the first layer in the model instead.\n",
            "  super().__init__(activity_regularizer=activity_regularizer, **kwargs)\n",
            "/usr/local/lib/python3.10/dist-packages/keras/src/saving/saving_lib.py:576: UserWarning: Skipping variable loading for optimizer 'adam', because it has 2 variables whereas the saved optimizer has 18 variables. \n",
            "  saveable.load_own_variables(weights_store.get(inner_path))\n"
          ]
        },
        {
          "output_type": "stream",
          "name": "stdout",
          "text": [
            "Pesos cargados desde /content/drive/My Drive/CancerCiamese/checkpoints//hyperparam_8/fold_2/ckpt_fold_2_iter_50.weights.h5\n",
            "\u001b[1m32/32\u001b[0m \u001b[32m━━━━━━━━━━━━━━━━━━━━\u001b[0m\u001b[37m\u001b[0m \u001b[1m0s\u001b[0m 10ms/step\n",
            "Precisión en validación del pliegue 2: 0.7060\n",
            "\u001b[1m32/32\u001b[0m \u001b[32m━━━━━━━━━━━━━━━━━━━━\u001b[0m\u001b[37m\u001b[0m \u001b[1m0s\u001b[0m 6ms/step\n",
            "\n",
            "Evaluando el pliegue 3/10\n"
          ]
        },
        {
          "output_type": "stream",
          "name": "stderr",
          "text": [
            "/usr/local/lib/python3.10/dist-packages/keras/src/layers/convolutional/base_conv.py:107: UserWarning: Do not pass an `input_shape`/`input_dim` argument to a layer. When using Sequential models, prefer using an `Input(shape)` object as the first layer in the model instead.\n",
            "  super().__init__(activity_regularizer=activity_regularizer, **kwargs)\n",
            "/usr/local/lib/python3.10/dist-packages/keras/src/saving/saving_lib.py:576: UserWarning: Skipping variable loading for optimizer 'adam', because it has 2 variables whereas the saved optimizer has 18 variables. \n",
            "  saveable.load_own_variables(weights_store.get(inner_path))\n"
          ]
        },
        {
          "output_type": "stream",
          "name": "stdout",
          "text": [
            "Pesos cargados desde /content/drive/My Drive/CancerCiamese/checkpoints//hyperparam_8/fold_3/ckpt_fold_3_iter_50.weights.h5\n",
            "\u001b[1m32/32\u001b[0m \u001b[32m━━━━━━━━━━━━━━━━━━━━\u001b[0m\u001b[37m\u001b[0m \u001b[1m0s\u001b[0m 9ms/step\n",
            "Precisión en validación del pliegue 3: 0.7510\n",
            "\u001b[1m32/32\u001b[0m \u001b[32m━━━━━━━━━━━━━━━━━━━━\u001b[0m\u001b[37m\u001b[0m \u001b[1m0s\u001b[0m 5ms/step\n",
            "\n",
            "Evaluando el pliegue 4/10\n"
          ]
        },
        {
          "output_type": "stream",
          "name": "stderr",
          "text": [
            "/usr/local/lib/python3.10/dist-packages/keras/src/layers/convolutional/base_conv.py:107: UserWarning: Do not pass an `input_shape`/`input_dim` argument to a layer. When using Sequential models, prefer using an `Input(shape)` object as the first layer in the model instead.\n",
            "  super().__init__(activity_regularizer=activity_regularizer, **kwargs)\n",
            "/usr/local/lib/python3.10/dist-packages/keras/src/saving/saving_lib.py:576: UserWarning: Skipping variable loading for optimizer 'adam', because it has 2 variables whereas the saved optimizer has 18 variables. \n",
            "  saveable.load_own_variables(weights_store.get(inner_path))\n"
          ]
        },
        {
          "output_type": "stream",
          "name": "stdout",
          "text": [
            "Pesos cargados desde /content/drive/My Drive/CancerCiamese/checkpoints//hyperparam_8/fold_4/ckpt_fold_4_iter_50.weights.h5\n",
            "\u001b[1m32/32\u001b[0m \u001b[32m━━━━━━━━━━━━━━━━━━━━\u001b[0m\u001b[37m\u001b[0m \u001b[1m1s\u001b[0m 11ms/step\n",
            "Precisión en validación del pliegue 4: 0.6670\n",
            "\u001b[1m32/32\u001b[0m \u001b[32m━━━━━━━━━━━━━━━━━━━━\u001b[0m\u001b[37m\u001b[0m \u001b[1m0s\u001b[0m 6ms/step\n",
            "\n",
            "Evaluando el pliegue 5/10\n"
          ]
        },
        {
          "output_type": "stream",
          "name": "stderr",
          "text": [
            "/usr/local/lib/python3.10/dist-packages/keras/src/layers/convolutional/base_conv.py:107: UserWarning: Do not pass an `input_shape`/`input_dim` argument to a layer. When using Sequential models, prefer using an `Input(shape)` object as the first layer in the model instead.\n",
            "  super().__init__(activity_regularizer=activity_regularizer, **kwargs)\n",
            "/usr/local/lib/python3.10/dist-packages/keras/src/saving/saving_lib.py:576: UserWarning: Skipping variable loading for optimizer 'adam', because it has 2 variables whereas the saved optimizer has 18 variables. \n",
            "  saveable.load_own_variables(weights_store.get(inner_path))\n"
          ]
        },
        {
          "output_type": "stream",
          "name": "stdout",
          "text": [
            "Pesos cargados desde /content/drive/My Drive/CancerCiamese/checkpoints//hyperparam_8/fold_5/ckpt_fold_5_iter_50.weights.h5\n",
            "\u001b[1m32/32\u001b[0m \u001b[32m━━━━━━━━━━━━━━━━━━━━\u001b[0m\u001b[37m\u001b[0m \u001b[1m1s\u001b[0m 15ms/step\n",
            "Precisión en validación del pliegue 5: 0.7090\n",
            "\u001b[1m32/32\u001b[0m \u001b[32m━━━━━━━━━━━━━━━━━━━━\u001b[0m\u001b[37m\u001b[0m \u001b[1m0s\u001b[0m 11ms/step\n",
            "\n",
            "Evaluando el pliegue 6/10\n"
          ]
        },
        {
          "output_type": "stream",
          "name": "stderr",
          "text": [
            "/usr/local/lib/python3.10/dist-packages/keras/src/layers/convolutional/base_conv.py:107: UserWarning: Do not pass an `input_shape`/`input_dim` argument to a layer. When using Sequential models, prefer using an `Input(shape)` object as the first layer in the model instead.\n",
            "  super().__init__(activity_regularizer=activity_regularizer, **kwargs)\n",
            "/usr/local/lib/python3.10/dist-packages/keras/src/saving/saving_lib.py:576: UserWarning: Skipping variable loading for optimizer 'adam', because it has 2 variables whereas the saved optimizer has 18 variables. \n",
            "  saveable.load_own_variables(weights_store.get(inner_path))\n"
          ]
        },
        {
          "output_type": "stream",
          "name": "stdout",
          "text": [
            "Pesos cargados desde /content/drive/My Drive/CancerCiamese/checkpoints//hyperparam_8/fold_6/ckpt_fold_6_iter_50.weights.h5\n",
            "\u001b[1m32/32\u001b[0m \u001b[32m━━━━━━━━━━━━━━━━━━━━\u001b[0m\u001b[37m\u001b[0m \u001b[1m0s\u001b[0m 10ms/step\n",
            "Precisión en validación del pliegue 6: 0.6480\n",
            "\u001b[1m32/32\u001b[0m \u001b[32m━━━━━━━━━━━━━━━━━━━━\u001b[0m\u001b[37m\u001b[0m \u001b[1m0s\u001b[0m 6ms/step\n",
            "\n",
            "Evaluando el pliegue 7/10\n"
          ]
        },
        {
          "output_type": "stream",
          "name": "stderr",
          "text": [
            "/usr/local/lib/python3.10/dist-packages/keras/src/layers/convolutional/base_conv.py:107: UserWarning: Do not pass an `input_shape`/`input_dim` argument to a layer. When using Sequential models, prefer using an `Input(shape)` object as the first layer in the model instead.\n",
            "  super().__init__(activity_regularizer=activity_regularizer, **kwargs)\n",
            "/usr/local/lib/python3.10/dist-packages/keras/src/saving/saving_lib.py:576: UserWarning: Skipping variable loading for optimizer 'adam', because it has 2 variables whereas the saved optimizer has 18 variables. \n",
            "  saveable.load_own_variables(weights_store.get(inner_path))\n"
          ]
        },
        {
          "output_type": "stream",
          "name": "stdout",
          "text": [
            "Pesos cargados desde /content/drive/My Drive/CancerCiamese/checkpoints//hyperparam_8/fold_7/ckpt_fold_7_iter_50.weights.h5\n",
            "\u001b[1m32/32\u001b[0m \u001b[32m━━━━━━━━━━━━━━━━━━━━\u001b[0m\u001b[37m\u001b[0m \u001b[1m0s\u001b[0m 9ms/step\n",
            "Precisión en validación del pliegue 7: 0.5990\n",
            "\u001b[1m32/32\u001b[0m \u001b[32m━━━━━━━━━━━━━━━━━━━━\u001b[0m\u001b[37m\u001b[0m \u001b[1m0s\u001b[0m 5ms/step\n",
            "\n",
            "Evaluando el pliegue 8/10\n"
          ]
        },
        {
          "output_type": "stream",
          "name": "stderr",
          "text": [
            "/usr/local/lib/python3.10/dist-packages/keras/src/layers/convolutional/base_conv.py:107: UserWarning: Do not pass an `input_shape`/`input_dim` argument to a layer. When using Sequential models, prefer using an `Input(shape)` object as the first layer in the model instead.\n",
            "  super().__init__(activity_regularizer=activity_regularizer, **kwargs)\n",
            "/usr/local/lib/python3.10/dist-packages/keras/src/saving/saving_lib.py:576: UserWarning: Skipping variable loading for optimizer 'adam', because it has 2 variables whereas the saved optimizer has 18 variables. \n",
            "  saveable.load_own_variables(weights_store.get(inner_path))\n"
          ]
        },
        {
          "output_type": "stream",
          "name": "stdout",
          "text": [
            "Pesos cargados desde /content/drive/My Drive/CancerCiamese/checkpoints//hyperparam_8/fold_8/ckpt_fold_8_iter_50.weights.h5\n",
            "\u001b[1m32/32\u001b[0m \u001b[32m━━━━━━━━━━━━━━━━━━━━\u001b[0m\u001b[37m\u001b[0m \u001b[1m0s\u001b[0m 9ms/step\n",
            "Precisión en validación del pliegue 8: 0.6980\n",
            "\u001b[1m32/32\u001b[0m \u001b[32m━━━━━━━━━━━━━━━━━━━━\u001b[0m\u001b[37m\u001b[0m \u001b[1m0s\u001b[0m 5ms/step\n",
            "\n",
            "Evaluando el pliegue 9/10\n"
          ]
        },
        {
          "output_type": "stream",
          "name": "stderr",
          "text": [
            "/usr/local/lib/python3.10/dist-packages/keras/src/layers/convolutional/base_conv.py:107: UserWarning: Do not pass an `input_shape`/`input_dim` argument to a layer. When using Sequential models, prefer using an `Input(shape)` object as the first layer in the model instead.\n",
            "  super().__init__(activity_regularizer=activity_regularizer, **kwargs)\n",
            "/usr/local/lib/python3.10/dist-packages/keras/src/saving/saving_lib.py:576: UserWarning: Skipping variable loading for optimizer 'adam', because it has 2 variables whereas the saved optimizer has 18 variables. \n",
            "  saveable.load_own_variables(weights_store.get(inner_path))\n"
          ]
        },
        {
          "output_type": "stream",
          "name": "stdout",
          "text": [
            "Pesos cargados desde /content/drive/My Drive/CancerCiamese/checkpoints//hyperparam_8/fold_9/ckpt_fold_9_iter_50.weights.h5\n",
            "\u001b[1m32/32\u001b[0m \u001b[32m━━━━━━━━━━━━━━━━━━━━\u001b[0m\u001b[37m\u001b[0m \u001b[1m0s\u001b[0m 9ms/step\n",
            "Precisión en validación del pliegue 9: 0.7180\n",
            "\u001b[1m32/32\u001b[0m \u001b[32m━━━━━━━━━━━━━━━━━━━━\u001b[0m\u001b[37m\u001b[0m \u001b[1m0s\u001b[0m 5ms/step\n",
            "\n",
            "Evaluando el pliegue 10/10\n"
          ]
        },
        {
          "output_type": "stream",
          "name": "stderr",
          "text": [
            "/usr/local/lib/python3.10/dist-packages/keras/src/layers/convolutional/base_conv.py:107: UserWarning: Do not pass an `input_shape`/`input_dim` argument to a layer. When using Sequential models, prefer using an `Input(shape)` object as the first layer in the model instead.\n",
            "  super().__init__(activity_regularizer=activity_regularizer, **kwargs)\n",
            "/usr/local/lib/python3.10/dist-packages/keras/src/saving/saving_lib.py:576: UserWarning: Skipping variable loading for optimizer 'adam', because it has 2 variables whereas the saved optimizer has 18 variables. \n",
            "  saveable.load_own_variables(weights_store.get(inner_path))\n"
          ]
        },
        {
          "output_type": "stream",
          "name": "stdout",
          "text": [
            "Pesos cargados desde /content/drive/My Drive/CancerCiamese/checkpoints//hyperparam_8/fold_10/ckpt_fold_10_iter_50.weights.h5\n",
            "\u001b[1m32/32\u001b[0m \u001b[32m━━━━━━━━━━━━━━━━━━━━\u001b[0m\u001b[37m\u001b[0m \u001b[1m0s\u001b[0m 10ms/step\n",
            "Precisión en validación del pliegue 10: 0.7130\n",
            "\u001b[1m32/32\u001b[0m \u001b[32m━━━━━━━━━━━━━━━━━━━━\u001b[0m\u001b[37m\u001b[0m \u001b[1m0s\u001b[0m 5ms/step\n",
            "Precisión promedio para la combinación 8: 0.7027\n",
            "Resultados guardados en /content/drive/My Drive/CancerCiamese/results/checkpoint_results.pkl\n"
          ]
        }
      ]
    },
    {
      "cell_type": "code",
      "source": [
        "# Al finalizar, obtener los mejores hiperparámetros basados en la precisión promedio\n",
        "best_result = max(results, key=lambda x: x['accuracy'])\n",
        "print(f\"Mejores hiperparámetros: {best_result['params']}, Precisión: {best_result['accuracy']:.4f}\")"
      ],
      "metadata": {
        "colab": {
          "base_uri": "https://localhost:8080/"
        },
        "id": "gNP4zEDO-oox",
        "outputId": "4352da91-3076-4893-cbf7-0ca465ea678a"
      },
      "execution_count": 28,
      "outputs": [
        {
          "output_type": "stream",
          "name": "stdout",
          "text": [
            "Mejores hiperparámetros: {'filters': 64, 'kernel_size': 5, 'dense_units': 64, 'learning_rate': 0.001, 'batch_size': 16, 'n_iter': 2000}, Precisión: 0.9718\n"
          ]
        }
      ]
    },
    {
      "cell_type": "code",
      "source": [
        "import os\n",
        "import numpy as np\n",
        "import pandas as pd\n",
        "from sklearn.preprocessing import StandardScaler\n",
        "from sklearn.feature_selection import mutual_info_classif, RFE\n",
        "from sklearn import linear_model\n",
        "import tensorflow as tf\n",
        "\n",
        "# Asumiendo que los datos completos están en X y y\n",
        "X_train_full = X  # Asegúrate de que X contenga todo el conjunto de datos\n",
        "y_train_full = y  # Asegúrate de que y contenga todas las etiquetas\n",
        "\n",
        "# Mejores hiperparámetros encontrados\n",
        "best_params = {\n",
        "    'filters': 64,\n",
        "    'kernel_size': 5,\n",
        "    'dense_units': 64,\n",
        "    'learning_rate': 0.001,\n",
        "    'batch_size': 16,\n",
        "    'n_iter': 2000\n",
        "}"
      ],
      "metadata": {
        "id": "RnI_rDwl6Eo2"
      },
      "execution_count": 31,
      "outputs": []
    },
    {
      "cell_type": "code",
      "source": [
        "# Preprocesamiento completo del conjunto de datos\n",
        "print(\"Preprocesando todo el conjunto de datos...\")\n",
        "\n",
        "# Convertir los datos a DataFrames\n",
        "X_train_df_full = pd.DataFrame(X_train_full)\n",
        "\n",
        "# Selección de características con MI y RFE\n",
        "MI_full = mutual_info_classif(X_train_df_full, y_train_full)\n",
        "n_features_mi = min(5000, X_train_df_full.shape[1])  # Asegurar que no excede el número de características\n",
        "selected_scores_indices_full = np.argsort(MI_full)[::-1][:n_features_mi]\n",
        "\n",
        "X_train_mi_full = X_train_df_full.iloc[:, selected_scores_indices_full]\n",
        "\n",
        "# Aplicar RFE\n",
        "estimator_full = linear_model.LogisticRegression(max_iter=700, solver='liblinear')\n",
        "n_features_rfe_full = 60  # Ajusta este número según lo que hiciste durante el entrenamiento\n",
        "rfe_full = RFE(estimator=estimator_full, n_features_to_select=n_features_rfe_full, step=1)\n",
        "rfe_full.fit(X_train_mi_full, y_train_full)\n",
        "\n",
        "X_train_final_full = rfe_full.transform(X_train_mi_full)\n"
      ],
      "metadata": {
        "colab": {
          "base_uri": "https://localhost:8080/"
        },
        "id": "apbgOqDM4YtB",
        "outputId": "ba3e89ba-b8b9-434f-aa17-3da45ca69fce"
      },
      "execution_count": 32,
      "outputs": [
        {
          "output_type": "stream",
          "name": "stdout",
          "text": [
            "Preprocesando todo el conjunto de datos...\n"
          ]
        }
      ]
    },
    {
      "cell_type": "code",
      "source": [
        "# Escalar los datos\n",
        "scaler_full = StandardScaler()\n",
        "X_train_final_full = scaler_full.fit_transform(X_train_final_full)\n",
        "X_train_final_full = X_train_final_full.astype('float32')\n",
        "\n",
        "# Actualizar genes_len e input_shape\n",
        "genes_len = X_train_final_full.shape[1]\n",
        "input_shape = (genes_len, 1)\n"
      ],
      "metadata": {
        "id": "syZM7JZd7RDq"
      },
      "execution_count": 33,
      "outputs": []
    },
    {
      "cell_type": "code",
      "source": [
        "# Definir el modelo final con los mejores hiperparámetros\n",
        "print(\"Construyendo el modelo con los mejores hiperparámetros...\")\n",
        "model = get_siamese_model(input_shape, best_params)\n",
        "\n",
        "# Compilar el modelo\n",
        "optimizer = tf.keras.optimizers.Adam(learning_rate=best_params['learning_rate'])\n",
        "model.compile(loss='binary_crossentropy', optimizer=optimizer, metrics=['accuracy'])\n",
        "\n",
        "# Entrenar el modelo con todo el conjunto de datos\n",
        "batch_size = best_params['batch_size']\n",
        "n_iter = best_params['n_iter']"
      ],
      "metadata": {
        "colab": {
          "base_uri": "https://localhost:8080/"
        },
        "id": "IFM3f8lX7Uia",
        "outputId": "c3c113ee-0da3-4b7e-bb19-96de3f198dac"
      },
      "execution_count": 34,
      "outputs": [
        {
          "output_type": "stream",
          "name": "stdout",
          "text": [
            "Construyendo el modelo con los mejores hiperparámetros...\n"
          ]
        },
        {
          "output_type": "stream",
          "name": "stderr",
          "text": [
            "/usr/local/lib/python3.10/dist-packages/keras/src/layers/convolutional/base_conv.py:107: UserWarning: Do not pass an `input_shape`/`input_dim` argument to a layer. When using Sequential models, prefer using an `Input(shape)` object as the first layer in the model instead.\n",
            "  super().__init__(activity_regularizer=activity_regularizer, **kwargs)\n"
          ]
        }
      ]
    },
    {
      "cell_type": "code",
      "source": [
        "# Configurar el checkpoint para guardar el modelo final\n",
        "checkpoint_dir = '/content/drive/My Drive/CancerCiamese/final_model/'\n",
        "os.makedirs(checkpoint_dir, exist_ok=True)\n",
        "checkpoint_path = os.path.join(checkpoint_dir, 'final_model_weights.weights.h5')"
      ],
      "metadata": {
        "id": "4D240Zyz7XlA"
      },
      "execution_count": 39,
      "outputs": []
    },
    {
      "cell_type": "code",
      "source": [
        "# Si X_train_final_full está en formato numpy.ndarray, conviértelo a DataFrame\n",
        "X_train_final_full_df = pd.DataFrame(X_train_final_full)\n"
      ],
      "metadata": {
        "id": "v0C-yqO877Fg"
      },
      "execution_count": 40,
      "outputs": []
    },
    {
      "cell_type": "code",
      "source": [
        "# Entrenar el modelo\n",
        "print(\"Entrenando el modelo en todo el conjunto de datos...\")\n",
        "for i in range(1, n_iter + 1):\n",
        "    inputs, targets = get_batch(batch_size, X_train_final_full_df, y_train_full)\n",
        "    loss, acc = model.train_on_batch(inputs, targets)\n",
        "\n",
        "    if i % 100 == 0 or i == n_iter:\n",
        "        # Guardar los pesos del modelo final\n",
        "        model.save_weights(checkpoint_path)\n",
        "        print(f\"Iteración {i}, pérdida de entrenamiento: {loss:.4f}, precisión: {acc:.4f}, modelo guardado en {checkpoint_path}\")\n",
        "\n",
        "# Guardar el modelo final completo\n",
        "model.save(os.path.join(checkpoint_dir, 'final_model.h5'))\n",
        "print(f\"Entrenamiento completado. El modelo completo ha sido guardado en {checkpoint_dir}\")\n"
      ],
      "metadata": {
        "colab": {
          "base_uri": "https://localhost:8080/"
        },
        "id": "0z7qhhM95H_P",
        "outputId": "11fe165f-f995-45a5-8a24-45bb34f0a463"
      },
      "execution_count": 41,
      "outputs": [
        {
          "output_type": "stream",
          "name": "stdout",
          "text": [
            "Entrenando el modelo en todo el conjunto de datos...\n",
            "Iteración 100, pérdida de entrenamiento: 0.1226, precisión: 0.9647, modelo guardado en /content/drive/My Drive/CancerCiamese/final_model/final_model_weights.weights.h5\n",
            "Iteración 200, pérdida de entrenamiento: 0.0886, precisión: 0.9765, modelo guardado en /content/drive/My Drive/CancerCiamese/final_model/final_model_weights.weights.h5\n",
            "Iteración 300, pérdida de entrenamiento: 0.0701, precisión: 0.9823, modelo guardado en /content/drive/My Drive/CancerCiamese/final_model/final_model_weights.weights.h5\n",
            "Iteración 400, pérdida de entrenamiento: 0.0579, precisión: 0.9859, modelo guardado en /content/drive/My Drive/CancerCiamese/final_model/final_model_weights.weights.h5\n",
            "Iteración 500, pérdida de entrenamiento: 0.0494, precisión: 0.9882, modelo guardado en /content/drive/My Drive/CancerCiamese/final_model/final_model_weights.weights.h5\n",
            "Iteración 600, pérdida de entrenamiento: 0.0432, precisión: 0.9899, modelo guardado en /content/drive/My Drive/CancerCiamese/final_model/final_model_weights.weights.h5\n",
            "Iteración 700, pérdida de entrenamiento: 0.0385, precisión: 0.9912, modelo guardado en /content/drive/My Drive/CancerCiamese/final_model/final_model_weights.weights.h5\n",
            "Iteración 800, pérdida de entrenamiento: 0.0347, precisión: 0.9922, modelo guardado en /content/drive/My Drive/CancerCiamese/final_model/final_model_weights.weights.h5\n",
            "Iteración 900, pérdida de entrenamiento: 0.0316, precisión: 0.9929, modelo guardado en /content/drive/My Drive/CancerCiamese/final_model/final_model_weights.weights.h5\n",
            "Iteración 1000, pérdida de entrenamiento: 0.0289, precisión: 0.9936, modelo guardado en /content/drive/My Drive/CancerCiamese/final_model/final_model_weights.weights.h5\n",
            "Iteración 1100, pérdida de entrenamiento: 0.0268, precisión: 0.9941, modelo guardado en /content/drive/My Drive/CancerCiamese/final_model/final_model_weights.weights.h5\n",
            "Iteración 1200, pérdida de entrenamiento: 0.0249, precisión: 0.9946, modelo guardado en /content/drive/My Drive/CancerCiamese/final_model/final_model_weights.weights.h5\n",
            "Iteración 1300, pérdida de entrenamiento: 0.0232, precisión: 0.9950, modelo guardado en /content/drive/My Drive/CancerCiamese/final_model/final_model_weights.weights.h5\n",
            "Iteración 1400, pérdida de entrenamiento: 0.0218, precisión: 0.9953, modelo guardado en /content/drive/My Drive/CancerCiamese/final_model/final_model_weights.weights.h5\n",
            "Iteración 1500, pérdida de entrenamiento: 0.0205, precisión: 0.9956, modelo guardado en /content/drive/My Drive/CancerCiamese/final_model/final_model_weights.weights.h5\n",
            "Iteración 1600, pérdida de entrenamiento: 0.0194, precisión: 0.9958, modelo guardado en /content/drive/My Drive/CancerCiamese/final_model/final_model_weights.weights.h5\n",
            "Iteración 1700, pérdida de entrenamiento: 0.0184, precisión: 0.9961, modelo guardado en /content/drive/My Drive/CancerCiamese/final_model/final_model_weights.weights.h5\n",
            "Iteración 1800, pérdida de entrenamiento: 0.0175, precisión: 0.9963, modelo guardado en /content/drive/My Drive/CancerCiamese/final_model/final_model_weights.weights.h5\n",
            "Iteración 1900, pérdida de entrenamiento: 0.0167, precisión: 0.9965, modelo guardado en /content/drive/My Drive/CancerCiamese/final_model/final_model_weights.weights.h5\n"
          ]
        },
        {
          "output_type": "stream",
          "name": "stderr",
          "text": [
            "WARNING:absl:You are saving your model as an HDF5 file via `model.save()` or `keras.saving.save_model(model)`. This file format is considered legacy. We recommend using instead the native Keras format, e.g. `model.save('my_model.keras')` or `keras.saving.save_model(model, 'my_model.keras')`. \n"
          ]
        },
        {
          "output_type": "stream",
          "name": "stdout",
          "text": [
            "Iteración 2000, pérdida de entrenamiento: 0.0159, precisión: 0.9966, modelo guardado en /content/drive/My Drive/CancerCiamese/final_model/final_model_weights.weights.h5\n",
            "Entrenamiento completado. El modelo completo ha sido guardado en /content/drive/My Drive/CancerCiamese/final_model/\n"
          ]
        }
      ]
    },
    {
      "cell_type": "code",
      "source": [
        "data_path_peru = \"data_peru_common_tcga.csv\"\n",
        "peru_data = pd.read_csv(data_path_peru)"
      ],
      "metadata": {
        "id": "9cyU7_ZyKUc0"
      },
      "execution_count": 42,
      "outputs": []
    },
    {
      "cell_type": "code",
      "source": [
        "peru_data"
      ],
      "metadata": {
        "colab": {
          "base_uri": "https://localhost:8080/",
          "height": 444
        },
        "id": "VvkzggeNKda6",
        "outputId": "940dde79-c412-408a-af5d-cc63e2c36193"
      },
      "execution_count": 43,
      "outputs": [
        {
          "output_type": "execute_result",
          "data": {
            "text/plain": [
              "       OR4F5    SAMD11    KLHL17   PLEKHN1     ISG15      AGRN    TTLL10  \\\n",
              "0   0.254230  2.141892  2.695940  1.662437  3.167184  3.504840  0.595043   \n",
              "1  -0.011437  1.685124  2.579538  1.466023  3.364204  3.390632  0.235006   \n",
              "2   0.362240  2.065399  2.725148  1.525630  3.482724  3.490525  0.566946   \n",
              "3   0.100154  1.764785  2.497702  1.482230  3.155980  3.701021  0.296216   \n",
              "4   0.165894  2.046008  2.644645  1.799866  3.184813  3.481585  0.571769   \n",
              "..       ...       ...       ...       ...       ...       ...       ...   \n",
              "64  0.021198  2.052877  2.502733  1.466716  3.142161  3.320455  0.326255   \n",
              "65  0.380189  2.217285  2.644737  1.702738  3.280922  3.369192  0.458941   \n",
              "66  0.325183  2.201746  2.783097  1.755221  3.416217  3.421884  0.604483   \n",
              "67  0.205764  2.134727  2.729191  1.717289  3.320359  3.389706  0.567399   \n",
              "68  0.225608  1.962333  2.526348  1.505237  3.126784  3.400976  0.288524   \n",
              "\n",
              "     B3GALT6    SCNN1D     PUSL1  ...       UTY       VCY     CDY2B     HSFY2  \\\n",
              "0   3.111083  2.762887  3.065443  ...  3.094987  0.646843  0.203321  0.175602   \n",
              "1   3.191572  2.474322  2.871843  ...  3.198167  0.090339  0.216779 -0.017372   \n",
              "2   3.234901  2.890114  2.958777  ...  2.417349  0.627213  0.297323  0.165927   \n",
              "3   2.973641  2.385950  2.856183  ...  0.800008  0.194457  0.157414 -0.072548   \n",
              "4   3.172657  2.787213  2.987181  ...  0.571582  0.951972  0.185237  0.268397   \n",
              "..       ...       ...       ...  ...       ...       ...       ...       ...   \n",
              "64  3.121720  2.440208  2.863108  ...  3.191432  0.407765  0.215363  0.197966   \n",
              "65  3.083183  2.692345  2.992064  ...  3.130157  0.681758  0.158950  0.228330   \n",
              "66  3.017752  2.829693  2.962332  ...  0.837612  0.863211  0.321963  0.309608   \n",
              "67  3.195556  2.664834  2.936403  ...  3.091171  1.043533  0.293500  0.317090   \n",
              "68  3.065700  2.657806  2.788608  ...  3.192290  0.450680  0.275407  0.232850   \n",
              "\n",
              "       KDM5D    RBMY1E      PRY2     CDY1B      DAZ3   labels  \n",
              "0   3.247262  0.379666  0.466016  0.160055  0.225937   cancer  \n",
              "1   3.115001  0.036815  0.147280  0.165846 -0.030485   cancer  \n",
              "2   2.882452  0.095503  0.683298  0.220489  0.150972   cancer  \n",
              "3   0.780398  0.070627  0.036302  0.174238  0.005255   cancer  \n",
              "4   1.105749  0.090594  0.661294  0.170378  0.139097   cancer  \n",
              "..       ...       ...       ...       ...       ...      ...  \n",
              "64  3.373025  0.138245  0.186749  0.203355  0.483128  healthy  \n",
              "65  3.252710  0.292829  0.417132  0.178942  0.641082  healthy  \n",
              "66  1.010214  0.308662  0.566428  0.269725  0.322256  healthy  \n",
              "67  3.267150  0.633331  0.797054  0.255759  0.197358  healthy  \n",
              "68  3.385927  0.292829  0.295931  0.194365  1.137645  healthy  \n",
              "\n",
              "[69 rows x 16076 columns]"
            ],
            "text/html": [
              "\n",
              "  <div id=\"df-f03ecc49-7cee-4606-b211-9d6cb25bae11\" class=\"colab-df-container\">\n",
              "    <div>\n",
              "<style scoped>\n",
              "    .dataframe tbody tr th:only-of-type {\n",
              "        vertical-align: middle;\n",
              "    }\n",
              "\n",
              "    .dataframe tbody tr th {\n",
              "        vertical-align: top;\n",
              "    }\n",
              "\n",
              "    .dataframe thead th {\n",
              "        text-align: right;\n",
              "    }\n",
              "</style>\n",
              "<table border=\"1\" class=\"dataframe\">\n",
              "  <thead>\n",
              "    <tr style=\"text-align: right;\">\n",
              "      <th></th>\n",
              "      <th>OR4F5</th>\n",
              "      <th>SAMD11</th>\n",
              "      <th>KLHL17</th>\n",
              "      <th>PLEKHN1</th>\n",
              "      <th>ISG15</th>\n",
              "      <th>AGRN</th>\n",
              "      <th>TTLL10</th>\n",
              "      <th>B3GALT6</th>\n",
              "      <th>SCNN1D</th>\n",
              "      <th>PUSL1</th>\n",
              "      <th>...</th>\n",
              "      <th>UTY</th>\n",
              "      <th>VCY</th>\n",
              "      <th>CDY2B</th>\n",
              "      <th>HSFY2</th>\n",
              "      <th>KDM5D</th>\n",
              "      <th>RBMY1E</th>\n",
              "      <th>PRY2</th>\n",
              "      <th>CDY1B</th>\n",
              "      <th>DAZ3</th>\n",
              "      <th>labels</th>\n",
              "    </tr>\n",
              "  </thead>\n",
              "  <tbody>\n",
              "    <tr>\n",
              "      <th>0</th>\n",
              "      <td>0.254230</td>\n",
              "      <td>2.141892</td>\n",
              "      <td>2.695940</td>\n",
              "      <td>1.662437</td>\n",
              "      <td>3.167184</td>\n",
              "      <td>3.504840</td>\n",
              "      <td>0.595043</td>\n",
              "      <td>3.111083</td>\n",
              "      <td>2.762887</td>\n",
              "      <td>3.065443</td>\n",
              "      <td>...</td>\n",
              "      <td>3.094987</td>\n",
              "      <td>0.646843</td>\n",
              "      <td>0.203321</td>\n",
              "      <td>0.175602</td>\n",
              "      <td>3.247262</td>\n",
              "      <td>0.379666</td>\n",
              "      <td>0.466016</td>\n",
              "      <td>0.160055</td>\n",
              "      <td>0.225937</td>\n",
              "      <td>cancer</td>\n",
              "    </tr>\n",
              "    <tr>\n",
              "      <th>1</th>\n",
              "      <td>-0.011437</td>\n",
              "      <td>1.685124</td>\n",
              "      <td>2.579538</td>\n",
              "      <td>1.466023</td>\n",
              "      <td>3.364204</td>\n",
              "      <td>3.390632</td>\n",
              "      <td>0.235006</td>\n",
              "      <td>3.191572</td>\n",
              "      <td>2.474322</td>\n",
              "      <td>2.871843</td>\n",
              "      <td>...</td>\n",
              "      <td>3.198167</td>\n",
              "      <td>0.090339</td>\n",
              "      <td>0.216779</td>\n",
              "      <td>-0.017372</td>\n",
              "      <td>3.115001</td>\n",
              "      <td>0.036815</td>\n",
              "      <td>0.147280</td>\n",
              "      <td>0.165846</td>\n",
              "      <td>-0.030485</td>\n",
              "      <td>cancer</td>\n",
              "    </tr>\n",
              "    <tr>\n",
              "      <th>2</th>\n",
              "      <td>0.362240</td>\n",
              "      <td>2.065399</td>\n",
              "      <td>2.725148</td>\n",
              "      <td>1.525630</td>\n",
              "      <td>3.482724</td>\n",
              "      <td>3.490525</td>\n",
              "      <td>0.566946</td>\n",
              "      <td>3.234901</td>\n",
              "      <td>2.890114</td>\n",
              "      <td>2.958777</td>\n",
              "      <td>...</td>\n",
              "      <td>2.417349</td>\n",
              "      <td>0.627213</td>\n",
              "      <td>0.297323</td>\n",
              "      <td>0.165927</td>\n",
              "      <td>2.882452</td>\n",
              "      <td>0.095503</td>\n",
              "      <td>0.683298</td>\n",
              "      <td>0.220489</td>\n",
              "      <td>0.150972</td>\n",
              "      <td>cancer</td>\n",
              "    </tr>\n",
              "    <tr>\n",
              "      <th>3</th>\n",
              "      <td>0.100154</td>\n",
              "      <td>1.764785</td>\n",
              "      <td>2.497702</td>\n",
              "      <td>1.482230</td>\n",
              "      <td>3.155980</td>\n",
              "      <td>3.701021</td>\n",
              "      <td>0.296216</td>\n",
              "      <td>2.973641</td>\n",
              "      <td>2.385950</td>\n",
              "      <td>2.856183</td>\n",
              "      <td>...</td>\n",
              "      <td>0.800008</td>\n",
              "      <td>0.194457</td>\n",
              "      <td>0.157414</td>\n",
              "      <td>-0.072548</td>\n",
              "      <td>0.780398</td>\n",
              "      <td>0.070627</td>\n",
              "      <td>0.036302</td>\n",
              "      <td>0.174238</td>\n",
              "      <td>0.005255</td>\n",
              "      <td>cancer</td>\n",
              "    </tr>\n",
              "    <tr>\n",
              "      <th>4</th>\n",
              "      <td>0.165894</td>\n",
              "      <td>2.046008</td>\n",
              "      <td>2.644645</td>\n",
              "      <td>1.799866</td>\n",
              "      <td>3.184813</td>\n",
              "      <td>3.481585</td>\n",
              "      <td>0.571769</td>\n",
              "      <td>3.172657</td>\n",
              "      <td>2.787213</td>\n",
              "      <td>2.987181</td>\n",
              "      <td>...</td>\n",
              "      <td>0.571582</td>\n",
              "      <td>0.951972</td>\n",
              "      <td>0.185237</td>\n",
              "      <td>0.268397</td>\n",
              "      <td>1.105749</td>\n",
              "      <td>0.090594</td>\n",
              "      <td>0.661294</td>\n",
              "      <td>0.170378</td>\n",
              "      <td>0.139097</td>\n",
              "      <td>cancer</td>\n",
              "    </tr>\n",
              "    <tr>\n",
              "      <th>...</th>\n",
              "      <td>...</td>\n",
              "      <td>...</td>\n",
              "      <td>...</td>\n",
              "      <td>...</td>\n",
              "      <td>...</td>\n",
              "      <td>...</td>\n",
              "      <td>...</td>\n",
              "      <td>...</td>\n",
              "      <td>...</td>\n",
              "      <td>...</td>\n",
              "      <td>...</td>\n",
              "      <td>...</td>\n",
              "      <td>...</td>\n",
              "      <td>...</td>\n",
              "      <td>...</td>\n",
              "      <td>...</td>\n",
              "      <td>...</td>\n",
              "      <td>...</td>\n",
              "      <td>...</td>\n",
              "      <td>...</td>\n",
              "      <td>...</td>\n",
              "    </tr>\n",
              "    <tr>\n",
              "      <th>64</th>\n",
              "      <td>0.021198</td>\n",
              "      <td>2.052877</td>\n",
              "      <td>2.502733</td>\n",
              "      <td>1.466716</td>\n",
              "      <td>3.142161</td>\n",
              "      <td>3.320455</td>\n",
              "      <td>0.326255</td>\n",
              "      <td>3.121720</td>\n",
              "      <td>2.440208</td>\n",
              "      <td>2.863108</td>\n",
              "      <td>...</td>\n",
              "      <td>3.191432</td>\n",
              "      <td>0.407765</td>\n",
              "      <td>0.215363</td>\n",
              "      <td>0.197966</td>\n",
              "      <td>3.373025</td>\n",
              "      <td>0.138245</td>\n",
              "      <td>0.186749</td>\n",
              "      <td>0.203355</td>\n",
              "      <td>0.483128</td>\n",
              "      <td>healthy</td>\n",
              "    </tr>\n",
              "    <tr>\n",
              "      <th>65</th>\n",
              "      <td>0.380189</td>\n",
              "      <td>2.217285</td>\n",
              "      <td>2.644737</td>\n",
              "      <td>1.702738</td>\n",
              "      <td>3.280922</td>\n",
              "      <td>3.369192</td>\n",
              "      <td>0.458941</td>\n",
              "      <td>3.083183</td>\n",
              "      <td>2.692345</td>\n",
              "      <td>2.992064</td>\n",
              "      <td>...</td>\n",
              "      <td>3.130157</td>\n",
              "      <td>0.681758</td>\n",
              "      <td>0.158950</td>\n",
              "      <td>0.228330</td>\n",
              "      <td>3.252710</td>\n",
              "      <td>0.292829</td>\n",
              "      <td>0.417132</td>\n",
              "      <td>0.178942</td>\n",
              "      <td>0.641082</td>\n",
              "      <td>healthy</td>\n",
              "    </tr>\n",
              "    <tr>\n",
              "      <th>66</th>\n",
              "      <td>0.325183</td>\n",
              "      <td>2.201746</td>\n",
              "      <td>2.783097</td>\n",
              "      <td>1.755221</td>\n",
              "      <td>3.416217</td>\n",
              "      <td>3.421884</td>\n",
              "      <td>0.604483</td>\n",
              "      <td>3.017752</td>\n",
              "      <td>2.829693</td>\n",
              "      <td>2.962332</td>\n",
              "      <td>...</td>\n",
              "      <td>0.837612</td>\n",
              "      <td>0.863211</td>\n",
              "      <td>0.321963</td>\n",
              "      <td>0.309608</td>\n",
              "      <td>1.010214</td>\n",
              "      <td>0.308662</td>\n",
              "      <td>0.566428</td>\n",
              "      <td>0.269725</td>\n",
              "      <td>0.322256</td>\n",
              "      <td>healthy</td>\n",
              "    </tr>\n",
              "    <tr>\n",
              "      <th>67</th>\n",
              "      <td>0.205764</td>\n",
              "      <td>2.134727</td>\n",
              "      <td>2.729191</td>\n",
              "      <td>1.717289</td>\n",
              "      <td>3.320359</td>\n",
              "      <td>3.389706</td>\n",
              "      <td>0.567399</td>\n",
              "      <td>3.195556</td>\n",
              "      <td>2.664834</td>\n",
              "      <td>2.936403</td>\n",
              "      <td>...</td>\n",
              "      <td>3.091171</td>\n",
              "      <td>1.043533</td>\n",
              "      <td>0.293500</td>\n",
              "      <td>0.317090</td>\n",
              "      <td>3.267150</td>\n",
              "      <td>0.633331</td>\n",
              "      <td>0.797054</td>\n",
              "      <td>0.255759</td>\n",
              "      <td>0.197358</td>\n",
              "      <td>healthy</td>\n",
              "    </tr>\n",
              "    <tr>\n",
              "      <th>68</th>\n",
              "      <td>0.225608</td>\n",
              "      <td>1.962333</td>\n",
              "      <td>2.526348</td>\n",
              "      <td>1.505237</td>\n",
              "      <td>3.126784</td>\n",
              "      <td>3.400976</td>\n",
              "      <td>0.288524</td>\n",
              "      <td>3.065700</td>\n",
              "      <td>2.657806</td>\n",
              "      <td>2.788608</td>\n",
              "      <td>...</td>\n",
              "      <td>3.192290</td>\n",
              "      <td>0.450680</td>\n",
              "      <td>0.275407</td>\n",
              "      <td>0.232850</td>\n",
              "      <td>3.385927</td>\n",
              "      <td>0.292829</td>\n",
              "      <td>0.295931</td>\n",
              "      <td>0.194365</td>\n",
              "      <td>1.137645</td>\n",
              "      <td>healthy</td>\n",
              "    </tr>\n",
              "  </tbody>\n",
              "</table>\n",
              "<p>69 rows × 16076 columns</p>\n",
              "</div>\n",
              "    <div class=\"colab-df-buttons\">\n",
              "\n",
              "  <div class=\"colab-df-container\">\n",
              "    <button class=\"colab-df-convert\" onclick=\"convertToInteractive('df-f03ecc49-7cee-4606-b211-9d6cb25bae11')\"\n",
              "            title=\"Convert this dataframe to an interactive table.\"\n",
              "            style=\"display:none;\">\n",
              "\n",
              "  <svg xmlns=\"http://www.w3.org/2000/svg\" height=\"24px\" viewBox=\"0 -960 960 960\">\n",
              "    <path d=\"M120-120v-720h720v720H120Zm60-500h600v-160H180v160Zm220 220h160v-160H400v160Zm0 220h160v-160H400v160ZM180-400h160v-160H180v160Zm440 0h160v-160H620v160ZM180-180h160v-160H180v160Zm440 0h160v-160H620v160Z\"/>\n",
              "  </svg>\n",
              "    </button>\n",
              "\n",
              "  <style>\n",
              "    .colab-df-container {\n",
              "      display:flex;\n",
              "      gap: 12px;\n",
              "    }\n",
              "\n",
              "    .colab-df-convert {\n",
              "      background-color: #E8F0FE;\n",
              "      border: none;\n",
              "      border-radius: 50%;\n",
              "      cursor: pointer;\n",
              "      display: none;\n",
              "      fill: #1967D2;\n",
              "      height: 32px;\n",
              "      padding: 0 0 0 0;\n",
              "      width: 32px;\n",
              "    }\n",
              "\n",
              "    .colab-df-convert:hover {\n",
              "      background-color: #E2EBFA;\n",
              "      box-shadow: 0px 1px 2px rgba(60, 64, 67, 0.3), 0px 1px 3px 1px rgba(60, 64, 67, 0.15);\n",
              "      fill: #174EA6;\n",
              "    }\n",
              "\n",
              "    .colab-df-buttons div {\n",
              "      margin-bottom: 4px;\n",
              "    }\n",
              "\n",
              "    [theme=dark] .colab-df-convert {\n",
              "      background-color: #3B4455;\n",
              "      fill: #D2E3FC;\n",
              "    }\n",
              "\n",
              "    [theme=dark] .colab-df-convert:hover {\n",
              "      background-color: #434B5C;\n",
              "      box-shadow: 0px 1px 3px 1px rgba(0, 0, 0, 0.15);\n",
              "      filter: drop-shadow(0px 1px 2px rgba(0, 0, 0, 0.3));\n",
              "      fill: #FFFFFF;\n",
              "    }\n",
              "  </style>\n",
              "\n",
              "    <script>\n",
              "      const buttonEl =\n",
              "        document.querySelector('#df-f03ecc49-7cee-4606-b211-9d6cb25bae11 button.colab-df-convert');\n",
              "      buttonEl.style.display =\n",
              "        google.colab.kernel.accessAllowed ? 'block' : 'none';\n",
              "\n",
              "      async function convertToInteractive(key) {\n",
              "        const element = document.querySelector('#df-f03ecc49-7cee-4606-b211-9d6cb25bae11');\n",
              "        const dataTable =\n",
              "          await google.colab.kernel.invokeFunction('convertToInteractive',\n",
              "                                                    [key], {});\n",
              "        if (!dataTable) return;\n",
              "\n",
              "        const docLinkHtml = 'Like what you see? Visit the ' +\n",
              "          '<a target=\"_blank\" href=https://colab.research.google.com/notebooks/data_table.ipynb>data table notebook</a>'\n",
              "          + ' to learn more about interactive tables.';\n",
              "        element.innerHTML = '';\n",
              "        dataTable['output_type'] = 'display_data';\n",
              "        await google.colab.output.renderOutput(dataTable, element);\n",
              "        const docLink = document.createElement('div');\n",
              "        docLink.innerHTML = docLinkHtml;\n",
              "        element.appendChild(docLink);\n",
              "      }\n",
              "    </script>\n",
              "  </div>\n",
              "\n",
              "\n",
              "<div id=\"df-d2f714ae-e999-42da-b188-63d0d837356f\">\n",
              "  <button class=\"colab-df-quickchart\" onclick=\"quickchart('df-d2f714ae-e999-42da-b188-63d0d837356f')\"\n",
              "            title=\"Suggest charts\"\n",
              "            style=\"display:none;\">\n",
              "\n",
              "<svg xmlns=\"http://www.w3.org/2000/svg\" height=\"24px\"viewBox=\"0 0 24 24\"\n",
              "     width=\"24px\">\n",
              "    <g>\n",
              "        <path d=\"M19 3H5c-1.1 0-2 .9-2 2v14c0 1.1.9 2 2 2h14c1.1 0 2-.9 2-2V5c0-1.1-.9-2-2-2zM9 17H7v-7h2v7zm4 0h-2V7h2v10zm4 0h-2v-4h2v4z\"/>\n",
              "    </g>\n",
              "</svg>\n",
              "  </button>\n",
              "\n",
              "<style>\n",
              "  .colab-df-quickchart {\n",
              "      --bg-color: #E8F0FE;\n",
              "      --fill-color: #1967D2;\n",
              "      --hover-bg-color: #E2EBFA;\n",
              "      --hover-fill-color: #174EA6;\n",
              "      --disabled-fill-color: #AAA;\n",
              "      --disabled-bg-color: #DDD;\n",
              "  }\n",
              "\n",
              "  [theme=dark] .colab-df-quickchart {\n",
              "      --bg-color: #3B4455;\n",
              "      --fill-color: #D2E3FC;\n",
              "      --hover-bg-color: #434B5C;\n",
              "      --hover-fill-color: #FFFFFF;\n",
              "      --disabled-bg-color: #3B4455;\n",
              "      --disabled-fill-color: #666;\n",
              "  }\n",
              "\n",
              "  .colab-df-quickchart {\n",
              "    background-color: var(--bg-color);\n",
              "    border: none;\n",
              "    border-radius: 50%;\n",
              "    cursor: pointer;\n",
              "    display: none;\n",
              "    fill: var(--fill-color);\n",
              "    height: 32px;\n",
              "    padding: 0;\n",
              "    width: 32px;\n",
              "  }\n",
              "\n",
              "  .colab-df-quickchart:hover {\n",
              "    background-color: var(--hover-bg-color);\n",
              "    box-shadow: 0 1px 2px rgba(60, 64, 67, 0.3), 0 1px 3px 1px rgba(60, 64, 67, 0.15);\n",
              "    fill: var(--button-hover-fill-color);\n",
              "  }\n",
              "\n",
              "  .colab-df-quickchart-complete:disabled,\n",
              "  .colab-df-quickchart-complete:disabled:hover {\n",
              "    background-color: var(--disabled-bg-color);\n",
              "    fill: var(--disabled-fill-color);\n",
              "    box-shadow: none;\n",
              "  }\n",
              "\n",
              "  .colab-df-spinner {\n",
              "    border: 2px solid var(--fill-color);\n",
              "    border-color: transparent;\n",
              "    border-bottom-color: var(--fill-color);\n",
              "    animation:\n",
              "      spin 1s steps(1) infinite;\n",
              "  }\n",
              "\n",
              "  @keyframes spin {\n",
              "    0% {\n",
              "      border-color: transparent;\n",
              "      border-bottom-color: var(--fill-color);\n",
              "      border-left-color: var(--fill-color);\n",
              "    }\n",
              "    20% {\n",
              "      border-color: transparent;\n",
              "      border-left-color: var(--fill-color);\n",
              "      border-top-color: var(--fill-color);\n",
              "    }\n",
              "    30% {\n",
              "      border-color: transparent;\n",
              "      border-left-color: var(--fill-color);\n",
              "      border-top-color: var(--fill-color);\n",
              "      border-right-color: var(--fill-color);\n",
              "    }\n",
              "    40% {\n",
              "      border-color: transparent;\n",
              "      border-right-color: var(--fill-color);\n",
              "      border-top-color: var(--fill-color);\n",
              "    }\n",
              "    60% {\n",
              "      border-color: transparent;\n",
              "      border-right-color: var(--fill-color);\n",
              "    }\n",
              "    80% {\n",
              "      border-color: transparent;\n",
              "      border-right-color: var(--fill-color);\n",
              "      border-bottom-color: var(--fill-color);\n",
              "    }\n",
              "    90% {\n",
              "      border-color: transparent;\n",
              "      border-bottom-color: var(--fill-color);\n",
              "    }\n",
              "  }\n",
              "</style>\n",
              "\n",
              "  <script>\n",
              "    async function quickchart(key) {\n",
              "      const quickchartButtonEl =\n",
              "        document.querySelector('#' + key + ' button');\n",
              "      quickchartButtonEl.disabled = true;  // To prevent multiple clicks.\n",
              "      quickchartButtonEl.classList.add('colab-df-spinner');\n",
              "      try {\n",
              "        const charts = await google.colab.kernel.invokeFunction(\n",
              "            'suggestCharts', [key], {});\n",
              "      } catch (error) {\n",
              "        console.error('Error during call to suggestCharts:', error);\n",
              "      }\n",
              "      quickchartButtonEl.classList.remove('colab-df-spinner');\n",
              "      quickchartButtonEl.classList.add('colab-df-quickchart-complete');\n",
              "    }\n",
              "    (() => {\n",
              "      let quickchartButtonEl =\n",
              "        document.querySelector('#df-d2f714ae-e999-42da-b188-63d0d837356f button');\n",
              "      quickchartButtonEl.style.display =\n",
              "        google.colab.kernel.accessAllowed ? 'block' : 'none';\n",
              "    })();\n",
              "  </script>\n",
              "</div>\n",
              "\n",
              "  <div id=\"id_7d8696e0-fd40-41a6-bc09-afb51f64a58d\">\n",
              "    <style>\n",
              "      .colab-df-generate {\n",
              "        background-color: #E8F0FE;\n",
              "        border: none;\n",
              "        border-radius: 50%;\n",
              "        cursor: pointer;\n",
              "        display: none;\n",
              "        fill: #1967D2;\n",
              "        height: 32px;\n",
              "        padding: 0 0 0 0;\n",
              "        width: 32px;\n",
              "      }\n",
              "\n",
              "      .colab-df-generate:hover {\n",
              "        background-color: #E2EBFA;\n",
              "        box-shadow: 0px 1px 2px rgba(60, 64, 67, 0.3), 0px 1px 3px 1px rgba(60, 64, 67, 0.15);\n",
              "        fill: #174EA6;\n",
              "      }\n",
              "\n",
              "      [theme=dark] .colab-df-generate {\n",
              "        background-color: #3B4455;\n",
              "        fill: #D2E3FC;\n",
              "      }\n",
              "\n",
              "      [theme=dark] .colab-df-generate:hover {\n",
              "        background-color: #434B5C;\n",
              "        box-shadow: 0px 1px 3px 1px rgba(0, 0, 0, 0.15);\n",
              "        filter: drop-shadow(0px 1px 2px rgba(0, 0, 0, 0.3));\n",
              "        fill: #FFFFFF;\n",
              "      }\n",
              "    </style>\n",
              "    <button class=\"colab-df-generate\" onclick=\"generateWithVariable('peru_data')\"\n",
              "            title=\"Generate code using this dataframe.\"\n",
              "            style=\"display:none;\">\n",
              "\n",
              "  <svg xmlns=\"http://www.w3.org/2000/svg\" height=\"24px\"viewBox=\"0 0 24 24\"\n",
              "       width=\"24px\">\n",
              "    <path d=\"M7,19H8.4L18.45,9,17,7.55,7,17.6ZM5,21V16.75L18.45,3.32a2,2,0,0,1,2.83,0l1.4,1.43a1.91,1.91,0,0,1,.58,1.4,1.91,1.91,0,0,1-.58,1.4L9.25,21ZM18.45,9,17,7.55Zm-12,3A5.31,5.31,0,0,0,4.9,8.1,5.31,5.31,0,0,0,1,6.5,5.31,5.31,0,0,0,4.9,4.9,5.31,5.31,0,0,0,6.5,1,5.31,5.31,0,0,0,8.1,4.9,5.31,5.31,0,0,0,12,6.5,5.46,5.46,0,0,0,6.5,12Z\"/>\n",
              "  </svg>\n",
              "    </button>\n",
              "    <script>\n",
              "      (() => {\n",
              "      const buttonEl =\n",
              "        document.querySelector('#id_7d8696e0-fd40-41a6-bc09-afb51f64a58d button.colab-df-generate');\n",
              "      buttonEl.style.display =\n",
              "        google.colab.kernel.accessAllowed ? 'block' : 'none';\n",
              "\n",
              "      buttonEl.onclick = () => {\n",
              "        google.colab.notebook.generateWithVariable('peru_data');\n",
              "      }\n",
              "      })();\n",
              "    </script>\n",
              "  </div>\n",
              "\n",
              "    </div>\n",
              "  </div>\n"
            ],
            "application/vnd.google.colaboratory.intrinsic+json": {
              "type": "dataframe",
              "variable_name": "peru_data"
            }
          },
          "metadata": {},
          "execution_count": 43
        }
      ]
    },
    {
      "cell_type": "code",
      "source": [
        "from sklearn.preprocessing import LabelEncoder\n",
        "\n",
        "# Selección de características con MI y RFE\n",
        "X_reserved = peru_data.drop('labels', axis=1)\n",
        "y_reserved = peru_data['labels']\n",
        "\n",
        "# Selección de características\n",
        "X_reserved_mi = X_reserved.iloc[:, selected_scores_indices_full]\n",
        "X_reserved_final = rfe.transform(X_reserved_mi)"
      ],
      "metadata": {
        "colab": {
          "base_uri": "https://localhost:8080/"
        },
        "id": "wduciGEGjc34",
        "outputId": "80ba8a4f-0994-42b7-dfe7-66d7bbfd1266"
      },
      "execution_count": 49,
      "outputs": [
        {
          "output_type": "stream",
          "name": "stderr",
          "text": [
            "/usr/local/lib/python3.10/dist-packages/sklearn/base.py:486: UserWarning: X has feature names, but RFE was fitted without feature names\n",
            "  warnings.warn(\n"
          ]
        }
      ]
    },
    {
      "cell_type": "code",
      "source": [
        "# Guardar la arquitectura del modelo en un archivo JSON\n",
        "model_json = model.to_json()\n",
        "with open(\"/content/drive/My Drive/CancerCiamese/final_model/model_architecture.json\", \"w\") as json_file:\n",
        "    json_file.write(model_json)\n"
      ],
      "metadata": {
        "id": "fZUyS3xSuMiN"
      },
      "execution_count": 54,
      "outputs": []
    },
    {
      "cell_type": "code",
      "source": [
        "# Ruta donde guardaste el modelo entrenado\n",
        "checkpoint_dir = '/content/drive/My Drive/CancerCiamese/final_model/'\n",
        "model_path = os.path.join(checkpoint_dir, 'final_model.h5')"
      ],
      "metadata": {
        "id": "KpxAwlt_tqXZ"
      },
      "execution_count": 51,
      "outputs": []
    },
    {
      "cell_type": "code",
      "source": [
        "scaler = StandardScaler()\n",
        "new_data_scaled = scaler.fit_transform(X_reserved_final)"
      ],
      "metadata": {
        "id": "iFVyHS_3vvFt"
      },
      "execution_count": 64,
      "outputs": []
    },
    {
      "cell_type": "code",
      "source": [
        "import numpy as np\n",
        "import pandas as pd\n",
        "from sklearn.preprocessing import StandardScaler\n",
        "\n",
        "# Cargar y preparar los nuevos datos\n",
        "# Suponiendo que `X_reserved_final` es el nuevo conjunto de datos que deseas probar\n",
        "# y que ya ha sido preprocesado (selección de características y escalado).\n",
        "\n",
        "# Crear pares de datos para hacer predicciones\n",
        "def create_pairs_for_prediction(x_data):\n",
        "    pairs = []\n",
        "\n",
        "    # Crear pares positivos y negativos para los datos nuevos\n",
        "    for i in range(len(x_data)):\n",
        "        for j in range(len(x_data)):\n",
        "            if i != j:\n",
        "                pairs.append([x_data[i], x_data[j]])  # Comparar cada muestra con todas las demás\n",
        "\n",
        "    return np.array(pairs)\n",
        "\n",
        "# Crear los pares de datos para las predicciones\n",
        "pairs_new_data = create_pairs_for_prediction(new_data_scaled)\n",
        "\n",
        "# Dividir los pares en las dos entradas necesarias para el modelo Siamese\n",
        "input_1 = pairs_new_data[:, 0]\n",
        "input_2 = pairs_new_data[:, 1]\n",
        "\n",
        "# Asegurarte de que las dimensiones son correctas\n",
        "input_1 = np.expand_dims(input_1, axis=-1)\n",
        "input_2 = np.expand_dims(input_2, axis=-1)\n",
        "\n",
        "# Hacer las predicciones con el modelo cargado\n",
        "print(\"Haciendo predicciones en los nuevos datos...\")\n",
        "predictions = model.predict([input_1, input_2])\n",
        "\n",
        "# Mostrar los primeros resultados\n",
        "print(\"Predicciones completadas. Aquí están las primeras 5 predicciones:\")\n",
        "print(predictions[:5])\n"
      ],
      "metadata": {
        "colab": {
          "base_uri": "https://localhost:8080/"
        },
        "id": "2-YQXGUdvksM",
        "outputId": "7d429dd3-5720-42d6-f09a-3123e1364ee1"
      },
      "execution_count": 65,
      "outputs": [
        {
          "output_type": "stream",
          "name": "stdout",
          "text": [
            "Haciendo predicciones en los nuevos datos...\n",
            "\u001b[1m147/147\u001b[0m \u001b[32m━━━━━━━━━━━━━━━━━━━━\u001b[0m\u001b[37m\u001b[0m \u001b[1m2s\u001b[0m 9ms/step\n",
            "Predicciones completadas. Aquí están las primeras 5 predicciones:\n",
            "[[0.99999815]\n",
            " [0.9999903 ]\n",
            " [0.999826  ]\n",
            " [0.9964752 ]\n",
            " [0.9996649 ]]\n"
          ]
        }
      ]
    },
    {
      "cell_type": "code",
      "source": [
        "import numpy as np\n",
        "\n",
        "# Crear etiquetas verdaderas para los pares\n",
        "def create_true_labels_for_pairs(y_data):\n",
        "    true_labels = []\n",
        "\n",
        "    # Comparar las etiquetas de cada par\n",
        "    for i in range(len(y_data)):\n",
        "        for j in range(len(y_data)):\n",
        "            if i != j:\n",
        "                # Si las etiquetas son iguales, es un par positivo (misma clase), si no, es negativo\n",
        "                true_labels.append(int(y_data[i] == y_data[j]))\n",
        "\n",
        "    return np.array(true_labels)\n",
        "\n",
        "# Suponiendo que 'y_reserved' tiene las etiquetas verdaderas de cada muestra\n",
        "true_labels = create_true_labels_for_pairs(y_reserved)\n",
        "\n",
        "# Ver las primeras 5 etiquetas verdaderas\n",
        "print(true_labels[:5])\n"
      ],
      "metadata": {
        "colab": {
          "base_uri": "https://localhost:8080/"
        },
        "id": "Jjrdb2Q_yCLX",
        "outputId": "86efeaf1-15fa-4c1c-c091-ca73f62c0115"
      },
      "execution_count": 69,
      "outputs": [
        {
          "output_type": "stream",
          "name": "stdout",
          "text": [
            "[1 1 1 1 1]\n"
          ]
        }
      ]
    },
    {
      "cell_type": "code",
      "source": [
        "from sklearn.metrics import accuracy_score, f1_score, matthews_corrcoef, balanced_accuracy_score\n",
        "\n",
        "# Definir un umbral para convertir la salida del modelo siames a predicciones binarias\n",
        "threshold = 0.5\n",
        "predictions_binary = (predictions >= threshold).astype(int)\n",
        "\n",
        "# Calcular las métricas\n",
        "accuracy = accuracy_score(true_labels, predictions_binary)\n",
        "f1 = f1_score(true_labels, predictions_binary)\n",
        "mcc = matthews_corrcoef(true_labels, predictions_binary)\n",
        "balanced_acc = balanced_accuracy_score(true_labels, predictions_binary)\n",
        "\n",
        "# Mostrar los resultados\n",
        "print(f\"Accuracy: {accuracy:.4f}\")\n",
        "print(f\"F1-score: {f1:.4f}\")\n",
        "print(f\"MCC: {mcc:.4f}\")\n",
        "print(f\"Balanced Accuracy: {balanced_acc:.4f}\")"
      ],
      "metadata": {
        "colab": {
          "base_uri": "https://localhost:8080/"
        },
        "id": "_qMgEG13yELH",
        "outputId": "b93db3bd-41c8-4462-c13f-96df345d51a4"
      },
      "execution_count": 70,
      "outputs": [
        {
          "output_type": "stream",
          "name": "stdout",
          "text": [
            "Accuracy: 0.5230\n",
            "F1-score: 0.6172\n",
            "MCC: 0.0514\n",
            "Balanced Accuracy: 0.5224\n"
          ]
        }
      ]
    },
    {
      "cell_type": "code",
      "source": [
        "import matplotlib.pyplot as plt\n",
        "import seaborn as sns\n",
        "from sklearn.metrics import confusion_matrix\n",
        "\n",
        "# Generar la matriz de confusión\n",
        "conf_matrix = confusion_matrix(true_labels, predictions_binary)\n",
        "\n",
        "# Visualizar la matriz de confusión\n",
        "plt.figure(figsize=(6, 4))\n",
        "sns.heatmap(conf_matrix, annot=True, fmt=\"d\", cmap=\"Blues\", cbar=False, xticklabels=[\"Clase 0\", \"Clase 1\"], yticklabels=[\"Clase 0\", \"Clase 1\"])\n",
        "plt.xlabel(\"Predicciones\")\n",
        "plt.ylabel(\"Etiquetas Verdaderas\")\n",
        "plt.title(\"Matriz de Confusión\")\n",
        "plt.show()\n"
      ],
      "metadata": {
        "colab": {
          "base_uri": "https://localhost:8080/",
          "height": 410
        },
        "id": "Vu7M1ipAyMRc",
        "outputId": "1e501661-e16f-4784-a397-dbc95cd8bd25"
      },
      "execution_count": 71,
      "outputs": [
        {
          "output_type": "display_data",
          "data": {
            "text/plain": [
              "<Figure size 600x400 with 1 Axes>"
            ],
            "image/png": "[encoded data removed]"
          },
          "metadata": {}
        }
      ]
    },
    {
      "cell_type": "code",
      "source": [
        "# Crear pares donde cada muestra se compara consigo misma\n",
        "def create_self_pairs(x_data):\n",
        "    pairs = []\n",
        "    for i in range(len(x_data)):\n",
        "        pairs.append([x_data[i], x_data[i]])  # Comparar cada muestra consigo misma\n",
        "    return np.array(pairs)\n",
        "\n",
        "# Crear los pares de datos para la predicción\n",
        "self_pairs = create_self_pairs(new_data_scaled)\n",
        "\n",
        "# Dividir los pares en las dos entradas necesarias para el modelo Siamese\n",
        "input_1 = self_pairs[:, 0]\n",
        "input_2 = self_pairs[:, 1]\n",
        "\n",
        "# Asegurarte de que las dimensiones son correctas\n",
        "input_1 = np.expand_dims(input_1, axis=-1)\n",
        "input_2 = np.expand_dims(input_2, axis=-1)\n",
        "\n",
        "# Hacer las predicciones con el modelo cargado\n",
        "print(\"Haciendo predicciones en los nuevos datos comparados consigo mismos...\")\n",
        "predictions = model.predict([input_1, input_2])\n",
        "\n",
        "# Mostrar las primeras predicciones\n",
        "print(\"Predicciones completadas. Aquí están las primeras 5 predicciones:\")\n",
        "print(predictions[:5])\n"
      ],
      "metadata": {
        "colab": {
          "base_uri": "https://localhost:8080/"
        },
        "id": "P9cgxlvxy6Ca",
        "outputId": "8846c440-0744-4123-d272-4f572f5ded88"
      },
      "execution_count": 72,
      "outputs": [
        {
          "output_type": "stream",
          "name": "stdout",
          "text": [
            "Haciendo predicciones en los nuevos datos comparados consigo mismos...\n",
            "\u001b[1m3/3\u001b[0m \u001b[32m━━━━━━━━━━━━━━━━━━━━\u001b[0m\u001b[37m\u001b[0m \u001b[1m0s\u001b[0m 6ms/step \n",
            "Predicciones completadas. Aquí están las primeras 5 predicciones:\n",
            "[[0.5581835]\n",
            " [0.5581835]\n",
            " [0.5581835]\n",
            " [0.5581835]\n",
            " [0.5581835]]\n"
          ]
        }
      ]
    }
  ],
  "metadata": {
    "colab": {
      "provenance": []
    },
    "kernelspec": {
      "display_name": "Python 3",
      "name": "python3"
    },
    "language_info": {
      "name": "python"
    }
  },
  "nbformat": 4,
  "nbformat_minor": 0
}