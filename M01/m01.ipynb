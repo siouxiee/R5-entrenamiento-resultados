{
 "cells": [
  {
   "cell_type": "code",
   "execution_count": 11,
   "metadata": {},
   "outputs": [],
   "source": [
    "import numpy as np\n",
    "import pandas as pd\n",
    "from sklearn.model_selection import LeaveOneOut, GridSearchCV, StratifiedKFold\n",
    "from sklearn.feature_selection import mutual_info_classif, RFE, SelectKBest, f_classif\n",
    "from sklearn.preprocessing import LabelEncoder, MinMaxScaler, StandardScaler\n",
    "from sklearn.pipeline import Pipeline\n",
    "from sklearn import svm, ensemble, linear_model\n",
    "from sklearn.metrics import classification_report, accuracy_score, f1_score, confusion_matrix\n",
    "from keras.models import Sequential\n",
    "from keras.layers import Dense, LeakyReLU, GaussianNoise\n",
    "from keras.optimizers import SGD\n",
    "from keras.utils import np_utils\n",
    "from keras.callbacks import EarlyStopping\n",
    "from keras.backend import clear_session\n",
    "from sklearn.decomposition import PCA\n",
    "import joblib\n",
    "import warnings\n",
    "warnings.filterwarnings(\"ignore\")\n",
    "seed = 1234"
   ]
  },
  {
   "cell_type": "markdown",
   "metadata": {},
   "source": [
    "# Preprocesamiento de Datos"
   ]
  },
  {
   "cell_type": "code",
   "execution_count": 12,
   "metadata": {},
   "outputs": [],
   "source": [
    "# Carga de datos\n",
    "DATA_PATH = '/data/sespinoza/objetivo1/Paper-Assesment/'\n",
    "data_original = pd.read_csv(DATA_PATH + 'lihc_mapped.csv', header=0, index_col=0, sep=',', encoding='utf-8')\n",
    "data_peru = pd.read_csv(DATA_PATH + 'normalized_expression_mapped_peru.csv', header=0, index_col=0, sep=',', encoding='utf-8')"
   ]
  },
  {
   "cell_type": "code",
   "execution_count": 13,
   "metadata": {},
   "outputs": [
    {
     "name": "stdout",
     "output_type": "stream",
     "text": [
      "19375\n",
      "0\n"
     ]
    }
   ],
   "source": [
    "#cuenta los nulos\n",
    "print(data_original.isnull().sum().sum())\n",
    "print(data_peru.isnull().sum().sum())"
   ]
  },
  {
   "cell_type": "code",
   "execution_count": 14,
   "metadata": {},
   "outputs": [],
   "source": [
    "#borra los nulos\n",
    "data_original = data_original.dropna()\n",
    "data_peru = data_peru.dropna()"
   ]
  },
  {
   "cell_type": "code",
   "execution_count": 15,
   "metadata": {},
   "outputs": [
    {
     "data": {
      "text/html": [
       "<div>\n",
       "<style scoped>\n",
       "    .dataframe tbody tr th:only-of-type {\n",
       "        vertical-align: middle;\n",
       "    }\n",
       "\n",
       "    .dataframe tbody tr th {\n",
       "        vertical-align: top;\n",
       "    }\n",
       "\n",
       "    .dataframe thead th {\n",
       "        text-align: right;\n",
       "    }\n",
       "</style>\n",
       "<table border=\"1\" class=\"dataframe\">\n",
       "  <thead>\n",
       "    <tr style=\"text-align: right;\">\n",
       "      <th></th>\n",
       "      <th>TCGA.FV.A3I0.01A.11R.A22L.07</th>\n",
       "      <th>TCGA.DD.A3A6.11A.11R.A22L.07</th>\n",
       "      <th>TCGA.DD.A3A6.01A.11R.A22L.07</th>\n",
       "      <th>TCGA.BD.A3ER.01A.11R.A213.07</th>\n",
       "      <th>TCGA.CC.5261.01A.01R.A131.07</th>\n",
       "      <th>TCGA.DD.AAVZ.01A.11R.A41C.07</th>\n",
       "      <th>TCGA.DD.AADN.01A.11R.A41C.07</th>\n",
       "      <th>TCGA.DD.A1EB.01A.11R.A131.07</th>\n",
       "      <th>TCGA.LG.A9QD.01A.11R.A38B.07</th>\n",
       "      <th>TCGA.G3.A25T.01A.11R.A16W.07</th>\n",
       "      <th>...</th>\n",
       "      <th>TCGA.DD.AADY.01A.11R.A41C.07</th>\n",
       "      <th>TCGA.BW.A5NO.01A.11R.A27V.07</th>\n",
       "      <th>TCGA.CC.A7IJ.01A.11R.A33R.07</th>\n",
       "      <th>TCGA.2Y.A9H8.01A.11R.A39D.07</th>\n",
       "      <th>TCGA.BC.A10X.01A.11R.A131.07</th>\n",
       "      <th>TCGA.DD.A3A2.11A.11R.A213.07</th>\n",
       "      <th>TCGA.DD.A3A2.01A.11R.A213.07</th>\n",
       "      <th>TCGA.CC.A5UD.01A.11R.A28V.07</th>\n",
       "      <th>TCGA.BC.A10W.11A.11R.A131.07</th>\n",
       "      <th>hgnc_symbol</th>\n",
       "    </tr>\n",
       "    <tr>\n",
       "      <th>ensembl_gene_id</th>\n",
       "      <th></th>\n",
       "      <th></th>\n",
       "      <th></th>\n",
       "      <th></th>\n",
       "      <th></th>\n",
       "      <th></th>\n",
       "      <th></th>\n",
       "      <th></th>\n",
       "      <th></th>\n",
       "      <th></th>\n",
       "      <th></th>\n",
       "      <th></th>\n",
       "      <th></th>\n",
       "      <th></th>\n",
       "      <th></th>\n",
       "      <th></th>\n",
       "      <th></th>\n",
       "      <th></th>\n",
       "      <th></th>\n",
       "      <th></th>\n",
       "      <th></th>\n",
       "    </tr>\n",
       "  </thead>\n",
       "  <tbody>\n",
       "    <tr>\n",
       "      <th>ENSG00000000003</th>\n",
       "      <td>81.8287</td>\n",
       "      <td>15.8806</td>\n",
       "      <td>4.6169</td>\n",
       "      <td>14.5263</td>\n",
       "      <td>31.3123</td>\n",
       "      <td>39.2772</td>\n",
       "      <td>7.5592</td>\n",
       "      <td>11.2804</td>\n",
       "      <td>18.9790</td>\n",
       "      <td>25.0290</td>\n",
       "      <td>...</td>\n",
       "      <td>19.3421</td>\n",
       "      <td>33.9481</td>\n",
       "      <td>14.8868</td>\n",
       "      <td>40.7063</td>\n",
       "      <td>18.7204</td>\n",
       "      <td>16.0545</td>\n",
       "      <td>22.5661</td>\n",
       "      <td>12.8119</td>\n",
       "      <td>20.3076</td>\n",
       "      <td>TSPAN6</td>\n",
       "    </tr>\n",
       "    <tr>\n",
       "      <th>ENSG00000000005</th>\n",
       "      <td>0.0000</td>\n",
       "      <td>0.0000</td>\n",
       "      <td>1.3409</td>\n",
       "      <td>0.0000</td>\n",
       "      <td>0.0000</td>\n",
       "      <td>0.0000</td>\n",
       "      <td>0.0270</td>\n",
       "      <td>0.0668</td>\n",
       "      <td>0.1473</td>\n",
       "      <td>0.0000</td>\n",
       "      <td>...</td>\n",
       "      <td>0.0000</td>\n",
       "      <td>0.0541</td>\n",
       "      <td>0.2324</td>\n",
       "      <td>0.0302</td>\n",
       "      <td>0.2221</td>\n",
       "      <td>0.0770</td>\n",
       "      <td>0.0383</td>\n",
       "      <td>0.1321</td>\n",
       "      <td>0.0129</td>\n",
       "      <td>TNMD</td>\n",
       "    </tr>\n",
       "    <tr>\n",
       "      <th>ENSG00000000419</th>\n",
       "      <td>26.1408</td>\n",
       "      <td>8.1109</td>\n",
       "      <td>6.1824</td>\n",
       "      <td>11.3076</td>\n",
       "      <td>46.9221</td>\n",
       "      <td>20.1246</td>\n",
       "      <td>10.2282</td>\n",
       "      <td>18.5906</td>\n",
       "      <td>15.5947</td>\n",
       "      <td>23.8308</td>\n",
       "      <td>...</td>\n",
       "      <td>19.1182</td>\n",
       "      <td>56.6616</td>\n",
       "      <td>19.8273</td>\n",
       "      <td>55.9421</td>\n",
       "      <td>15.9864</td>\n",
       "      <td>14.9355</td>\n",
       "      <td>15.9312</td>\n",
       "      <td>35.2481</td>\n",
       "      <td>15.3580</td>\n",
       "      <td>DPM1</td>\n",
       "    </tr>\n",
       "    <tr>\n",
       "      <th>ENSG00000000457</th>\n",
       "      <td>1.7541</td>\n",
       "      <td>0.4566</td>\n",
       "      <td>0.7849</td>\n",
       "      <td>1.2436</td>\n",
       "      <td>4.2047</td>\n",
       "      <td>3.0923</td>\n",
       "      <td>0.2372</td>\n",
       "      <td>2.9764</td>\n",
       "      <td>1.4397</td>\n",
       "      <td>1.0744</td>\n",
       "      <td>...</td>\n",
       "      <td>4.6297</td>\n",
       "      <td>1.2529</td>\n",
       "      <td>1.0602</td>\n",
       "      <td>1.9141</td>\n",
       "      <td>1.2664</td>\n",
       "      <td>0.9934</td>\n",
       "      <td>1.1875</td>\n",
       "      <td>1.7099</td>\n",
       "      <td>0.7651</td>\n",
       "      <td>SCYL3</td>\n",
       "    </tr>\n",
       "    <tr>\n",
       "      <th>ENSG00000000460</th>\n",
       "      <td>0.4916</td>\n",
       "      <td>0.1053</td>\n",
       "      <td>0.1165</td>\n",
       "      <td>0.3539</td>\n",
       "      <td>2.2424</td>\n",
       "      <td>1.1239</td>\n",
       "      <td>0.0600</td>\n",
       "      <td>0.2840</td>\n",
       "      <td>0.2883</td>\n",
       "      <td>0.2801</td>\n",
       "      <td>...</td>\n",
       "      <td>1.5588</td>\n",
       "      <td>0.5083</td>\n",
       "      <td>2.5788</td>\n",
       "      <td>1.3405</td>\n",
       "      <td>0.5890</td>\n",
       "      <td>0.1251</td>\n",
       "      <td>0.1704</td>\n",
       "      <td>1.6449</td>\n",
       "      <td>0.2580</td>\n",
       "      <td>FIRRM</td>\n",
       "    </tr>\n",
       "  </tbody>\n",
       "</table>\n",
       "<p>5 rows × 425 columns</p>\n",
       "</div>"
      ],
      "text/plain": [
       "                 TCGA.FV.A3I0.01A.11R.A22L.07  TCGA.DD.A3A6.11A.11R.A22L.07  \\\n",
       "ensembl_gene_id                                                               \n",
       "ENSG00000000003                       81.8287                       15.8806   \n",
       "ENSG00000000005                        0.0000                        0.0000   \n",
       "ENSG00000000419                       26.1408                        8.1109   \n",
       "ENSG00000000457                        1.7541                        0.4566   \n",
       "ENSG00000000460                        0.4916                        0.1053   \n",
       "\n",
       "                 TCGA.DD.A3A6.01A.11R.A22L.07  TCGA.BD.A3ER.01A.11R.A213.07  \\\n",
       "ensembl_gene_id                                                               \n",
       "ENSG00000000003                        4.6169                       14.5263   \n",
       "ENSG00000000005                        1.3409                        0.0000   \n",
       "ENSG00000000419                        6.1824                       11.3076   \n",
       "ENSG00000000457                        0.7849                        1.2436   \n",
       "ENSG00000000460                        0.1165                        0.3539   \n",
       "\n",
       "                 TCGA.CC.5261.01A.01R.A131.07  TCGA.DD.AAVZ.01A.11R.A41C.07  \\\n",
       "ensembl_gene_id                                                               \n",
       "ENSG00000000003                       31.3123                       39.2772   \n",
       "ENSG00000000005                        0.0000                        0.0000   \n",
       "ENSG00000000419                       46.9221                       20.1246   \n",
       "ENSG00000000457                        4.2047                        3.0923   \n",
       "ENSG00000000460                        2.2424                        1.1239   \n",
       "\n",
       "                 TCGA.DD.AADN.01A.11R.A41C.07  TCGA.DD.A1EB.01A.11R.A131.07  \\\n",
       "ensembl_gene_id                                                               \n",
       "ENSG00000000003                        7.5592                       11.2804   \n",
       "ENSG00000000005                        0.0270                        0.0668   \n",
       "ENSG00000000419                       10.2282                       18.5906   \n",
       "ENSG00000000457                        0.2372                        2.9764   \n",
       "ENSG00000000460                        0.0600                        0.2840   \n",
       "\n",
       "                 TCGA.LG.A9QD.01A.11R.A38B.07  TCGA.G3.A25T.01A.11R.A16W.07  \\\n",
       "ensembl_gene_id                                                               \n",
       "ENSG00000000003                       18.9790                       25.0290   \n",
       "ENSG00000000005                        0.1473                        0.0000   \n",
       "ENSG00000000419                       15.5947                       23.8308   \n",
       "ENSG00000000457                        1.4397                        1.0744   \n",
       "ENSG00000000460                        0.2883                        0.2801   \n",
       "\n",
       "                 ...  TCGA.DD.AADY.01A.11R.A41C.07  \\\n",
       "ensembl_gene_id  ...                                 \n",
       "ENSG00000000003  ...                       19.3421   \n",
       "ENSG00000000005  ...                        0.0000   \n",
       "ENSG00000000419  ...                       19.1182   \n",
       "ENSG00000000457  ...                        4.6297   \n",
       "ENSG00000000460  ...                        1.5588   \n",
       "\n",
       "                 TCGA.BW.A5NO.01A.11R.A27V.07  TCGA.CC.A7IJ.01A.11R.A33R.07  \\\n",
       "ensembl_gene_id                                                               \n",
       "ENSG00000000003                       33.9481                       14.8868   \n",
       "ENSG00000000005                        0.0541                        0.2324   \n",
       "ENSG00000000419                       56.6616                       19.8273   \n",
       "ENSG00000000457                        1.2529                        1.0602   \n",
       "ENSG00000000460                        0.5083                        2.5788   \n",
       "\n",
       "                 TCGA.2Y.A9H8.01A.11R.A39D.07  TCGA.BC.A10X.01A.11R.A131.07  \\\n",
       "ensembl_gene_id                                                               \n",
       "ENSG00000000003                       40.7063                       18.7204   \n",
       "ENSG00000000005                        0.0302                        0.2221   \n",
       "ENSG00000000419                       55.9421                       15.9864   \n",
       "ENSG00000000457                        1.9141                        1.2664   \n",
       "ENSG00000000460                        1.3405                        0.5890   \n",
       "\n",
       "                 TCGA.DD.A3A2.11A.11R.A213.07  TCGA.DD.A3A2.01A.11R.A213.07  \\\n",
       "ensembl_gene_id                                                               \n",
       "ENSG00000000003                       16.0545                       22.5661   \n",
       "ENSG00000000005                        0.0770                        0.0383   \n",
       "ENSG00000000419                       14.9355                       15.9312   \n",
       "ENSG00000000457                        0.9934                        1.1875   \n",
       "ENSG00000000460                        0.1251                        0.1704   \n",
       "\n",
       "                 TCGA.CC.A5UD.01A.11R.A28V.07  TCGA.BC.A10W.11A.11R.A131.07  \\\n",
       "ensembl_gene_id                                                               \n",
       "ENSG00000000003                       12.8119                       20.3076   \n",
       "ENSG00000000005                        0.1321                        0.0129   \n",
       "ENSG00000000419                       35.2481                       15.3580   \n",
       "ENSG00000000457                        1.7099                        0.7651   \n",
       "ENSG00000000460                        1.6449                        0.2580   \n",
       "\n",
       "                 hgnc_symbol  \n",
       "ensembl_gene_id               \n",
       "ENSG00000000003       TSPAN6  \n",
       "ENSG00000000005         TNMD  \n",
       "ENSG00000000419         DPM1  \n",
       "ENSG00000000457        SCYL3  \n",
       "ENSG00000000460        FIRRM  \n",
       "\n",
       "[5 rows x 425 columns]"
      ]
     },
     "execution_count": 15,
     "metadata": {},
     "output_type": "execute_result"
    }
   ],
   "source": [
    "data_original.head()"
   ]
  },
  {
   "cell_type": "code",
   "execution_count": 16,
   "metadata": {},
   "outputs": [
    {
     "data": {
      "text/html": [
       "<div>\n",
       "<style scoped>\n",
       "    .dataframe tbody tr th:only-of-type {\n",
       "        vertical-align: middle;\n",
       "    }\n",
       "\n",
       "    .dataframe tbody tr th {\n",
       "        vertical-align: top;\n",
       "    }\n",
       "\n",
       "    .dataframe thead th {\n",
       "        text-align: right;\n",
       "    }\n",
       "</style>\n",
       "<table border=\"1\" class=\"dataframe\">\n",
       "  <thead>\n",
       "    <tr style=\"text-align: right;\">\n",
       "      <th></th>\n",
       "      <th>GSM4043276_HCC004_HTA_2_0.CEL</th>\n",
       "      <th>GSM4043277_HCC011_HTA_2_0.CEL</th>\n",
       "      <th>GSM4043278_HCC013_HTA_2_0.CEL</th>\n",
       "      <th>GSM4043279_HCC015_HTA_2_0.CEL</th>\n",
       "      <th>GSM4043280_HCC016_HTA_2_0.CEL</th>\n",
       "      <th>GSM4043281_HCC025_HTA_2_0.CEL</th>\n",
       "      <th>GSM4043282_HCC026_HTA_2_0.CEL</th>\n",
       "      <th>GSM4043283_HCC034_HTA_2_0.CEL</th>\n",
       "      <th>GSM4043284_HCC047_HTA_2_0.CEL</th>\n",
       "      <th>GSM4043285_HCC054_HTA_2_0.CEL</th>\n",
       "      <th>...</th>\n",
       "      <th>GSM4043336_NTL121_HTA_2_0.CEL</th>\n",
       "      <th>GSM4043337_NTL173_HTA_2_0.CEL</th>\n",
       "      <th>GSM4043338_NTL188_HTA_2_0.CEL</th>\n",
       "      <th>GSM4043339_NTL190_HTA_2_0.CEL</th>\n",
       "      <th>GSM4043340_NTL191_HTA_2_0.CEL</th>\n",
       "      <th>GSM4043341_NTL192_HTA_2_0.CEL</th>\n",
       "      <th>GSM4043342_NTL193_HTA_2_0.CEL</th>\n",
       "      <th>GSM4043343_NTL200_HTA_2_0.CEL</th>\n",
       "      <th>GSM4043344_NTL201_HTA_2_0.CEL</th>\n",
       "      <th>GeneSymbol</th>\n",
       "    </tr>\n",
       "  </thead>\n",
       "  <tbody>\n",
       "    <tr>\n",
       "      <th>TC01000001.hg.1</th>\n",
       "      <td>5.556382</td>\n",
       "      <td>5.385476</td>\n",
       "      <td>5.582431</td>\n",
       "      <td>5.321239</td>\n",
       "      <td>5.580150</td>\n",
       "      <td>5.090377</td>\n",
       "      <td>5.543542</td>\n",
       "      <td>5.815775</td>\n",
       "      <td>5.781128</td>\n",
       "      <td>5.462648</td>\n",
       "      <td>...</td>\n",
       "      <td>5.747558</td>\n",
       "      <td>5.685633</td>\n",
       "      <td>5.678107</td>\n",
       "      <td>5.479305</td>\n",
       "      <td>5.159973</td>\n",
       "      <td>5.572072</td>\n",
       "      <td>5.586533</td>\n",
       "      <td>5.509569</td>\n",
       "      <td>5.263971</td>\n",
       "      <td>DDX11L1</td>\n",
       "    </tr>\n",
       "    <tr>\n",
       "      <th>TC01000003.hg.1</th>\n",
       "      <td>3.522511</td>\n",
       "      <td>3.011026</td>\n",
       "      <td>3.754522</td>\n",
       "      <td>3.216142</td>\n",
       "      <td>3.343459</td>\n",
       "      <td>3.151042</td>\n",
       "      <td>3.232807</td>\n",
       "      <td>3.496659</td>\n",
       "      <td>3.271508</td>\n",
       "      <td>3.475425</td>\n",
       "      <td>...</td>\n",
       "      <td>3.641678</td>\n",
       "      <td>3.554388</td>\n",
       "      <td>3.807339</td>\n",
       "      <td>3.292701</td>\n",
       "      <td>3.069621</td>\n",
       "      <td>3.794532</td>\n",
       "      <td>3.673249</td>\n",
       "      <td>3.423120</td>\n",
       "      <td>3.463470</td>\n",
       "      <td>OR4F5</td>\n",
       "    </tr>\n",
       "    <tr>\n",
       "      <th>TC01000005.hg.1</th>\n",
       "      <td>8.388213</td>\n",
       "      <td>8.461633</td>\n",
       "      <td>8.107028</td>\n",
       "      <td>8.165957</td>\n",
       "      <td>8.615982</td>\n",
       "      <td>8.331395</td>\n",
       "      <td>8.491633</td>\n",
       "      <td>8.543905</td>\n",
       "      <td>8.646759</td>\n",
       "      <td>8.200830</td>\n",
       "      <td>...</td>\n",
       "      <td>8.313295</td>\n",
       "      <td>8.007746</td>\n",
       "      <td>8.127470</td>\n",
       "      <td>8.079236</td>\n",
       "      <td>8.439039</td>\n",
       "      <td>8.140706</td>\n",
       "      <td>8.413719</td>\n",
       "      <td>8.269379</td>\n",
       "      <td>8.615382</td>\n",
       "      <td>LINC01001</td>\n",
       "    </tr>\n",
       "    <tr>\n",
       "      <th>TC01000007.hg.1</th>\n",
       "      <td>11.313075</td>\n",
       "      <td>11.423049</td>\n",
       "      <td>11.083901</td>\n",
       "      <td>11.134547</td>\n",
       "      <td>11.388560</td>\n",
       "      <td>11.209667</td>\n",
       "      <td>11.249790</td>\n",
       "      <td>11.319392</td>\n",
       "      <td>11.483748</td>\n",
       "      <td>11.555652</td>\n",
       "      <td>...</td>\n",
       "      <td>11.500850</td>\n",
       "      <td>10.496035</td>\n",
       "      <td>11.170733</td>\n",
       "      <td>10.906176</td>\n",
       "      <td>11.196305</td>\n",
       "      <td>11.003916</td>\n",
       "      <td>11.591072</td>\n",
       "      <td>11.292875</td>\n",
       "      <td>11.805233</td>\n",
       "      <td>LINC01061</td>\n",
       "    </tr>\n",
       "    <tr>\n",
       "      <th>TC01000009.hg.1</th>\n",
       "      <td>3.510059</td>\n",
       "      <td>3.054648</td>\n",
       "      <td>3.632833</td>\n",
       "      <td>3.064161</td>\n",
       "      <td>3.315992</td>\n",
       "      <td>2.796682</td>\n",
       "      <td>3.583861</td>\n",
       "      <td>2.924338</td>\n",
       "      <td>3.181977</td>\n",
       "      <td>2.668511</td>\n",
       "      <td>...</td>\n",
       "      <td>3.061490</td>\n",
       "      <td>3.128445</td>\n",
       "      <td>3.478542</td>\n",
       "      <td>3.024672</td>\n",
       "      <td>2.822522</td>\n",
       "      <td>3.299731</td>\n",
       "      <td>2.986613</td>\n",
       "      <td>3.001979</td>\n",
       "      <td>3.001183</td>\n",
       "      <td>OR4F29</td>\n",
       "    </tr>\n",
       "  </tbody>\n",
       "</table>\n",
       "<p>5 rows × 70 columns</p>\n",
       "</div>"
      ],
      "text/plain": [
       "                 GSM4043276_HCC004_HTA_2_0.CEL  GSM4043277_HCC011_HTA_2_0.CEL  \\\n",
       "TC01000001.hg.1                       5.556382                       5.385476   \n",
       "TC01000003.hg.1                       3.522511                       3.011026   \n",
       "TC01000005.hg.1                       8.388213                       8.461633   \n",
       "TC01000007.hg.1                      11.313075                      11.423049   \n",
       "TC01000009.hg.1                       3.510059                       3.054648   \n",
       "\n",
       "                 GSM4043278_HCC013_HTA_2_0.CEL  GSM4043279_HCC015_HTA_2_0.CEL  \\\n",
       "TC01000001.hg.1                       5.582431                       5.321239   \n",
       "TC01000003.hg.1                       3.754522                       3.216142   \n",
       "TC01000005.hg.1                       8.107028                       8.165957   \n",
       "TC01000007.hg.1                      11.083901                      11.134547   \n",
       "TC01000009.hg.1                       3.632833                       3.064161   \n",
       "\n",
       "                 GSM4043280_HCC016_HTA_2_0.CEL  GSM4043281_HCC025_HTA_2_0.CEL  \\\n",
       "TC01000001.hg.1                       5.580150                       5.090377   \n",
       "TC01000003.hg.1                       3.343459                       3.151042   \n",
       "TC01000005.hg.1                       8.615982                       8.331395   \n",
       "TC01000007.hg.1                      11.388560                      11.209667   \n",
       "TC01000009.hg.1                       3.315992                       2.796682   \n",
       "\n",
       "                 GSM4043282_HCC026_HTA_2_0.CEL  GSM4043283_HCC034_HTA_2_0.CEL  \\\n",
       "TC01000001.hg.1                       5.543542                       5.815775   \n",
       "TC01000003.hg.1                       3.232807                       3.496659   \n",
       "TC01000005.hg.1                       8.491633                       8.543905   \n",
       "TC01000007.hg.1                      11.249790                      11.319392   \n",
       "TC01000009.hg.1                       3.583861                       2.924338   \n",
       "\n",
       "                 GSM4043284_HCC047_HTA_2_0.CEL  GSM4043285_HCC054_HTA_2_0.CEL  \\\n",
       "TC01000001.hg.1                       5.781128                       5.462648   \n",
       "TC01000003.hg.1                       3.271508                       3.475425   \n",
       "TC01000005.hg.1                       8.646759                       8.200830   \n",
       "TC01000007.hg.1                      11.483748                      11.555652   \n",
       "TC01000009.hg.1                       3.181977                       2.668511   \n",
       "\n",
       "                 ...  GSM4043336_NTL121_HTA_2_0.CEL  \\\n",
       "TC01000001.hg.1  ...                       5.747558   \n",
       "TC01000003.hg.1  ...                       3.641678   \n",
       "TC01000005.hg.1  ...                       8.313295   \n",
       "TC01000007.hg.1  ...                      11.500850   \n",
       "TC01000009.hg.1  ...                       3.061490   \n",
       "\n",
       "                 GSM4043337_NTL173_HTA_2_0.CEL  GSM4043338_NTL188_HTA_2_0.CEL  \\\n",
       "TC01000001.hg.1                       5.685633                       5.678107   \n",
       "TC01000003.hg.1                       3.554388                       3.807339   \n",
       "TC01000005.hg.1                       8.007746                       8.127470   \n",
       "TC01000007.hg.1                      10.496035                      11.170733   \n",
       "TC01000009.hg.1                       3.128445                       3.478542   \n",
       "\n",
       "                 GSM4043339_NTL190_HTA_2_0.CEL  GSM4043340_NTL191_HTA_2_0.CEL  \\\n",
       "TC01000001.hg.1                       5.479305                       5.159973   \n",
       "TC01000003.hg.1                       3.292701                       3.069621   \n",
       "TC01000005.hg.1                       8.079236                       8.439039   \n",
       "TC01000007.hg.1                      10.906176                      11.196305   \n",
       "TC01000009.hg.1                       3.024672                       2.822522   \n",
       "\n",
       "                 GSM4043341_NTL192_HTA_2_0.CEL  GSM4043342_NTL193_HTA_2_0.CEL  \\\n",
       "TC01000001.hg.1                       5.572072                       5.586533   \n",
       "TC01000003.hg.1                       3.794532                       3.673249   \n",
       "TC01000005.hg.1                       8.140706                       8.413719   \n",
       "TC01000007.hg.1                      11.003916                      11.591072   \n",
       "TC01000009.hg.1                       3.299731                       2.986613   \n",
       "\n",
       "                 GSM4043343_NTL200_HTA_2_0.CEL  GSM4043344_NTL201_HTA_2_0.CEL  \\\n",
       "TC01000001.hg.1                       5.509569                       5.263971   \n",
       "TC01000003.hg.1                       3.423120                       3.463470   \n",
       "TC01000005.hg.1                       8.269379                       8.615382   \n",
       "TC01000007.hg.1                      11.292875                      11.805233   \n",
       "TC01000009.hg.1                       3.001979                       3.001183   \n",
       "\n",
       "                 GeneSymbol  \n",
       "TC01000001.hg.1     DDX11L1  \n",
       "TC01000003.hg.1       OR4F5  \n",
       "TC01000005.hg.1   LINC01001  \n",
       "TC01000007.hg.1   LINC01061  \n",
       "TC01000009.hg.1      OR4F29  \n",
       "\n",
       "[5 rows x 70 columns]"
      ]
     },
     "execution_count": 16,
     "metadata": {},
     "output_type": "execute_result"
    }
   ],
   "source": [
    "data_peru.head()"
   ]
  },
  {
   "cell_type": "code",
   "execution_count": 17,
   "metadata": {},
   "outputs": [],
   "source": [
    "#borra duplicados\n",
    "data_original = data_original.drop_duplicates(subset='hgnc_symbol', keep='first')\n",
    "data_peru = data_peru.drop_duplicates(subset='GeneSymbol', keep='first')"
   ]
  },
  {
   "cell_type": "code",
   "execution_count": 18,
   "metadata": {},
   "outputs": [
    {
     "data": {
      "text/plain": [
       "((40894, 425), (23913, 70))"
      ]
     },
     "execution_count": 18,
     "metadata": {},
     "output_type": "execute_result"
    }
   ],
   "source": [
    "data_original.shape, data_peru.shape"
   ]
  },
  {
   "cell_type": "code",
   "execution_count": 19,
   "metadata": {},
   "outputs": [],
   "source": [
    "data_original.set_index('hgnc_symbol', inplace=True)\n",
    "data_peru.set_index('GeneSymbol', inplace=True)"
   ]
  },
  {
   "cell_type": "code",
   "execution_count": 474,
   "metadata": {},
   "outputs": [],
   "source": [
    "# Función para determinar el tipo de muestra rna seq\n",
    "def determine_sample_type(sample_name):\n",
    "    parts = sample_name.split('.')\n",
    "    if len(parts) > 3:\n",
    "        sample_code = parts[3][:2]\n",
    "        if sample_code == '01' or sample_code == '02':\n",
    "            return 'cancer'\n",
    "        elif sample_code == '11':\n",
    "            return 'healthy'\n",
    "    return 'unknown'\n"
   ]
  },
  {
   "cell_type": "code",
   "execution_count": 475,
   "metadata": {},
   "outputs": [
    {
     "name": "stdout",
     "output_type": "stream",
     "text": [
      "['cancer', 'healthy', 'cancer', 'cancer', 'cancer', 'cancer', 'cancer', 'cancer', 'cancer', 'cancer', 'cancer', 'cancer', 'cancer', 'cancer', 'cancer', 'cancer', 'cancer', 'cancer', 'cancer', 'cancer', 'cancer', 'healthy', 'cancer', 'cancer', 'cancer', 'cancer', 'cancer', 'cancer', 'cancer', 'cancer', 'cancer', 'cancer', 'cancer', 'cancer', 'cancer', 'cancer', 'cancer', 'cancer', 'cancer', 'cancer', 'cancer', 'cancer', 'cancer', 'cancer', 'healthy', 'cancer', 'cancer', 'cancer', 'healthy', 'cancer', 'cancer', 'cancer', 'healthy', 'cancer', 'cancer', 'cancer', 'cancer', 'cancer', 'cancer', 'cancer', 'cancer', 'cancer', 'cancer', 'cancer', 'cancer', 'cancer', 'cancer', 'cancer', 'cancer', 'cancer', 'cancer', 'cancer', 'cancer', 'healthy', 'cancer', 'healthy', 'cancer', 'cancer', 'cancer', 'cancer', 'cancer', 'cancer', 'cancer', 'cancer', 'cancer', 'cancer', 'cancer', 'cancer', 'cancer', 'cancer', 'cancer', 'cancer', 'cancer', 'cancer', 'cancer', 'healthy', 'cancer', 'cancer', 'cancer', 'cancer', 'cancer', 'cancer', 'cancer', 'cancer', 'cancer', 'cancer', 'cancer', 'healthy', 'cancer', 'cancer', 'cancer', 'healthy', 'cancer', 'cancer', 'cancer', 'cancer', 'cancer', 'cancer', 'cancer', 'cancer', 'cancer', 'cancer', 'cancer', 'cancer', 'cancer', 'healthy', 'cancer', 'cancer', 'cancer', 'cancer', 'cancer', 'healthy', 'cancer', 'cancer', 'cancer', 'healthy', 'cancer', 'healthy', 'cancer', 'cancer', 'healthy', 'cancer', 'cancer', 'healthy', 'cancer', 'cancer', 'cancer', 'cancer', 'cancer', 'cancer', 'healthy', 'healthy', 'cancer', 'cancer', 'cancer', 'cancer', 'cancer', 'cancer', 'cancer', 'cancer', 'cancer', 'cancer', 'cancer', 'cancer', 'cancer', 'cancer', 'cancer', 'cancer', 'cancer', 'cancer', 'cancer', 'cancer', 'cancer', 'cancer', 'cancer', 'cancer', 'cancer', 'cancer', 'cancer', 'cancer', 'healthy', 'cancer', 'cancer', 'cancer', 'cancer', 'cancer', 'cancer', 'cancer', 'cancer', 'cancer', 'cancer', 'cancer', 'cancer', 'cancer', 'cancer', 'cancer', 'healthy', 'cancer', 'cancer', 'cancer', 'cancer', 'cancer', 'cancer', 'cancer', 'healthy', 'cancer', 'cancer', 'cancer', 'cancer', 'cancer', 'cancer', 'cancer', 'cancer', 'cancer', 'cancer', 'cancer', 'cancer', 'cancer', 'cancer', 'cancer', 'healthy', 'cancer', 'cancer', 'cancer', 'cancer', 'healthy', 'cancer', 'cancer', 'cancer', 'cancer', 'cancer', 'cancer', 'cancer', 'cancer', 'cancer', 'cancer', 'healthy', 'cancer', 'cancer', 'cancer', 'cancer', 'cancer', 'cancer', 'cancer', 'cancer', 'cancer', 'cancer', 'cancer', 'cancer', 'cancer', 'cancer', 'cancer', 'healthy', 'cancer', 'healthy', 'cancer', 'healthy', 'cancer', 'cancer', 'cancer', 'cancer', 'cancer', 'cancer', 'cancer', 'healthy', 'cancer', 'cancer', 'healthy', 'cancer', 'healthy', 'cancer', 'healthy', 'cancer', 'healthy', 'cancer', 'cancer', 'cancer', 'healthy', 'cancer', 'cancer', 'cancer', 'cancer', 'cancer', 'healthy', 'cancer', 'cancer', 'healthy', 'cancer', 'cancer', 'cancer', 'cancer', 'cancer', 'cancer', 'cancer', 'cancer', 'cancer', 'cancer', 'cancer', 'cancer', 'cancer', 'cancer', 'cancer', 'cancer', 'healthy', 'cancer', 'cancer', 'cancer', 'cancer', 'cancer', 'cancer', 'cancer', 'cancer', 'cancer', 'cancer', 'cancer', 'cancer', 'cancer', 'cancer', 'cancer', 'cancer', 'cancer', 'cancer', 'healthy', 'cancer', 'cancer', 'cancer', 'healthy', 'cancer', 'cancer', 'healthy', 'cancer', 'cancer', 'cancer', 'cancer', 'cancer', 'healthy', 'cancer', 'cancer', 'cancer', 'cancer', 'healthy', 'cancer', 'cancer', 'cancer', 'cancer', 'cancer', 'cancer', 'cancer', 'cancer', 'healthy', 'healthy', 'cancer', 'cancer', 'cancer', 'cancer', 'healthy', 'cancer', 'cancer', 'cancer', 'cancer', 'cancer', 'cancer', 'cancer', 'cancer', 'cancer', 'cancer', 'cancer', 'cancer', 'cancer', 'cancer', 'cancer', 'cancer', 'cancer', 'cancer', 'cancer', 'cancer', 'cancer', 'healthy', 'cancer', 'cancer', 'cancer', 'cancer', 'cancer', 'cancer', 'healthy', 'cancer', 'cancer', 'cancer', 'cancer', 'cancer', 'cancer', 'cancer', 'healthy', 'cancer', 'cancer', 'cancer', 'cancer', 'cancer', 'cancer', 'healthy', 'cancer', 'cancer', 'cancer', 'cancer', 'cancer', 'cancer', 'cancer', 'cancer', 'cancer', 'cancer', 'cancer', 'cancer', 'cancer', 'cancer', 'cancer', 'cancer', 'cancer', 'cancer', 'cancer', 'cancer', 'healthy', 'cancer', 'cancer', 'healthy']\n"
     ]
    }
   ],
   "source": [
    "import pandas as pd\n",
    "\n",
    "sample_names = data_original.columns\n",
    "# Aplicar la función a los nombres de las muestras\n",
    "labels_rna = [determine_sample_type(name) for name in sample_names]\n",
    "# Mostrar las etiquetas asignadas\n",
    "print(labels_rna)"
   ]
  },
  {
   "cell_type": "code",
   "execution_count": 476,
   "metadata": {},
   "outputs": [
    {
     "name": "stdout",
     "output_type": "stream",
     "text": [
      "['cancer', 'cancer', 'cancer', 'cancer', 'cancer', 'cancer', 'cancer', 'cancer', 'cancer', 'cancer', 'cancer', 'cancer', 'cancer', 'cancer', 'cancer', 'cancer', 'cancer', 'cancer', 'cancer', 'cancer', 'cancer', 'cancer', 'cancer', 'cancer', 'cancer', 'cancer', 'cancer', 'cancer', 'cancer', 'cancer', 'cancer', 'cancer', 'cancer', 'cancer', 'cancer', 'cancer', 'cancer', 'cancer', 'cancer', 'healthy', 'healthy', 'healthy', 'healthy', 'healthy', 'healthy', 'healthy', 'healthy', 'healthy', 'healthy', 'healthy', 'healthy', 'healthy', 'healthy', 'healthy', 'healthy', 'healthy', 'healthy', 'healthy', 'healthy', 'healthy', 'healthy', 'healthy', 'healthy', 'healthy', 'healthy', 'healthy', 'healthy', 'healthy', 'healthy']\n"
     ]
    }
   ],
   "source": [
    "labels_ma = ['cancer' if 'HCC' in col else 'healthy' if 'NTL' in col else 'unknown' for col in data_peru.columns]\n",
    "print(labels_ma)"
   ]
  },
  {
   "cell_type": "code",
   "execution_count": 477,
   "metadata": {},
   "outputs": [
    {
     "name": "stdout",
     "output_type": "stream",
     "text": [
      "TCGA.FV.A3I0.01A.11R.A22L.07     cancer\n",
      "TCGA.DD.A3A6.11A.11R.A22L.07    healthy\n",
      "TCGA.DD.A3A6.01A.11R.A22L.07     cancer\n",
      "TCGA.BD.A3ER.01A.11R.A213.07     cancer\n",
      "TCGA.CC.5261.01A.01R.A131.07     cancer\n",
      "                                 ...   \n",
      "TCGA.BC.A10X.01A.11R.A131.07     cancer\n",
      "TCGA.DD.A3A2.11A.11R.A213.07    healthy\n",
      "TCGA.DD.A3A2.01A.11R.A213.07     cancer\n",
      "TCGA.CC.A5UD.01A.11R.A28V.07     cancer\n",
      "TCGA.BC.A10W.11A.11R.A131.07    healthy\n",
      "Name: labels, Length: 424, dtype: object\n"
     ]
    }
   ],
   "source": [
    "data_original = data_original.T\n",
    "# Añadir las etiquetas al DataFrame\n",
    "data_original['labels'] = labels_rna\n",
    "# Mostrar las etiquetas asignadas\n",
    "print(data_original['labels'])"
   ]
  },
  {
   "cell_type": "code",
   "execution_count": 478,
   "metadata": {},
   "outputs": [
    {
     "name": "stdout",
     "output_type": "stream",
     "text": [
      "GSM4043276_HCC004_HTA_2_0.CEL     cancer\n",
      "GSM4043277_HCC011_HTA_2_0.CEL     cancer\n",
      "GSM4043278_HCC013_HTA_2_0.CEL     cancer\n",
      "GSM4043279_HCC015_HTA_2_0.CEL     cancer\n",
      "GSM4043280_HCC016_HTA_2_0.CEL     cancer\n",
      "                                  ...   \n",
      "GSM4043340_NTL191_HTA_2_0.CEL    healthy\n",
      "GSM4043341_NTL192_HTA_2_0.CEL    healthy\n",
      "GSM4043342_NTL193_HTA_2_0.CEL    healthy\n",
      "GSM4043343_NTL200_HTA_2_0.CEL    healthy\n",
      "GSM4043344_NTL201_HTA_2_0.CEL    healthy\n",
      "Name: labels, Length: 69, dtype: object\n"
     ]
    }
   ],
   "source": [
    "data_peru = data_peru.T\n",
    "# Añadir las etiquetas al DataFrame\n",
    "data_peru['labels'] = labels_ma\n",
    "# Mostrar las etiquetas asignadas\n",
    "print(data_peru['labels'])"
   ]
  },
  {
   "cell_type": "code",
   "execution_count": 479,
   "metadata": {},
   "outputs": [
    {
     "name": "stdout",
     "output_type": "stream",
     "text": [
      "cancer     374\n",
      "healthy     50\n",
      "Name: labels, dtype: int64\n"
     ]
    }
   ],
   "source": [
    "#borra todas las filas donde labels es unknown y cuenta cuantos hay\n",
    "print(data_original.labels.value_counts())\n",
    "data_original = data_original[data_original.labels != 'unknown']"
   ]
  },
  {
   "cell_type": "code",
   "execution_count": 480,
   "metadata": {},
   "outputs": [
    {
     "name": "stdout",
     "output_type": "stream",
     "text": [
      "cancer     39\n",
      "healthy    30\n",
      "Name: labels, dtype: int64\n"
     ]
    }
   ],
   "source": [
    "#borra todas las filas donde labels es unknown y cuenta cuantos hay\n",
    "print(data_peru.labels.value_counts())\n",
    "data_peru = data_peru[data_peru.labels != 'unknown']"
   ]
  },
  {
   "cell_type": "code",
   "execution_count": 481,
   "metadata": {},
   "outputs": [
    {
     "name": "stdout",
     "output_type": "stream",
     "text": [
      "hgnc_symbol                    TSPAN6    TNMD     DPM1   SCYL3   FIRRM  \\\n",
      "TCGA.FV.A3I0.01A.11R.A22L.07  81.8287  0.0000  26.1408  1.7541  0.4916   \n",
      "TCGA.DD.A3A6.11A.11R.A22L.07  15.8806  0.0000   8.1109  0.4566  0.1053   \n",
      "TCGA.DD.A3A6.01A.11R.A22L.07   4.6169  1.3409   6.1824  0.7849  0.1165   \n",
      "TCGA.BD.A3ER.01A.11R.A213.07  14.5263  0.0000  11.3076  1.2436  0.3539   \n",
      "TCGA.CC.5261.01A.01R.A131.07  31.3123  0.0000  46.9221  4.2047  2.2424   \n",
      "\n",
      "hgnc_symbol                      FGR       CFH    FUCA2    GCLC     NFYA  ...  \\\n",
      "TCGA.FV.A3I0.01A.11R.A22L.07  1.2360    1.7944  16.1683  3.9476  11.8616  ...   \n",
      "TCGA.DD.A3A6.11A.11R.A22L.07  0.1715   71.5060  10.0219  8.2520   1.0466  ...   \n",
      "TCGA.DD.A3A6.01A.11R.A22L.07  3.2583    6.1939  19.3536  2.7808   2.8424  ...   \n",
      "TCGA.BD.A3ER.01A.11R.A213.07  1.5109  304.0331  17.6570  7.9410   3.3097  ...   \n",
      "TCGA.CC.5261.01A.01R.A131.07  2.8612  107.3010  23.9504  4.9942  22.3225  ...   \n",
      "\n",
      "hgnc_symbol                   ELOA3BP  NPBWR1  ELOA3DP  PDCD6-AHRR  ELOA3P  \\\n",
      "TCGA.FV.A3I0.01A.11R.A22L.07      0.0  2.6784      0.0         0.0     0.0   \n",
      "TCGA.DD.A3A6.11A.11R.A22L.07      0.0  0.1723      0.0         0.0     0.0   \n",
      "TCGA.DD.A3A6.01A.11R.A22L.07      0.0  0.0064      0.0         0.0     0.0   \n",
      "TCGA.BD.A3ER.01A.11R.A213.07      0.0  3.2375      0.0         0.0     0.0   \n",
      "TCGA.CC.5261.01A.01R.A131.07      0.0  2.5741      0.0         0.0     0.0   \n",
      "\n",
      "hgnc_symbol                   LNCDAT  CDR1  ACTL10   PANO1   labels  \n",
      "TCGA.FV.A3I0.01A.11R.A22L.07     0.0   0.0     0.0  0.1191   cancer  \n",
      "TCGA.DD.A3A6.11A.11R.A22L.07     0.0   0.0     0.0  0.0000  healthy  \n",
      "TCGA.DD.A3A6.01A.11R.A22L.07     0.0   0.0     0.0  1.0189   cancer  \n",
      "TCGA.BD.A3ER.01A.11R.A213.07     0.0   0.0     0.0  0.1155   cancer  \n",
      "TCGA.CC.5261.01A.01R.A131.07     0.0   0.0     0.0  0.0707   cancer  \n",
      "\n",
      "[5 rows x 40895 columns]\n"
     ]
    }
   ],
   "source": [
    "import pandas as pd\n",
    "import numpy as np\n",
    "\n",
    "#data_original = data_original.T\n",
    "# Eliminar la columna 'labels' temporalmente para realizar operaciones numéricas\n",
    "data_numeric = data_original.drop(columns=['labels'])\n",
    "\n",
    "# Aplicar la máscara y la transformación logarítmica\n",
    "mask = (data_numeric < 1)\n",
    "data_numeric[mask] = 1\n",
    "data_numeric = np.log2(data_numeric)\n",
    "\n",
    "# Volver a añadir la columna 'labels'\n",
    "data_numeric['labels'] = data_original['labels']\n",
    "\n",
    "# Transponer de nuevo para restaurar la estructura original\n",
    "#data_original = data_numeric.T\n",
    "\n",
    "# Verificar el resultado\n",
    "print(data_original.head())"
   ]
  },
  {
   "cell_type": "markdown",
   "metadata": {},
   "source": [
    "### Filtrar genes en común en ambas tecnologías"
   ]
  },
  {
   "cell_type": "code",
   "execution_count": 482,
   "metadata": {},
   "outputs": [],
   "source": [
    "common_genes = data_original.columns.intersection(data_peru.columns)"
   ]
  },
  {
   "cell_type": "code",
   "execution_count": 483,
   "metadata": {},
   "outputs": [],
   "source": [
    "# Filtrar los datos para incluir solo los genes comunes\n",
    "rna_seq_data_common = data_original[common_genes]\n",
    "microarray_data_common = data_peru[common_genes]\n",
    "#agregale la columna labels al final\n",
    "rna_seq_data_common['labels'] = data_original['labels']\n",
    "microarray_data_common['labels'] = data_peru['labels']"
   ]
  },
  {
   "cell_type": "code",
   "execution_count": 484,
   "metadata": {},
   "outputs": [
    {
     "data": {
      "text/plain": [
       "((424, 23009), (69, 23009))"
      ]
     },
     "execution_count": 484,
     "metadata": {},
     "output_type": "execute_result"
    }
   ],
   "source": [
    "rna_seq_data_common.shape, microarray_data_common.shape"
   ]
  },
  {
   "cell_type": "code",
   "execution_count": 485,
   "metadata": {},
   "outputs": [],
   "source": [
    "#selecciona 50 datos de rna_seq_data_common donde labels es cancer\n",
    "#rna_seq_data_common_cancer = rna_seq_data_common[rna_seq_data_common.labels == 'cancer'].sample(70, random_state=seed)\n",
    "#selecciona 50 datos de rna_seq_data_common donde labels es healthy\n",
    "#rna_seq_data_common_healthy = rna_seq_data_common[rna_seq_data_common.labels == 'healthy'].sample(50, random_state=seed)\n",
    "#concatena los datos\n",
    "#rna_seq_data_common_balanced = pd.concat([rna_seq_data_common_cancer, rna_seq_data_common_healthy])"
   ]
  },
  {
   "cell_type": "code",
   "execution_count": 486,
   "metadata": {},
   "outputs": [],
   "source": [
    "#rna_seq_data_common_balanced.head()\n",
    "rna_seq_data_common_balanced = rna_seq_data_common"
   ]
  },
  {
   "cell_type": "markdown",
   "metadata": {},
   "source": [
    "# Division de Datos"
   ]
  },
  {
   "cell_type": "code",
   "execution_count": 487,
   "metadata": {},
   "outputs": [],
   "source": [
    "# Dividir el conjunto de datos en entrenamiento y reservado\n",
    "#selected_rows = data.sample(n=7, random_state=seed)\n",
    "#data = data.drop(selected_rows.index)\n",
    "#data_final_test = selected_rows"
   ]
  },
  {
   "cell_type": "code",
   "execution_count": 488,
   "metadata": {},
   "outputs": [],
   "source": [
    "# Separar características y etiquetas del conjunto de entrenamiento\n",
    "X = rna_seq_data_common_balanced.drop('labels', axis=1)\n",
    "y = rna_seq_data_common_balanced['labels']"
   ]
  },
  {
   "cell_type": "code",
   "execution_count": 489,
   "metadata": {},
   "outputs": [],
   "source": [
    "# Codificar las etiquetas\n",
    "label_encoder = LabelEncoder()\n",
    "y_encoded = label_encoder.fit_transform(y)\n",
    "\n",
    "# Escalar las características\n",
    "#min_max_scaler = MinMaxScaler()\n",
    "#X_scaled = min_max_scaler.fit_transform(X)\n",
    "#X_scaled = pd.DataFrame(X_scaled, columns=X.columns)"
   ]
  },
  {
   "cell_type": "markdown",
   "metadata": {},
   "source": [
    "# Parámetros"
   ]
  },
  {
   "cell_type": "code",
   "execution_count": 490,
   "metadata": {},
   "outputs": [],
   "source": [
    "# Definir los clasificadores y los parámetros para GridSearchCV\n",
    "classifiers = {\n",
    "    'SVM Linear': {\n",
    "        'model': svm.SVC(kernel='linear'),\n",
    "        'params': {'svm_linear__C': [0.00001, 0.0001, 0.001, 0.01, 0.1, 1, 10, 100, 1000]}\n",
    "    },\n",
    "    'SVM RBF': {\n",
    "        'model': svm.SVC(kernel='rbf'),\n",
    "        'params': {\n",
    "            'svm_rbf__C': [0.00001, 0.0001, 0.001, 0.01, 0.1, 1, 10, 100, 1000],\n",
    "            'svm_rbf__gamma': [0.0001, 0.001, 0.01, 0.1, 1, 'scale', 'auto']\n",
    "        }\n",
    "    },\n",
    "    'Logistic Regression': {\n",
    "        'model': linear_model.LogisticRegression(max_iter=1000, solver='liblinear'),\n",
    "        'params': {\n",
    "            'logistic_regression__C': [0.00001, 0.0001, 0.001, 0.01, 0.1, 1, 10, 100, 1000],\n",
    "            'logistic_regression__penalty': ['l1', 'l2']\n",
    "        }\n",
    "    },\n",
    "    'Random Forest': {\n",
    "        'model': ensemble.RandomForestClassifier(random_state=42),\n",
    "        'params': {\n",
    "            'random_forest__n_estimators': [10, 20, 30, 50, 70, 100, 150, 200, 400],\n",
    "            'random_forest__max_depth': [None, 5, 10, 20],\n",
    "            'random_forest__min_samples_split': [2, 5, 10]\n",
    "        }\n",
    "    },\n",
    "    'Boosting': {\n",
    "        'model': ensemble.AdaBoostClassifier(random_state=42),\n",
    "        'params': {\n",
    "            'boosting__n_estimators': [10, 20, 30, 50, 70, 100, 150, 200, 400],\n",
    "            'boosting__learning_rate': [0.01, 0.1, 1]\n",
    "        }\n",
    "    }\n",
    "}\n"
   ]
  },
  {
   "cell_type": "code",
   "execution_count": 491,
   "metadata": {},
   "outputs": [],
   "source": [
    "def MLP(nb_input):\n",
    "        model = Sequential()\n",
    "        model.add(GaussianNoise(0., input_shape=(nb_input,)))\n",
    "        model.add(Dense(500))\n",
    "        model.add(LeakyReLU())\n",
    "        model.add(Dense(200))\n",
    "        model.add(LeakyReLU())\n",
    "        model.add(Dense(100))\n",
    "        model.add(LeakyReLU())\n",
    "        model.add(Dense(50))\n",
    "        model.add(LeakyReLU())\n",
    "        model.add(Dense(2, activation='softmax'))\n",
    "        return model"
   ]
  },
  {
   "cell_type": "code",
   "execution_count": 492,
   "metadata": {},
   "outputs": [
    {
     "data": {
      "text/plain": [
       "pandas.core.frame.DataFrame"
      ]
     },
     "execution_count": 492,
     "metadata": {},
     "output_type": "execute_result"
    }
   ],
   "source": [
    "type(X)"
   ]
  },
  {
   "cell_type": "code",
   "execution_count": 493,
   "metadata": {},
   "outputs": [
    {
     "data": {
      "text/plain": [
       "(424,)"
      ]
     },
     "execution_count": 493,
     "metadata": {},
     "output_type": "execute_result"
    }
   ],
   "source": [
    "y_encoded.shape"
   ]
  },
  {
   "cell_type": "code",
   "execution_count": 494,
   "metadata": {},
   "outputs": [
    {
     "data": {
      "text/plain": [
       "(424, 23008)"
      ]
     },
     "execution_count": 494,
     "metadata": {},
     "output_type": "execute_result"
    }
   ],
   "source": [
    "X.shape"
   ]
  },
  {
   "cell_type": "code",
   "execution_count": 495,
   "metadata": {},
   "outputs": [],
   "source": [
    "kfold = StratifiedKFold(n_splits=10, shuffle=True, random_state=seed)"
   ]
  },
  {
   "cell_type": "markdown",
   "metadata": {},
   "source": [
    "# Entrenamiento LOO"
   ]
  },
  {
   "cell_type": "code",
   "execution_count": 496,
   "metadata": {},
   "outputs": [
    {
     "name": "stdout",
     "output_type": "stream",
     "text": [
      "Antes de seelccionar caracteristicas 1\n"
     ]
    },
    {
     "name": "stdout",
     "output_type": "stream",
     "text": [
      "2/2 [==============================] - 0s 2ms/step\n",
      "Antes de seelccionar caracteristicas 2\n",
      "2/2 [==============================] - 0s 1ms/step\n",
      "Antes de seelccionar caracteristicas 3\n",
      "2/2 [==============================] - 0s 1ms/step\n",
      "Antes de seelccionar caracteristicas 4\n",
      "2/2 [==============================] - 0s 2ms/step\n",
      "Antes de seelccionar caracteristicas 5\n",
      "2/2 [==============================] - 0s 1ms/step\n",
      "Antes de seelccionar caracteristicas 6\n",
      "2/2 [==============================] - 0s 1ms/step\n",
      "Antes de seelccionar caracteristicas 7\n",
      "2/2 [==============================] - 0s 1ms/step\n",
      "Antes de seelccionar caracteristicas 8\n",
      "2/2 [==============================] - 0s 1ms/step\n",
      "Antes de seelccionar caracteristicas 9\n",
      "2/2 [==============================] - 0s 1ms/step\n",
      "Antes de seelccionar caracteristicas 10\n",
      "2/2 [==============================] - 0s 1ms/step\n"
     ]
    }
   ],
   "source": [
    "#loo = LeaveOneOut()\n",
    "y_true = []\n",
    "\n",
    "# Inicializar diccionarios para almacenar predicciones y mejores hiperparámetros\n",
    "predictions = {\n",
    "    'SVM Linear': [],\n",
    "    'SVM RBF': [],\n",
    "    'Logistic Regression': [],\n",
    "    'Random Forest': [],\n",
    "    'Boosting': [],\n",
    "    'Neural Network': []\n",
    "}\n",
    "\n",
    "best_params = {\n",
    "    'SVM Linear': [],\n",
    "    'SVM RBF': [],\n",
    "    'Logistic Regression': [],\n",
    "    'Random Forest': [],\n",
    "    'Boosting': []\n",
    "}\n",
    "\n",
    "for train_index, test_index in kfold.split(X, y_encoded):   \n",
    "    X_train_cv, X_test_cv = X.iloc[train_index], X.iloc[test_index]\n",
    "    y_train_cv, y_test_cv = y_encoded[train_index], y_encoded[test_index]\n",
    "\n",
    "    y_true.append(y_test_cv[0])\n",
    "    print('Antes de seelccionar caracteristicas',len(y_true))\n",
    "    # **Selección de Características Dentro del Bucle**\n",
    "    scaler = MinMaxScaler()\n",
    "    X_train_cv_scaled = scaler.fit_transform(X_train_cv)\n",
    "    X_test_cv_scaled = scaler.transform(X_test_cv)\n",
    "\n",
    "    X_train_cv = pd.DataFrame(X_train_cv_scaled, columns=X.columns, index=X_train_cv.index)\n",
    "    X_test_cv = pd.DataFrame(X_test_cv_scaled, columns=X.columns, index=X_test_cv.index)\n",
    "\n",
    "    # Mutual Information\n",
    "    MI = mutual_info_classif(X_train_cv, y_train_cv)\n",
    "    n_features_mi = 5000\n",
    "    selected_scores_indices = np.argsort(MI)[::-1][:n_features_mi]\n",
    "    X_train_mi = X_train_cv.iloc[:, selected_scores_indices]\n",
    "    X_test_mi = X_test_cv.iloc[:, selected_scores_indices]\n",
    "\n",
    "    # RFE\n",
    "    #intentar SVM\n",
    "    estimator = linear_model.LogisticRegression(max_iter=700, solver='liblinear')\n",
    "    n_features_rfe = 500\n",
    "    rfe = RFE(estimator=estimator, n_features_to_select=n_features_rfe, step=1)\n",
    "    rfe.fit(X_train_mi, y_train_cv)\n",
    "    X_train_selected = rfe.transform(X_train_mi)\n",
    "    X_test_selected = rfe.transform(X_test_mi)\n",
    "    #X_train_final = rfe.transform(X_train_mi)\n",
    "    #X_test_final = rfe.transform(X_test_mi)\n",
    "\n",
    "    n_components_pca = 20  # Número de componentes principales que deseas conservar\n",
    "    #cuanto de varianza se quiere conservar entre 50 90\n",
    "    pca = PCA(n_components=n_components_pca)\n",
    "    X_train_final = pca.fit_transform(X_train_selected,y_train_cv)\n",
    "    X_test_final = pca.transform(X_test_selected)\n",
    "    # Selección de características adicional con SelectKBest\n",
    "    #k_value = min(100, X_train_selected.shape[1])\n",
    "    #selection = SelectKBest(f_classif, k=k_value)\n",
    "    #X_train_final = selection.fit_transform(X_train_selected, y_train_cv)\n",
    "    #X_test_final = selection.transform(X_test_selected)\n",
    "\n",
    "    # Iterar sobre los clasificadores\n",
    "    for name, clf_info in classifiers.items():\n",
    "        model = clf_info['model']\n",
    "        params = clf_info['params']\n",
    "\n",
    "        # Crear pipeline con el modelo\n",
    "        pipeline = Pipeline([\n",
    "            (name.lower().replace(' ', '_'), model)\n",
    "        ])\n",
    "\n",
    "        # Ajustar GridSearchCV\n",
    "        grid = GridSearchCV(estimator=pipeline, param_grid=params, n_jobs=-1, cv=3)\n",
    "        grid.fit(X_train_final, y_train_cv)\n",
    "        y_pred = grid.predict(X_test_final)[0]\n",
    "        predictions[name].append(y_pred)\n",
    "        best_params[name].append(grid.best_params_)\n",
    "\n",
    "    # Red Neuronal\n",
    "    clear_session()\n",
    "    Y_train_cv = np_utils.to_categorical(y_train_cv, num_classes=2)\n",
    "    Y_test_cv = np_utils.to_categorical(y_test_cv, num_classes=2)\n",
    "\n",
    "    opt = SGD(learning_rate=0.001, momentum=0.9)\n",
    "    mlp = MLP(nb_input=X_train_final.shape[1])\n",
    "    mlp.compile(loss='categorical_crossentropy', optimizer=opt, metrics=['accuracy'])\n",
    "    callbacks = [EarlyStopping(monitor='val_accuracy', min_delta=0.001, patience=5, verbose=0)]\n",
    "    mlp.fit(X_train_final, Y_train_cv, batch_size=16, epochs=100, verbose=0, validation_data=(X_test_final, Y_test_cv), callbacks=callbacks)\n",
    "    y_pred_nn = np.argmax(mlp.predict(X_test_final), axis=1)[0]\n",
    "    predictions['Neural Network'].append(y_pred_nn)"
   ]
  },
  {
   "cell_type": "code",
   "execution_count": 497,
   "metadata": {},
   "outputs": [
    {
     "name": "stdout",
     "output_type": "stream",
     "text": [
      "Modelo: SVM Linear, Accuracy: 0.9, F1 Score: 0.9137254901960784, MCC: 0.6666666666666666\n",
      "Modelo: SVM RBF, Accuracy: 0.9, F1 Score: 0.9137254901960784, MCC: 0.6666666666666666\n",
      "Modelo: Logistic Regression, Accuracy: 0.9, F1 Score: 0.9137254901960784, MCC: 0.6666666666666666\n",
      "Modelo: Random Forest, Accuracy: 0.9, F1 Score: 0.9137254901960784, MCC: 0.6666666666666666\n",
      "Modelo: Boosting, Accuracy: 0.9, F1 Score: 0.9137254901960784, MCC: 0.6666666666666666\n",
      "Modelo: Neural Network, Accuracy: 0.9, F1 Score: 0.9137254901960784, MCC: 0.6666666666666666\n",
      "Mejores hiperparámetros para SVM Linear: {'svm_linear__C': 0.1}\n",
      "Mejores hiperparámetros para SVM RBF: {'svm_rbf__C': 0.1, 'svm_rbf__gamma': 'auto'}\n",
      "Mejores hiperparámetros para Logistic Regression: {'logistic_regression__C': 10, 'logistic_regression__penalty': 'l2'}\n",
      "Mejores hiperparámetros para Random Forest: {'random_forest__max_depth': None, 'random_forest__min_samples_split': 2, 'random_forest__n_estimators': 30}\n",
      "Mejores hiperparámetros para Boosting: {'boosting__learning_rate': 0.01, 'boosting__n_estimators': 10}\n"
     ]
    }
   ],
   "source": [
    "# **Análisis de Resultados**\n",
    "from sklearn.metrics import accuracy_score, f1_score, matthews_corrcoef,roc_auc_score\n",
    "from collections import Counter\n",
    "#print(f\"Longitud de y_true: {len(y_true)}\")\n",
    "\n",
    "# Calcula las métricas\n",
    "for name in predictions.keys():\n",
    "    #print(f\"Modelo: {name}, Longitud de predicciones: {len(predictions[name])}\")\n",
    "    acc = accuracy_score(y_true, predictions[name])\n",
    "    f1 = f1_score(y_true, predictions[name], average='weighted')\n",
    "    mcc = matthews_corrcoef(y_true, predictions[name])\n",
    "    print(f\"Modelo: {name}, Accuracy: {acc}, F1 Score: {f1}, MCC: {mcc}\")\n",
    "\n",
    "# Analizar los mejores hiperparámetros\n",
    "for name, params_list in best_params.items():\n",
    "    param_counts = Counter(tuple(sorted(params.items())) for params in params_list)\n",
    "    most_common_params = dict(param_counts.most_common(1)[0][0])\n",
    "    print(f\"Mejores hiperparámetros para {name}: {most_common_params}\")"
   ]
  },
  {
   "cell_type": "code",
   "execution_count": 498,
   "metadata": {},
   "outputs": [
    {
     "data": {
      "text/plain": [
       "(42, 20)"
      ]
     },
     "execution_count": 498,
     "metadata": {},
     "output_type": "execute_result"
    }
   ],
   "source": [
    "X_test_final.shape"
   ]
  },
  {
   "cell_type": "code",
   "execution_count": 506,
   "metadata": {},
   "outputs": [],
   "source": [
    "min_max_scaler = MinMaxScaler()\n",
    "X_scaled = min_max_scaler.fit_transform(X)\n",
    "X_scaled = pd.DataFrame(X_scaled, columns=X.columns)"
   ]
  },
  {
   "cell_type": "code",
   "execution_count": 507,
   "metadata": {},
   "outputs": [
    {
     "ename": "KeyboardInterrupt",
     "evalue": "",
     "output_type": "error",
     "traceback": [
      "\u001b[0;31m---------------------------------------------------------------------------\u001b[0m",
      "\u001b[0;31mKeyboardInterrupt\u001b[0m                         Traceback (most recent call last)",
      "\u001b[0;32m/tmp/ipykernel_2580281/869533388.py\u001b[0m in \u001b[0;36m<module>\u001b[0;34m\u001b[0m\n\u001b[1;32m     11\u001b[0m \u001b[0mn_features_rfe\u001b[0m \u001b[0;34m=\u001b[0m \u001b[0;36m2000\u001b[0m\u001b[0;34m\u001b[0m\u001b[0;34m\u001b[0m\u001b[0m\n\u001b[1;32m     12\u001b[0m \u001b[0mrfe\u001b[0m \u001b[0;34m=\u001b[0m \u001b[0mRFE\u001b[0m\u001b[0;34m(\u001b[0m\u001b[0mestimator\u001b[0m\u001b[0;34m=\u001b[0m\u001b[0mestimator\u001b[0m\u001b[0;34m,\u001b[0m \u001b[0mn_features_to_select\u001b[0m\u001b[0;34m=\u001b[0m\u001b[0mn_features_rfe\u001b[0m\u001b[0;34m,\u001b[0m \u001b[0mstep\u001b[0m\u001b[0;34m=\u001b[0m\u001b[0;36m1\u001b[0m\u001b[0;34m)\u001b[0m\u001b[0;34m\u001b[0m\u001b[0;34m\u001b[0m\u001b[0m\n\u001b[0;32m---> 13\u001b[0;31m \u001b[0mrfe\u001b[0m\u001b[0;34m.\u001b[0m\u001b[0mfit\u001b[0m\u001b[0;34m(\u001b[0m\u001b[0mX_mi\u001b[0m\u001b[0;34m,\u001b[0m \u001b[0my_encoded\u001b[0m\u001b[0;34m)\u001b[0m\u001b[0;34m\u001b[0m\u001b[0;34m\u001b[0m\u001b[0m\n\u001b[0m\u001b[1;32m     14\u001b[0m \u001b[0mX_selected\u001b[0m \u001b[0;34m=\u001b[0m \u001b[0mrfe\u001b[0m\u001b[0;34m.\u001b[0m\u001b[0mtransform\u001b[0m\u001b[0;34m(\u001b[0m\u001b[0mX_mi\u001b[0m\u001b[0;34m)\u001b[0m\u001b[0;34m\u001b[0m\u001b[0;34m\u001b[0m\u001b[0m\n\u001b[1;32m     15\u001b[0m \u001b[0mX_final\u001b[0m\u001b[0;34m=\u001b[0m\u001b[0mX_selected\u001b[0m\u001b[0;34m\u001b[0m\u001b[0;34m\u001b[0m\u001b[0m\n",
      "\u001b[0;32m/usr/lib/python3/dist-packages/sklearn/feature_selection/_rfe.py\u001b[0m in \u001b[0;36mfit\u001b[0;34m(self, X, y)\u001b[0m\n\u001b[1;32m    149\u001b[0m             \u001b[0mThe\u001b[0m \u001b[0mtarget\u001b[0m \u001b[0mvalues\u001b[0m\u001b[0;34m.\u001b[0m\u001b[0;34m\u001b[0m\u001b[0;34m\u001b[0m\u001b[0m\n\u001b[1;32m    150\u001b[0m         \"\"\"\n\u001b[0;32m--> 151\u001b[0;31m         \u001b[0;32mreturn\u001b[0m \u001b[0mself\u001b[0m\u001b[0;34m.\u001b[0m\u001b[0m_fit\u001b[0m\u001b[0;34m(\u001b[0m\u001b[0mX\u001b[0m\u001b[0;34m,\u001b[0m \u001b[0my\u001b[0m\u001b[0;34m)\u001b[0m\u001b[0;34m\u001b[0m\u001b[0;34m\u001b[0m\u001b[0m\n\u001b[0m\u001b[1;32m    152\u001b[0m \u001b[0;34m\u001b[0m\u001b[0m\n\u001b[1;32m    153\u001b[0m     \u001b[0;32mdef\u001b[0m \u001b[0m_fit\u001b[0m\u001b[0;34m(\u001b[0m\u001b[0mself\u001b[0m\u001b[0;34m,\u001b[0m \u001b[0mX\u001b[0m\u001b[0;34m,\u001b[0m \u001b[0my\u001b[0m\u001b[0;34m,\u001b[0m \u001b[0mstep_score\u001b[0m\u001b[0;34m=\u001b[0m\u001b[0;32mNone\u001b[0m\u001b[0;34m)\u001b[0m\u001b[0;34m:\u001b[0m\u001b[0;34m\u001b[0m\u001b[0;34m\u001b[0m\u001b[0m\n",
      "\u001b[0;32m/usr/lib/python3/dist-packages/sklearn/feature_selection/_rfe.py\u001b[0m in \u001b[0;36m_fit\u001b[0;34m(self, X, y, step_score)\u001b[0m\n\u001b[1;32m    194\u001b[0m                 \u001b[0mprint\u001b[0m\u001b[0;34m(\u001b[0m\u001b[0;34m\"Fitting estimator with %d features.\"\u001b[0m \u001b[0;34m%\u001b[0m \u001b[0mnp\u001b[0m\u001b[0;34m.\u001b[0m\u001b[0msum\u001b[0m\u001b[0;34m(\u001b[0m\u001b[0msupport_\u001b[0m\u001b[0;34m)\u001b[0m\u001b[0;34m)\u001b[0m\u001b[0;34m\u001b[0m\u001b[0;34m\u001b[0m\u001b[0m\n\u001b[1;32m    195\u001b[0m \u001b[0;34m\u001b[0m\u001b[0m\n\u001b[0;32m--> 196\u001b[0;31m             \u001b[0mestimator\u001b[0m\u001b[0;34m.\u001b[0m\u001b[0mfit\u001b[0m\u001b[0;34m(\u001b[0m\u001b[0mX\u001b[0m\u001b[0;34m[\u001b[0m\u001b[0;34m:\u001b[0m\u001b[0;34m,\u001b[0m \u001b[0mfeatures\u001b[0m\u001b[0;34m]\u001b[0m\u001b[0;34m,\u001b[0m \u001b[0my\u001b[0m\u001b[0;34m)\u001b[0m\u001b[0;34m\u001b[0m\u001b[0;34m\u001b[0m\u001b[0m\n\u001b[0m\u001b[1;32m    197\u001b[0m \u001b[0;34m\u001b[0m\u001b[0m\n\u001b[1;32m    198\u001b[0m             \u001b[0;31m# Get coefs\u001b[0m\u001b[0;34m\u001b[0m\u001b[0;34m\u001b[0m\u001b[0m\n",
      "\u001b[0;32m/usr/lib/python3/dist-packages/sklearn/linear_model/_logistic.py\u001b[0m in \u001b[0;36mfit\u001b[0;34m(self, X, y, sample_weight)\u001b[0m\n\u001b[1;32m   1354\u001b[0m                               \u001b[0;34m\" 'solver' is set to 'liblinear'. Got 'n_jobs'\"\u001b[0m\u001b[0;34m\u001b[0m\u001b[0;34m\u001b[0m\u001b[0m\n\u001b[1;32m   1355\u001b[0m                               \" = {}.\".format(effective_n_jobs(self.n_jobs)))\n\u001b[0;32m-> 1356\u001b[0;31m             self.coef_, self.intercept_, n_iter_ = _fit_liblinear(\n\u001b[0m\u001b[1;32m   1357\u001b[0m                 \u001b[0mX\u001b[0m\u001b[0;34m,\u001b[0m \u001b[0my\u001b[0m\u001b[0;34m,\u001b[0m \u001b[0mself\u001b[0m\u001b[0;34m.\u001b[0m\u001b[0mC\u001b[0m\u001b[0;34m,\u001b[0m \u001b[0mself\u001b[0m\u001b[0;34m.\u001b[0m\u001b[0mfit_intercept\u001b[0m\u001b[0;34m,\u001b[0m \u001b[0mself\u001b[0m\u001b[0;34m.\u001b[0m\u001b[0mintercept_scaling\u001b[0m\u001b[0;34m,\u001b[0m\u001b[0;34m\u001b[0m\u001b[0;34m\u001b[0m\u001b[0m\n\u001b[1;32m   1358\u001b[0m                 \u001b[0mself\u001b[0m\u001b[0;34m.\u001b[0m\u001b[0mclass_weight\u001b[0m\u001b[0;34m,\u001b[0m \u001b[0mself\u001b[0m\u001b[0;34m.\u001b[0m\u001b[0mpenalty\u001b[0m\u001b[0;34m,\u001b[0m \u001b[0mself\u001b[0m\u001b[0;34m.\u001b[0m\u001b[0mdual\u001b[0m\u001b[0;34m,\u001b[0m \u001b[0mself\u001b[0m\u001b[0;34m.\u001b[0m\u001b[0mverbose\u001b[0m\u001b[0;34m,\u001b[0m\u001b[0;34m\u001b[0m\u001b[0;34m\u001b[0m\u001b[0m\n",
      "\u001b[0;32m/usr/lib/python3/dist-packages/sklearn/svm/_base.py\u001b[0m in \u001b[0;36m_fit_liblinear\u001b[0;34m(X, y, C, fit_intercept, intercept_scaling, class_weight, penalty, dual, verbose, max_iter, tol, random_state, multi_class, loss, epsilon, sample_weight)\u001b[0m\n\u001b[1;32m    964\u001b[0m \u001b[0;34m\u001b[0m\u001b[0m\n\u001b[1;32m    965\u001b[0m     \u001b[0msolver_type\u001b[0m \u001b[0;34m=\u001b[0m \u001b[0m_get_liblinear_solver_type\u001b[0m\u001b[0;34m(\u001b[0m\u001b[0mmulti_class\u001b[0m\u001b[0;34m,\u001b[0m \u001b[0mpenalty\u001b[0m\u001b[0;34m,\u001b[0m \u001b[0mloss\u001b[0m\u001b[0;34m,\u001b[0m \u001b[0mdual\u001b[0m\u001b[0;34m)\u001b[0m\u001b[0;34m\u001b[0m\u001b[0;34m\u001b[0m\u001b[0m\n\u001b[0;32m--> 966\u001b[0;31m     raw_coef_, n_iter_ = liblinear.train_wrap(\n\u001b[0m\u001b[1;32m    967\u001b[0m         \u001b[0mX\u001b[0m\u001b[0;34m,\u001b[0m \u001b[0my_ind\u001b[0m\u001b[0;34m,\u001b[0m \u001b[0msp\u001b[0m\u001b[0;34m.\u001b[0m\u001b[0misspmatrix\u001b[0m\u001b[0;34m(\u001b[0m\u001b[0mX\u001b[0m\u001b[0;34m)\u001b[0m\u001b[0;34m,\u001b[0m \u001b[0msolver_type\u001b[0m\u001b[0;34m,\u001b[0m \u001b[0mtol\u001b[0m\u001b[0;34m,\u001b[0m \u001b[0mbias\u001b[0m\u001b[0;34m,\u001b[0m \u001b[0mC\u001b[0m\u001b[0;34m,\u001b[0m\u001b[0;34m\u001b[0m\u001b[0;34m\u001b[0m\u001b[0m\n\u001b[1;32m    968\u001b[0m         \u001b[0mclass_weight_\u001b[0m\u001b[0;34m,\u001b[0m \u001b[0mmax_iter\u001b[0m\u001b[0;34m,\u001b[0m \u001b[0mrnd\u001b[0m\u001b[0;34m.\u001b[0m\u001b[0mrandint\u001b[0m\u001b[0;34m(\u001b[0m\u001b[0mnp\u001b[0m\u001b[0;34m.\u001b[0m\u001b[0miinfo\u001b[0m\u001b[0;34m(\u001b[0m\u001b[0;34m'i'\u001b[0m\u001b[0;34m)\u001b[0m\u001b[0;34m.\u001b[0m\u001b[0mmax\u001b[0m\u001b[0;34m)\u001b[0m\u001b[0;34m,\u001b[0m\u001b[0;34m\u001b[0m\u001b[0;34m\u001b[0m\u001b[0m\n",
      "\u001b[0;31mKeyboardInterrupt\u001b[0m: "
     ]
    }
   ],
   "source": [
    "# **Entrenamiento de Modelos Finales**\n",
    "from sklearn.decomposition import PCA\n",
    "\n",
    "# Realiza la selección de características en todo el conjunto de entrenamiento\n",
    "MI = mutual_info_classif(X_scaled, y_encoded)\n",
    "n_features_mi = 5000\n",
    "selected_scores_indices = np.argsort(MI)[::-1][:n_features_mi]\n",
    "X_mi = X_scaled.iloc[:, selected_scores_indices]\n",
    "\n",
    "estimator = linear_model.LogisticRegression(max_iter=700, solver='liblinear')\n",
    "n_features_rfe = 2000\n",
    "rfe = RFE(estimator=estimator, n_features_to_select=n_features_rfe, step=1)\n",
    "rfe.fit(X_mi, y_encoded)\n",
    "X_selected = rfe.transform(X_mi)\n",
    "X_final=X_selected\n",
    "\n",
    "\n",
    "# Aplicar PCA para reducir la dimensionalidad\n",
    "n_components_pca = 20  # Número de componentes principales que deseas conservar\n",
    "pca = PCA(n_components=n_components_pca)\n",
    "X_final = pca.fit_transform(X_selected,y_encoded)\n",
    "\n",
    "#k_value = min(100, X_selected.shape[1])\n",
    "#selection = SelectKBest(f_classif, k=k_value)\n",
    "#X_final = selection.fit_transform(X_selected, y_encoded)"
   ]
  },
  {
   "cell_type": "code",
   "execution_count": 501,
   "metadata": {},
   "outputs": [
    {
     "data": {
      "image/png": "[encoded data removed]",
      "text/plain": [
       "<Figure size 576x432 with 1 Axes>"
      ]
     },
     "metadata": {
      "needs_background": "light"
     },
     "output_type": "display_data"
    }
   ],
   "source": [
    "import matplotlib.pyplot as plt\n",
    "\n",
    "# Visualizar la varianza explicada por cada componente principal\n",
    "explained_variance = pca.explained_variance_ratio_\n",
    "plt.figure(figsize=(8, 6))\n",
    "plt.bar(range(1, n_components_pca + 1), explained_variance, alpha=0.5, align='center', label='individual explained variance')\n",
    "plt.step(range(1, n_components_pca + 1), np.cumsum(explained_variance), where='mid', label='cumulative explained variance')\n",
    "plt.ylabel('Explained variance ratio')\n",
    "plt.xlabel('Principal components')\n",
    "plt.legend(loc='best')\n",
    "plt.title('Varianza Explicada por Componentes Principales')\n",
    "plt.show()"
   ]
  },
  {
   "cell_type": "code",
   "execution_count": 502,
   "metadata": {},
   "outputs": [
    {
     "name": "stdout",
     "output_type": "stream",
     "text": [
      "INFO:tensorflow:Assets written to: final_neural_network_model/assets\n"
     ]
    },
    {
     "name": "stderr",
     "output_type": "stream",
     "text": [
      "INFO:tensorflow:Assets written to: final_neural_network_model/assets\n"
     ]
    }
   ],
   "source": [
    "# Entrenar los modelos finales\n",
    "import os\n",
    "final_models = {}\n",
    "for name, clf_info in classifiers.items():\n",
    "    model = clf_info['model']\n",
    "    # Obtener los mejores hiperparámetros\n",
    "    param_counts = Counter(tuple(sorted(params.items())) for params in best_params[name])\n",
    "    most_common_params = dict(param_counts.most_common(1)[0][0])\n",
    "\n",
    "    # Crear pipeline con el modelo\n",
    "    pipeline = Pipeline([\n",
    "        (name.lower().replace(' ', '_'), model)\n",
    "    ])\n",
    "\n",
    "    # Establecer los hiperparámetros utilizando los nombres completos\n",
    "    pipeline.set_params(**most_common_params)\n",
    "    pipeline.fit(X_final, y_encoded)\n",
    "    final_models[name] = pipeline\n",
    "    # Guardar el modelo\n",
    "    joblib.dump(pipeline, f'final_{name.lower().replace(\" \", \"_\")}_model.pkl')\n",
    "\n",
    "# Entrenar el modelo final de la Red Neuronal\n",
    "clear_session()\n",
    "mlp = MLP(nb_input=X_final.shape[1])\n",
    "mlp.compile(loss='categorical_crossentropy', optimizer=opt, metrics=['accuracy'])\n",
    "Y_encoded = np_utils.to_categorical(y_encoded, num_classes=2)\n",
    "mlp.fit(X_final, Y_encoded, batch_size=16, epochs=100, verbose=0)\n",
    "mlp.save('final_neural_network_model')\n",
    "final_models['Neural Network'] = mlp\n"
   ]
  },
  {
   "cell_type": "code",
   "execution_count": 503,
   "metadata": {},
   "outputs": [
    {
     "name": "stdout",
     "output_type": "stream",
     "text": [
      "Evaluación del modelo SVM Linear en el conjunto reservado:\n",
      "              precision    recall  f1-score   support\n",
      "\n",
      "           0       0.57      1.00      0.72        39\n",
      "           1       0.00      0.00      0.00        30\n",
      "\n",
      "    accuracy                           0.57        69\n",
      "   macro avg       0.28      0.50      0.36        69\n",
      "weighted avg       0.32      0.57      0.41        69\n",
      "\n",
      "MCC (Matthews Correlation Coefficient) para SVM Linear: 0.000\n",
      "Evaluación del modelo SVM RBF en el conjunto reservado:\n",
      "              precision    recall  f1-score   support\n",
      "\n",
      "           0       0.57      1.00      0.72        39\n",
      "           1       0.00      0.00      0.00        30\n",
      "\n",
      "    accuracy                           0.57        69\n",
      "   macro avg       0.28      0.50      0.36        69\n",
      "weighted avg       0.32      0.57      0.41        69\n",
      "\n",
      "MCC (Matthews Correlation Coefficient) para SVM RBF: 0.000\n",
      "Evaluación del modelo Logistic Regression en el conjunto reservado:\n",
      "              precision    recall  f1-score   support\n",
      "\n",
      "           0       0.57      1.00      0.72        39\n",
      "           1       0.00      0.00      0.00        30\n",
      "\n",
      "    accuracy                           0.57        69\n",
      "   macro avg       0.28      0.50      0.36        69\n",
      "weighted avg       0.32      0.57      0.41        69\n",
      "\n",
      "MCC (Matthews Correlation Coefficient) para Logistic Regression: 0.000\n",
      "Evaluación del modelo Random Forest en el conjunto reservado:\n",
      "              precision    recall  f1-score   support\n",
      "\n",
      "           0       0.57      1.00      0.72        39\n",
      "           1       0.00      0.00      0.00        30\n",
      "\n",
      "    accuracy                           0.57        69\n",
      "   macro avg       0.28      0.50      0.36        69\n",
      "weighted avg       0.32      0.57      0.41        69\n",
      "\n",
      "MCC (Matthews Correlation Coefficient) para Random Forest: 0.000\n",
      "Evaluación del modelo Boosting en el conjunto reservado:\n",
      "              precision    recall  f1-score   support\n",
      "\n",
      "           0       0.57      1.00      0.72        39\n",
      "           1       0.00      0.00      0.00        30\n",
      "\n",
      "    accuracy                           0.57        69\n",
      "   macro avg       0.28      0.50      0.36        69\n",
      "weighted avg       0.32      0.57      0.41        69\n",
      "\n",
      "MCC (Matthews Correlation Coefficient) para Boosting: 0.000\n",
      "Evaluación del modelo Neural Network en el conjunto reservado:\n",
      "3/3 [==============================] - 0s 888us/step\n",
      "              precision    recall  f1-score   support\n",
      "\n",
      "           0       0.57      1.00      0.72        39\n",
      "           1       0.00      0.00      0.00        30\n",
      "\n",
      "    accuracy                           0.57        69\n",
      "   macro avg       0.28      0.50      0.36        69\n",
      "weighted avg       0.32      0.57      0.41        69\n",
      "\n",
      "MCC (Matthews Correlation Coefficient) para Neural Network: 0.000\n"
     ]
    }
   ],
   "source": [
    "# **Evaluación en el Conjunto Reservado**\n",
    "\n",
    "# Preprocesar el conjunto reservado\n",
    "X_reserved = microarray_data_common.drop('labels', axis=1)\n",
    "y_reserved = microarray_data_common['labels']\n",
    "y_reserved_encoded = label_encoder.transform(y_reserved)\n",
    "\n",
    "# Escalar las características\n",
    "X_reserved_scaled = min_max_scaler.transform(X_reserved)\n",
    "X_reserved_scaled = pd.DataFrame(X_reserved_scaled, columns=X_reserved.columns)\n",
    "\n",
    "# Selección de características\n",
    "X_reserved_mi = X_reserved_scaled.iloc[:, selected_scores_indices]\n",
    "X_reserved_final_1 = rfe.transform(X_reserved_mi)\n",
    "#X_reserved_final = selection.transform(X_reserved_selected)\n",
    "\n",
    "X_reserved_final = pca.transform(X_reserved_final_1)\n",
    "\n",
    "# Evaluar los modelos\n",
    "for name, model in final_models.items():\n",
    "    print(f\"Evaluación del modelo {name} en el conjunto reservado:\")\n",
    "    if name == 'Neural Network':\n",
    "        y_pred_reserved = np.argmax(model.predict(X_reserved_final), axis=1)\n",
    "    else:\n",
    "        y_pred_reserved = model.predict(X_reserved_final)\n",
    "    print(classification_report(y_reserved_encoded, y_pred_reserved))\n",
    "    mcc_reserved = matthews_corrcoef(y_reserved_encoded, y_pred_reserved)\n",
    "    print(f\"MCC (Matthews Correlation Coefficient) para {name}: {mcc_reserved:.3f}\")\n"
   ]
  },
  {
   "cell_type": "code",
   "execution_count": 504,
   "metadata": {},
   "outputs": [
    {
     "name": "stdout",
     "output_type": "stream",
     "text": [
      "\n",
      "Evaluación del modelo SVM Linear en el conjunto reservado:\n",
      "Matriz de confusión:\n",
      "[[39  0]\n",
      " [30  0]]\n",
      "\n",
      "Evaluación del modelo SVM RBF en el conjunto reservado:\n",
      "Matriz de confusión:\n",
      "[[39  0]\n",
      " [30  0]]\n",
      "\n",
      "Evaluación del modelo Logistic Regression en el conjunto reservado:\n",
      "Matriz de confusión:\n",
      "[[39  0]\n",
      " [30  0]]\n",
      "\n",
      "Evaluación del modelo Random Forest en el conjunto reservado:\n",
      "Matriz de confusión:\n",
      "[[39  0]\n",
      " [30  0]]\n",
      "\n",
      "Evaluación del modelo Boosting en el conjunto reservado:\n",
      "Matriz de confusión:\n",
      "[[39  0]\n",
      " [30  0]]\n",
      "\n",
      "Evaluación del modelo Neural Network en el conjunto reservado:\n",
      "3/3 [==============================] - 0s 879us/step\n",
      "Matriz de confusión:\n",
      "[[39  0]\n",
      " [30  0]]\n"
     ]
    },
    {
     "data": {
      "image/png": "[encoded data removed]",
      "text/plain": [
       "<Figure size 432x288 with 2 Axes>"
      ]
     },
     "metadata": {
      "needs_background": "light"
     },
     "output_type": "display_data"
    },
    {
     "data": {
      "image/png": "[encoded data removed]",
      "text/plain": [
       "<Figure size 432x288 with 2 Axes>"
      ]
     },
     "metadata": {
      "needs_background": "light"
     },
     "output_type": "display_data"
    },
    {
     "data": {
      "image/png": "[encoded data removed]",
      "text/plain": [
       "<Figure size 432x288 with 2 Axes>"
      ]
     },
     "metadata": {
      "needs_background": "light"
     },
     "output_type": "display_data"
    },
    {
     "data": {
      "image/png": "[encoded data removed]",
      "text/plain": [
       "<Figure size 432x288 with 2 Axes>"
      ]
     },
     "metadata": {
      "needs_background": "light"
     },
     "output_type": "display_data"
    },
    {
     "data": {
      "image/png": "[encoded data removed]",
      "text/plain": [
       "<Figure size 432x288 with 2 Axes>"
      ]
     },
     "metadata": {
      "needs_background": "light"
     },
     "output_type": "display_data"
    },
    {
     "data": {
      "image/png": "[encoded data removed]",
      "text/plain": [
       "<Figure size 432x288 with 2 Axes>"
      ]
     },
     "metadata": {
      "needs_background": "light"
     },
     "output_type": "display_data"
    }
   ],
   "source": [
    "from sklearn.metrics import confusion_matrix\n",
    "import seaborn as sns\n",
    "import matplotlib.pyplot as plt\n",
    "\n",
    "# Evaluar los modelos\n",
    "for name, model in final_models.items():\n",
    "    print(f\"\\nEvaluación del modelo {name} en el conjunto reservado:\")\n",
    "    if name == 'Neural Network':\n",
    "        y_pred_reserved = np.argmax(model.predict(X_reserved_final), axis=1)\n",
    "    else:\n",
    "        y_pred_reserved = model.predict(X_reserved_final)\n",
    "    \n",
    "    # Mostrar el reporte de clasificación\n",
    "    #print(classification_report(y_reserved_encoded, y_pred_reserved, target_names=label_encoder.classes_))\n",
    "    \n",
    "    # Calcular la matriz de confusión\n",
    "    cm = confusion_matrix(y_reserved_encoded, y_pred_reserved)\n",
    "    \n",
    "    # Mostrar la matriz de confusión\n",
    "    print(\"Matriz de confusión:\")\n",
    "    print(cm)\n",
    "    \n",
    "    # Visualizar la matriz de confusión\n",
    "    plt.figure(figsize=(6,4))\n",
    "    sns.heatmap(cm, annot=True, fmt='d', cmap='Blues', xticklabels=label_encoder.classes_, yticklabels=label_encoder.classes_)\n",
    "    plt.xlabel('Predicción')\n",
    "    plt.ylabel('Etiqueta Verdadera')\n",
    "    plt.title(f'Matriz de Confusión - {name}')\n",
    "    #plt.show()\n"
   ]
  },
  {
   "cell_type": "code",
   "execution_count": 505,
   "metadata": {},
   "outputs": [
    {
     "name": "stdout",
     "output_type": "stream",
     "text": [
      "Precisión promedio del predictor aleatorio: 0.8821\n",
      "\n",
      "Reporte de clasificación del predictor aleatorio:\n",
      "              precision    recall  f1-score   support\n",
      "\n",
      "           0       0.88      1.00      0.94       374\n",
      "           1       0.00      0.00      0.00        50\n",
      "\n",
      "    accuracy                           0.88       424\n",
      "   macro avg       0.44      0.50      0.47       424\n",
      "weighted avg       0.78      0.88      0.83       424\n",
      "\n",
      "Predictor Aleatorio - Accuracy: 0.8821, F1 Score: 0.8268, MCC: 0.0000\n",
      "SVM Linear - Accuracy: 0.9000, F1 Score: 0.9137, MCC: 0.6667\n",
      "SVM RBF - Accuracy: 0.9000, F1 Score: 0.9137, MCC: 0.6667\n",
      "Logistic Regression - Accuracy: 0.9000, F1 Score: 0.9137, MCC: 0.6667\n",
      "Random Forest - Accuracy: 0.9000, F1 Score: 0.9137, MCC: 0.6667\n",
      "Boosting - Accuracy: 0.9000, F1 Score: 0.9137, MCC: 0.6667\n",
      "Neural Network - Accuracy: 0.9000, F1 Score: 0.9137, MCC: 0.6667\n",
      "\n",
      "Comparación de métricas:\n",
      "                     Accuracy  F1 Score       MCC\n",
      "SVM Linear           0.900000  0.913725  0.666667\n",
      "SVM RBF              0.900000  0.913725  0.666667\n",
      "Logistic Regression  0.900000  0.913725  0.666667\n",
      "Random Forest        0.900000  0.913725  0.666667\n",
      "Boosting             0.900000  0.913725  0.666667\n",
      "Neural Network       0.900000  0.913725  0.666667\n",
      "Predictor Aleatorio  0.882075  0.826808  0.000000\n",
      "\n",
      "Mejores hiperparámetros para cada modelo:\n",
      "SVM Linear: {'svm_linear__C': 0.1}\n",
      "SVM RBF: {'svm_rbf__C': 0.1, 'svm_rbf__gamma': 'auto'}\n",
      "Logistic Regression: {'logistic_regression__C': 10, 'logistic_regression__penalty': 'l2'}\n",
      "Random Forest: {'random_forest__max_depth': None, 'random_forest__min_samples_split': 2, 'random_forest__n_estimators': 30}\n",
      "Boosting: {'boosting__learning_rate': 0.01, 'boosting__n_estimators': 10}\n"
     ]
    }
   ],
   "source": [
    "# Importar las librerías necesarias\n",
    "from sklearn.dummy import DummyClassifier\n",
    "from sklearn.model_selection import cross_val_score, cross_val_predict, LeaveOneOut\n",
    "from sklearn.metrics import classification_report, matthews_corrcoef, accuracy_score, f1_score\n",
    "from sklearn.pipeline import make_pipeline\n",
    "from sklearn.preprocessing import MinMaxScaler\n",
    "from collections import Counter\n",
    "import pandas as pd\n",
    "\n",
    "# Suponiendo que ya tienes:\n",
    "# X: tus características originales (no escaladas)\n",
    "# y_encoded: tus etiquetas codificadas\n",
    "# predictions: diccionario con las predicciones de tus modelos\n",
    "# y_true: etiquetas verdaderas obtenidas durante la validación cruzada\n",
    "# best_params: diccionario con los mejores hiperparámetros de tus modelos\n",
    "\n",
    "# Configurar la validación cruzada Leave-One-Out\n",
    "loo = LeaveOneOut()\n",
    "\n",
    "# Crear el pipeline que incluye el escalado y el predictor aleatorio\n",
    "pipeline_dummy = make_pipeline(\n",
    "    StandardScaler(),\n",
    "    DummyClassifier(strategy='uniform', random_state=42)\n",
    ")\n",
    "\n",
    "# Evaluar el predictor aleatorio con cross_val_score\n",
    "scores_dummy = cross_val_score(pipeline_dummy, X, y_encoded, cv=loo, scoring='accuracy')\n",
    "print(f\"Precisión promedio del predictor aleatorio: {scores_dummy.mean():.4f}\")\n",
    "\n",
    "# Obtener predicciones con cross_val_predict\n",
    "y_pred_dummy = cross_val_predict(pipeline_dummy, X, y_encoded, cv=loo)\n",
    "\n",
    "# Calcular y mostrar las métricas para el predictor aleatorio\n",
    "print(\"\\nReporte de clasificación del predictor aleatorio:\")\n",
    "print(classification_report(y_encoded, y_pred_dummy))\n",
    "\n",
    "acc_dummy = accuracy_score(y_encoded, y_pred_dummy)\n",
    "f1_dummy = f1_score(y_encoded, y_pred_dummy, average='weighted')\n",
    "mcc_dummy = matthews_corrcoef(y_encoded, y_pred_dummy)\n",
    "print(f\"Predictor Aleatorio - Accuracy: {acc_dummy:.4f}, F1 Score: {f1_dummy:.4f}, MCC: {mcc_dummy:.4f}\")\n",
    "\n",
    "# Evaluar tus modelos y almacenar las métricas\n",
    "metrics = {}\n",
    "\n",
    "for name in predictions.keys():\n",
    "    y_pred = predictions[name]\n",
    "    acc = accuracy_score(y_true, y_pred)\n",
    "    f1 = f1_score(y_true, y_pred, average='weighted')\n",
    "    mcc = matthews_corrcoef(y_true, y_pred)\n",
    "    metrics[name] = {\n",
    "        'Accuracy': acc,\n",
    "        'F1 Score': f1,\n",
    "        'MCC': mcc\n",
    "    }\n",
    "    print(f\"{name} - Accuracy: {acc:.4f}, F1 Score: {f1:.4f}, MCC: {mcc:.4f}\")\n",
    "\n",
    "# Añadir las métricas del predictor aleatorio al diccionario\n",
    "metrics['Predictor Aleatorio'] = {\n",
    "    'Accuracy': acc_dummy,\n",
    "    'F1 Score': f1_dummy,\n",
    "    'MCC': mcc_dummy\n",
    "}\n",
    "\n",
    "# Mostrar las métricas en una tabla\n",
    "metrics_df = pd.DataFrame(metrics).T  # Transponer para que los modelos sean las filas\n",
    "print(\"\\nComparación de métricas:\")\n",
    "print(metrics_df)\n",
    "\n",
    "# Analizar los mejores hiperparámetros\n",
    "print(\"\\nMejores hiperparámetros para cada modelo:\")\n",
    "for name, params_list in best_params.items():\n",
    "    param_counts = Counter(tuple(sorted(params.items())) for params in params_list)\n",
    "    most_common_params = dict(param_counts.most_common(1)[0][0])\n",
    "    print(f\"{name}: {most_common_params}\")\n"
   ]
  }
 ],
 "metadata": {
  "kernelspec": {
   "display_name": "Python 3",
   "language": "python",
   "name": "python3"
  },
  "language_info": {
   "codemirror_mode": {
    "name": "ipython",
    "version": 3
   },
   "file_extension": ".py",
   "mimetype": "text/x-python",
   "name": "python",
   "nbconvert_exporter": "python",
   "pygments_lexer": "ipython3",
   "version": "3.10.12"
  }
 },
 "nbformat": 4,
 "nbformat_minor": 2
}
